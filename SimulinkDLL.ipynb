{
 "cells": [
  {
   "cell_type": "markdown",
   "metadata": {},
   "source": [
    "http://www.mathworks.com/help/ecoder/ug/creating-and-using-host-based-shared-libraries.html"
   ]
  },
  {
   "cell_type": "code",
   "execution_count": 1,
   "metadata": {
    "collapsed": true
   },
   "outputs": [],
   "source": [
    "import ctypes\n",
    "import os\n",
    "from cffi import FFI"
   ]
  },
  {
   "cell_type": "code",
   "execution_count": 5,
   "metadata": {
    "collapsed": true
   },
   "outputs": [],
   "source": [
    "header = r\"Example\\dllModel_ert_shrlib_rtw\\dllModel.h\"\n",
    "\n",
    "\n",
    "import pygccxml\n",
    "\n",
    "from pygccxml import utils\n",
    "from pygccxml import declarations\n",
    "from pygccxml import parser"
   ]
  },
  {
   "cell_type": "code",
   "execution_count": 6,
   "metadata": {
    "collapsed": true
   },
   "outputs": [],
   "source": [
    "# Configure the xml generator\n",
    "xml_generator_config = parser.xml_generator_configuration_t(\n",
    "    xml_generator_path=r\"castxml\\bin\\castxml.exe\",\n",
    "    xml_generator=\"castxml\",\n",
    "    compiler_path=r\"C:\\MATLAB\\SupportPackages\\R2015b\\MW_MinGW_4_9\\bin\\gcc.exe\")"
   ]
  },
  {
   "cell_type": "code",
   "execution_count": 7,
   "metadata": {},
   "outputs": [
    {
     "data": {
      "text/plain": [
       "True"
      ]
     },
     "execution_count": 7,
     "metadata": {},
     "output_type": "execute_result"
    }
   ],
   "source": [
    "os.path.exists(header)"
   ]
  },
  {
   "cell_type": "code",
   "execution_count": 8,
   "metadata": {},
   "outputs": [
    {
     "name": "stderr",
     "output_type": "stream",
     "text": [
      "INFO Parsing source file \"Example\\dllModel_ert_shrlib_rtw\\dllModel.h\" ... \n"
     ]
    }
   ],
   "source": [
    "decls = parser.parse([header], xml_generator_config)\n",
    "ns = decls[0]"
   ]
  },
  {
   "cell_type": "code",
   "execution_count": 9,
   "metadata": {},
   "outputs": [
    {
     "name": "stdout",
     "output_type": "stream",
     "text": [
      "# Enum types\n"
     ]
    }
   ],
   "source": [
    "print(\"# Enum types\")\n",
    "for x in ns.typedefs():\n",
    "    if declarations.is_enum(x):\n",
    "        print(\"{} = ctypes.c_uint\".format(x.name))"
   ]
  },
  {
   "cell_type": "code",
   "execution_count": 10,
   "metadata": {},
   "outputs": [
    {
     "name": "stdout",
     "output_type": "stream",
     "text": [
      "class threadlocaleinfostruct(ctypes.Structure):\n",
      "    _fields_ = [\n"
     ]
    },
    {
     "ename": "NameError",
     "evalue": "name 'cpptype_to_ctypes' is not defined",
     "output_type": "error",
     "traceback": [
      "\u001b[1;31m---------------------------------------------------------------------------\u001b[0m",
      "\u001b[1;31mNameError\u001b[0m                                 Traceback (most recent call last)",
      "\u001b[1;32m<ipython-input-10-9dfd2a9eb2a6>\u001b[0m in \u001b[0;36m<module>\u001b[1;34m()\u001b[0m\n\u001b[0;32m      5\u001b[0m         \u001b[0mprint\u001b[0m\u001b[1;33m(\u001b[0m\u001b[1;34m\"{}_fields_ = [\"\u001b[0m\u001b[1;33m.\u001b[0m\u001b[0mformat\u001b[0m\u001b[1;33m(\u001b[0m\u001b[1;34m\" \"\u001b[0m\u001b[1;33m*\u001b[0m\u001b[1;36m4\u001b[0m\u001b[1;33m*\u001b[0m\u001b[0mi\u001b[0m\u001b[1;33m)\u001b[0m\u001b[1;33m)\u001b[0m\u001b[1;33m\u001b[0m\u001b[0m\n\u001b[0;32m      6\u001b[0m         \u001b[1;32mfor\u001b[0m \u001b[0mvar\u001b[0m \u001b[1;32min\u001b[0m \u001b[0mx\u001b[0m\u001b[1;33m.\u001b[0m\u001b[0mvariables\u001b[0m\u001b[1;33m(\u001b[0m\u001b[1;33m)\u001b[0m\u001b[1;33m:\u001b[0m\u001b[1;33m\u001b[0m\u001b[0m\n\u001b[1;32m----> 7\u001b[1;33m             \u001b[0mprint\u001b[0m\u001b[1;33m(\u001b[0m\u001b[1;34m\"{}(\\\"{}\\\", {}),\"\u001b[0m\u001b[1;33m.\u001b[0m\u001b[0mformat\u001b[0m\u001b[1;33m(\u001b[0m\u001b[1;34m\" \"\u001b[0m\u001b[1;33m*\u001b[0m\u001b[1;33m(\u001b[0m\u001b[1;36m4\u001b[0m\u001b[1;33m*\u001b[0m\u001b[1;33m(\u001b[0m\u001b[0mi\u001b[0m\u001b[1;33m+\u001b[0m\u001b[1;36m1\u001b[0m\u001b[1;33m)\u001b[0m\u001b[1;33m)\u001b[0m\u001b[1;33m,\u001b[0m\u001b[0mvar\u001b[0m\u001b[1;33m.\u001b[0m\u001b[0mname\u001b[0m\u001b[1;33m,\u001b[0m\u001b[0mcpptype_to_ctypes\u001b[0m\u001b[1;33m(\u001b[0m\u001b[0mvar\u001b[0m\u001b[1;33m.\u001b[0m\u001b[0mdecl_type\u001b[0m\u001b[1;33m)\u001b[0m\u001b[1;33m)\u001b[0m\u001b[1;33m)\u001b[0m\u001b[1;33m\u001b[0m\u001b[0m\n\u001b[0m\u001b[0;32m      8\u001b[0m         \u001b[0mprint\u001b[0m\u001b[1;33m(\u001b[0m\u001b[1;34m\"{}]\"\u001b[0m\u001b[1;33m.\u001b[0m\u001b[0mformat\u001b[0m\u001b[1;33m(\u001b[0m\u001b[1;34m\" \"\u001b[0m\u001b[1;33m*\u001b[0m\u001b[1;33m(\u001b[0m\u001b[1;36m4\u001b[0m\u001b[1;33m*\u001b[0m\u001b[0mi\u001b[0m\u001b[1;33m)\u001b[0m\u001b[1;33m)\u001b[0m\u001b[1;33m)\u001b[0m\u001b[1;33m\u001b[0m\u001b[0m\n\u001b[0;32m      9\u001b[0m         \u001b[0mprint\u001b[0m\u001b[1;33m(\u001b[0m\u001b[1;33m)\u001b[0m\u001b[1;33m\u001b[0m\u001b[0m\n",
      "\u001b[1;31mNameError\u001b[0m: name 'cpptype_to_ctypes' is not defined"
     ]
    }
   ],
   "source": [
    "i=1\n",
    "for x in ns.classes():\n",
    "    if declarations.is_struct(x): #x.name in [\"Appversion\", \"TApplicationType\", \"TApplicationID\", \"TAsap3Hdl\", \"version_t\"]:\n",
    "        print(\"class {}(ctypes.Structure):\".format(x.name))\n",
    "        print(\"{}_fields_ = [\".format(\" \"*4*i))\n",
    "        for var in x.variables():\n",
    "            print(\"{}(\\\"{}\\\", {}),\".format(\" \"*(4*(i+1)),var.name,cpptype_to_ctypes(var.decl_type)))\n",
    "        print(\"{}]\".format(\" \"*(4*i)))\n",
    "        print()"
   ]
  },
  {
   "cell_type": "code",
   "execution_count": 11,
   "metadata": {},
   "outputs": [
    {
     "name": "stdout",
     "output_type": "stream",
     "text": [
      "dllModel_initialize = dll.dllModel_initialize\n",
      "dllModel_step = dll.dllModel_step\n",
      "dllModel_terminate = dll.dllModel_terminate\n"
     ]
    }
   ],
   "source": [
    "for dec in ns.declarations:\n",
    "    # Skip unsupported and other functions.\n",
    "#     if dec.name.startswith(\"_\"):\n",
    "#         continue\n",
    "    if not dec.name.startswith(\"dllModel\"):\n",
    "        continue\n",
    "    if isinstance(dec, declarations.free_calldef.free_function_t):\n",
    "        print(\"{} = dll.{}\".format(dec.name, dec.name))\n",
    "        args = list()\n",
    "        for arg_t in dec.argument_types:\n",
    "            args.append(cpptype_to_ctypes(arg_t))\n",
    "        arg_str = \"        self.{}.argtypes = [\".format(dec.name)\n",
    "        \n",
    "        \n",
    "        continue\n",
    "        print(\"self.{} = dll.{}\".format(dec.name, dec.name))\n",
    "        if pfx==\"#\":\n",
    "            continue\n",
    "        print(\"        {}self.{}.restype = {}\".format(pfx, dec.name, cpptype_to_ctypes(dec.return_type)))\n",
    "        if isinstance(dec.return_type, pygccxml.declarations.cpptypes.bool_t):\n",
    "            print(\"        {}self.{}.errcheck = self.errcheck\".format(pfx,dec.name))\n",
    "        args = list()\n",
    "        for arg_t in dec.argument_types:\n",
    "            args.append(cpptype_to_ctypes(arg_t))\n",
    "        arg_str = \"        {}self.{}.argtypes = [\".format(pfx, dec.name)\n",
    "        \n",
    "        print(arg_str+(\",\\n\"+\" \"*len(arg_str)).join(args)+\"]\")\n",
    "\n",
    "        #print(\"    self.{}.argtypes = [{}]\".format(dec.name, \", \".join(args)))\n",
    "        print()"
   ]
  },
  {
   "cell_type": "code",
   "execution_count": 12,
   "metadata": {},
   "outputs": [
    {
     "name": "stdout",
     "output_type": "stream",
     "text": [
      "# Standard Types\n",
      "class ssize_t(long long int):\n",
      "    \"\"\"\n",
      "        ssize_t:\n",
      "    \"\"\"\n",
      "    def __repr__(self):\n",
      "        return \"{}<>\".format(self.__class__.__name__)\n",
      "\n",
      "class intptr_t(long long int):\n",
      "    \"\"\"\n",
      "        intptr_t:\n",
      "    \"\"\"\n",
      "    def __repr__(self):\n",
      "        return \"{}<>\".format(self.__class__.__name__)\n",
      "\n",
      "class uintptr_t(long long unsigned int):\n",
      "    \"\"\"\n",
      "        uintptr_t:\n",
      "    \"\"\"\n",
      "    def __repr__(self):\n",
      "        return \"{}<>\".format(self.__class__.__name__)\n",
      "\n",
      "class ptrdiff_t(long long int):\n",
      "    \"\"\"\n",
      "        ptrdiff_t:\n",
      "    \"\"\"\n",
      "    def __repr__(self):\n",
      "        return \"{}<>\".format(self.__class__.__name__)\n",
      "\n",
      "class wint_t(short unsigned int):\n",
      "    \"\"\"\n",
      "        wint_t:\n",
      "    \"\"\"\n",
      "    def __repr__(self):\n",
      "        return \"{}<>\".format(self.__class__.__name__)\n",
      "\n",
      "class wctype_t(short unsigned int):\n",
      "    \"\"\"\n",
      "        wctype_t:\n",
      "    \"\"\"\n",
      "    def __repr__(self):\n",
      "        return \"{}<>\".format(self.__class__.__name__)\n",
      "\n",
      "class errno_t(int):\n",
      "    \"\"\"\n",
      "        errno_t:\n",
      "    \"\"\"\n",
      "    def __repr__(self):\n",
      "        return \"{}<>\".format(self.__class__.__name__)\n",
      "\n",
      "class __time32_t(long int):\n",
      "    \"\"\"\n",
      "        __time32_t:\n",
      "    \"\"\"\n",
      "    def __repr__(self):\n",
      "        return \"{}<>\".format(self.__class__.__name__)\n",
      "\n",
      "class __time64_t(long long int):\n",
      "    \"\"\"\n",
      "        __time64_t:\n",
      "    \"\"\"\n",
      "    def __repr__(self):\n",
      "        return \"{}<>\".format(self.__class__.__name__)\n",
      "\n",
      "class int8_T(signed char):\n",
      "    \"\"\"\n",
      "        int8_T:\n",
      "    \"\"\"\n",
      "    def __repr__(self):\n",
      "        return \"{}<>\".format(self.__class__.__name__)\n",
      "\n",
      "class uint8_T(unsigned char):\n",
      "    \"\"\"\n",
      "        uint8_T:\n",
      "    \"\"\"\n",
      "    def __repr__(self):\n",
      "        return \"{}<>\".format(self.__class__.__name__)\n",
      "\n",
      "class int16_T(short int):\n",
      "    \"\"\"\n",
      "        int16_T:\n",
      "    \"\"\"\n",
      "    def __repr__(self):\n",
      "        return \"{}<>\".format(self.__class__.__name__)\n",
      "\n",
      "class uint16_T(short unsigned int):\n",
      "    \"\"\"\n",
      "        uint16_T:\n",
      "    \"\"\"\n",
      "    def __repr__(self):\n",
      "        return \"{}<>\".format(self.__class__.__name__)\n",
      "\n",
      "class int32_T(int):\n",
      "    \"\"\"\n",
      "        int32_T:\n",
      "    \"\"\"\n",
      "    def __repr__(self):\n",
      "        return \"{}<>\".format(self.__class__.__name__)\n",
      "\n",
      "class uint32_T(unsigned int):\n",
      "    \"\"\"\n",
      "        uint32_T:\n",
      "    \"\"\"\n",
      "    def __repr__(self):\n",
      "        return \"{}<>\".format(self.__class__.__name__)\n",
      "\n",
      "class int64_T(long long int):\n",
      "    \"\"\"\n",
      "        int64_T:\n",
      "    \"\"\"\n",
      "    def __repr__(self):\n",
      "        return \"{}<>\".format(self.__class__.__name__)\n",
      "\n",
      "class uint64_T(long long unsigned int):\n",
      "    \"\"\"\n",
      "        uint64_T:\n",
      "    \"\"\"\n",
      "    def __repr__(self):\n",
      "        return \"{}<>\".format(self.__class__.__name__)\n",
      "\n",
      "class real32_T(float):\n",
      "    \"\"\"\n",
      "        real32_T:\n",
      "    \"\"\"\n",
      "    def __repr__(self):\n",
      "        return \"{}<>\".format(self.__class__.__name__)\n",
      "\n",
      "class real64_T(double):\n",
      "    \"\"\"\n",
      "        real64_T:\n",
      "    \"\"\"\n",
      "    def __repr__(self):\n",
      "        return \"{}<>\".format(self.__class__.__name__)\n",
      "\n",
      "class real_T(double):\n",
      "    \"\"\"\n",
      "        real_T:\n",
      "    \"\"\"\n",
      "    def __repr__(self):\n",
      "        return \"{}<>\".format(self.__class__.__name__)\n",
      "\n",
      "class time_T(double):\n",
      "    \"\"\"\n",
      "        time_T:\n",
      "    \"\"\"\n",
      "    def __repr__(self):\n",
      "        return \"{}<>\".format(self.__class__.__name__)\n",
      "\n",
      "class boolean_T(unsigned char):\n",
      "    \"\"\"\n",
      "        boolean_T:\n",
      "    \"\"\"\n",
      "    def __repr__(self):\n",
      "        return \"{}<>\".format(self.__class__.__name__)\n",
      "\n",
      "class int_T(int):\n",
      "    \"\"\"\n",
      "        int_T:\n",
      "    \"\"\"\n",
      "    def __repr__(self):\n",
      "        return \"{}<>\".format(self.__class__.__name__)\n",
      "\n",
      "class uint_T(unsigned int):\n",
      "    \"\"\"\n",
      "        uint_T:\n",
      "    \"\"\"\n",
      "    def __repr__(self):\n",
      "        return \"{}<>\".format(self.__class__.__name__)\n",
      "\n",
      "class ulong_T(long unsigned int):\n",
      "    \"\"\"\n",
      "        ulong_T:\n",
      "    \"\"\"\n",
      "    def __repr__(self):\n",
      "        return \"{}<>\".format(self.__class__.__name__)\n",
      "\n",
      "class ulonglong_T(long long unsigned int):\n",
      "    \"\"\"\n",
      "        ulonglong_T:\n",
      "    \"\"\"\n",
      "    def __repr__(self):\n",
      "        return \"{}<>\".format(self.__class__.__name__)\n",
      "\n",
      "class char_T(char):\n",
      "    \"\"\"\n",
      "        char_T:\n",
      "    \"\"\"\n",
      "    def __repr__(self):\n",
      "        return \"{}<>\".format(self.__class__.__name__)\n",
      "\n",
      "class uchar_T(unsigned char):\n",
      "    \"\"\"\n",
      "        uchar_T:\n",
      "    \"\"\"\n",
      "    def __repr__(self):\n",
      "        return \"{}<>\".format(self.__class__.__name__)\n",
      "\n"
     ]
    }
   ],
   "source": [
    "print(\"# Standard Types\")\n",
    "for x in ns.typedefs():\n",
    "    if x.name == \"size_t\":\n",
    "        continue\n",
    "    if hasattr(x.decl_type, 'CPPNAME'):\n",
    "        print(\"class {}({}):\".format(x.name, (x.decl_type.CPPNAME)))\n",
    "        print(\"    \\\"\\\"\\\"\")\n",
    "        print(\"        {}:\".format(x.name))\n",
    "        print(\"    \\\"\\\"\\\"\")\n",
    "        \n",
    "        print(\"    def __repr__(self):\")\n",
    "        print(\"        return \\\"{}<>\\\".format(self.__class__.__name__)\")\n",
    "        print()"
   ]
  },
  {
   "cell_type": "code",
   "execution_count": 13,
   "metadata": {},
   "outputs": [
    {
     "ename": "SyntaxError",
     "evalue": "invalid syntax (<ipython-input-13-f1b42c8afb1f>, line 2)",
     "output_type": "error",
     "traceback": [
      "\u001b[1;36m  File \u001b[1;32m\"<ipython-input-13-f1b42c8afb1f>\"\u001b[1;36m, line \u001b[1;32m2\u001b[0m\n\u001b[1;33m    class ptrdiff_t(long long int):\u001b[0m\n\u001b[1;37m                            ^\u001b[0m\n\u001b[1;31mSyntaxError\u001b[0m\u001b[1;31m:\u001b[0m invalid syntax\n"
     ]
    }
   ],
   "source": [
    "# Standard Types\n",
    "class ptrdiff_t(long long int):\n",
    "    \"\"\"\n",
    "        ptrdiff_t:\n",
    "    \"\"\"\n",
    "    def __repr__(self):\n",
    "        return \"{}<>\".format(self.__class__.__name__)\n",
    "\n",
    "class ssize_t(long long int):\n",
    "    \"\"\"\n",
    "        ssize_t:\n",
    "    \"\"\"\n",
    "    def __repr__(self):\n",
    "        return \"{}<>\".format(self.__class__.__name__)\n",
    "\n",
    "class intptr_t(long long int):\n",
    "    \"\"\"\n",
    "        intptr_t:\n",
    "    \"\"\"\n",
    "    def __repr__(self):\n",
    "        return \"{}<>\".format(self.__class__.__name__)\n",
    "\n",
    "class uintptr_t(long long unsigned int):\n",
    "    \"\"\"\n",
    "        uintptr_t:\n",
    "    \"\"\"\n",
    "    def __repr__(self):\n",
    "        return \"{}<>\".format(self.__class__.__name__)\n",
    "\n",
    "class wint_t(short unsigned int):\n",
    "    \"\"\"\n",
    "        wint_t:\n",
    "    \"\"\"\n",
    "    def __repr__(self):\n",
    "        return \"{}<>\".format(self.__class__.__name__)\n",
    "\n",
    "class wctype_t(short unsigned int):\n",
    "    \"\"\"\n",
    "        wctype_t:\n",
    "    \"\"\"\n",
    "    def __repr__(self):\n",
    "        return \"{}<>\".format(self.__class__.__name__)\n",
    "\n",
    "class errno_t(int):\n",
    "    \"\"\"\n",
    "        errno_t:\n",
    "    \"\"\"\n",
    "    def __repr__(self):\n",
    "        return \"{}<>\".format(self.__class__.__name__)\n",
    "\n",
    "class __time32_t(long int):\n",
    "    \"\"\"\n",
    "        __time32_t:\n",
    "    \"\"\"\n",
    "    def __repr__(self):\n",
    "        return \"{}<>\".format(self.__class__.__name__)\n",
    "\n",
    "class __time64_t(long long int):\n",
    "    \"\"\"\n",
    "        __time64_t:\n",
    "    \"\"\"\n",
    "    def __repr__(self):\n",
    "        return \"{}<>\".format(self.__class__.__name__)\n",
    "\n",
    "class int8_T(signed char):\n",
    "    \"\"\"\n",
    "        int8_T:\n",
    "    \"\"\"\n",
    "    def __repr__(self):\n",
    "        return \"{}<>\".format(self.__class__.__name__)\n",
    "\n",
    "class uint8_T(unsigned char):\n",
    "    \"\"\"\n",
    "        uint8_T:\n",
    "    \"\"\"\n",
    "    def __repr__(self):\n",
    "        return \"{}<>\".format(self.__class__.__name__)\n",
    "\n",
    "class int16_T(short int):\n",
    "    \"\"\"\n",
    "        int16_T:\n",
    "    \"\"\"\n",
    "    def __repr__(self):\n",
    "        return \"{}<>\".format(self.__class__.__name__)\n",
    "\n",
    "class uint16_T(short unsigned int):\n",
    "    \"\"\"\n",
    "        uint16_T:\n",
    "    \"\"\"\n",
    "    def __repr__(self):\n",
    "        return \"{}<>\".format(self.__class__.__name__)\n",
    "\n",
    "class int32_T(int):\n",
    "    \"\"\"\n",
    "        int32_T:\n",
    "    \"\"\"\n",
    "    def __repr__(self):\n",
    "        return \"{}<>\".format(self.__class__.__name__)\n",
    "\n",
    "class uint32_T(unsigned int):\n",
    "    \"\"\"\n",
    "        uint32_T:\n",
    "    \"\"\"\n",
    "    def __repr__(self):\n",
    "        return \"{}<>\".format(self.__class__.__name__)\n",
    "\n",
    "class int64_T(long long int):\n",
    "    \"\"\"\n",
    "        int64_T:\n",
    "    \"\"\"\n",
    "    def __repr__(self):\n",
    "        return \"{}<>\".format(self.__class__.__name__)\n",
    "\n",
    "class uint64_T(long long unsigned int):\n",
    "    \"\"\"\n",
    "        uint64_T:\n",
    "    \"\"\"\n",
    "    def __repr__(self):\n",
    "        return \"{}<>\".format(self.__class__.__name__)\n",
    "\n",
    "class real32_T(float):\n",
    "    \"\"\"\n",
    "        real32_T:\n",
    "    \"\"\"\n",
    "    def __repr__(self):\n",
    "        return \"{}<>\".format(self.__class__.__name__)\n",
    "\n",
    "class real64_T(double):\n",
    "    \"\"\"\n",
    "        real64_T:\n",
    "    \"\"\"\n",
    "    def __repr__(self):\n",
    "        return \"{}<>\".format(self.__class__.__name__)\n",
    "\n",
    "class real_T(double):\n",
    "    \"\"\"\n",
    "        real_T:\n",
    "    \"\"\"\n",
    "    def __repr__(self):\n",
    "        return \"{}<>\".format(self.__class__.__name__)\n",
    "\n",
    "class time_T(double):\n",
    "    \"\"\"\n",
    "        time_T:\n",
    "    \"\"\"\n",
    "    def __repr__(self):\n",
    "        return \"{}<>\".format(self.__class__.__name__)\n",
    "\n",
    "class boolean_T(unsigned char):\n",
    "    \"\"\"\n",
    "        boolean_T:\n",
    "    \"\"\"\n",
    "    def __repr__(self):\n",
    "        return \"{}<>\".format(self.__class__.__name__)\n",
    "\n",
    "class int_T(int):\n",
    "    \"\"\"\n",
    "        int_T:\n",
    "    \"\"\"\n",
    "    def __repr__(self):\n",
    "        return \"{}<>\".format(self.__class__.__name__)\n",
    "\n",
    "class uint_T(unsigned int):\n",
    "    \"\"\"\n",
    "        uint_T:\n",
    "    \"\"\"\n",
    "    def __repr__(self):\n",
    "        return \"{}<>\".format(self.__class__.__name__)\n",
    "\n",
    "class ulong_T(long unsigned int):\n",
    "    \"\"\"\n",
    "        ulong_T:\n",
    "    \"\"\"\n",
    "    def __repr__(self):\n",
    "        return \"{}<>\".format(self.__class__.__name__)\n",
    "\n",
    "class ulonglong_T(long long unsigned int):\n",
    "    \"\"\"\n",
    "        ulonglong_T:\n",
    "    \"\"\"\n",
    "    def __repr__(self):\n",
    "        return \"{}<>\".format(self.__class__.__name__)\n",
    "\n",
    "class char_T(char):\n",
    "    \"\"\"\n",
    "        char_T:\n",
    "    \"\"\"\n",
    "    def __repr__(self):\n",
    "        return \"{}<>\".format(self.__class__.__name__)\n",
    "\n",
    "class uchar_T(unsigned char):\n",
    "    \"\"\"\n",
    "        uchar_T:\n",
    "    \"\"\"\n",
    "    def __repr__(self):\n",
    "        return \"{}<>\".format(self.__class__.__name__)"
   ]
  },
  {
   "cell_type": "code",
   "execution_count": null,
   "metadata": {
    "collapsed": true
   },
   "outputs": [],
   "source": [
    "class threadlocaleinfostruct(ctypes.Structure):\n",
    "    _fields_ = [\n",
    "        (\"refcount\", ctypes.c_int),\n",
    "        (\"lc_codepage\", ctypes.c_uint),\n",
    "        (\"lc_collate_cp\", ctypes.c_uint),\n",
    "        (\"lc_handle\", ctypes.c_ulong),\n",
    "        (\"lc_id\", LC_ID[6]),\n",
    "        (\"locale\", ctypes.c_char_p),\n",
    "        (\"wlocale\", ctypes.POINTER(ctypes.c_wchar_t)),\n",
    "        (\"refcount\", ctypes.POINTER(ctypes.c_int)),\n",
    "        (\"wrefcount\", ctypes.POINTER(ctypes.c_int)),\n",
    "        (\"lc_category\", threadlocaleinfostruct[6]),\n",
    "        (\"lc_clike\", ctypes.c_int),\n",
    "        (\"mb_cur_max\", ctypes.c_int),\n",
    "        (\"lconv_intl_refcount\", ctypes.POINTER(ctypes.c_int)),\n",
    "        (\"lconv_num_refcount\", ctypes.POINTER(ctypes.c_int)),\n",
    "        (\"lconv_mon_refcount\", ctypes.POINTER(ctypes.c_int)),\n",
    "        (\"lconv\", ctypes.POINTER(lconv)),\n",
    "        (\"ctype1_refcount\", ctypes.POINTER(ctypes.c_int)),\n",
    "        (\"ctype1\", ctypes.POINTER(ctypes.c_ushort)),\n",
    "        (\"pctype\", ctypes.POINTER(ctypes.c_ushort)),\n",
    "        (\"pclmap\", ctypes.POINTER(ctypes.c_ubyte)),\n",
    "        (\"pcumap\", ctypes.POINTER(ctypes.c_ubyte)),\n",
    "        (\"lc_time_curr\", ctypes.POINTER(__lc_time_data)),\n",
    "    ]\n",
    "\n",
    "class (ctypes.Structure):\n",
    "    _fields_ = [\n",
    "        (\"locale\", ctypes.c_char_p),\n",
    "        (\"wlocale\", ctypes.POINTER(ctypes.c_wchar_t)),\n",
    "        (\"refcount\", ctypes.POINTER(ctypes.c_int)),\n",
    "        (\"wrefcount\", ctypes.POINTER(ctypes.c_int)),\n",
    "    ]\n",
    "\n",
    "class localeinfo_struct(ctypes.Structure):\n",
    "    _fields_ = [\n",
    "        (\"locinfo\", ctypes.POINTER(threadlocaleinfostruct)),\n",
    "        (\"mbcinfo\", ctypes.POINTER(threadmbcinfostruct)),\n",
    "    ]\n",
    "\n",
    "class tagLC_ID(ctypes.Structure):\n",
    "    _fields_ = [\n",
    "        (\"wLanguage\", ctypes.c_ushort),\n",
    "        (\"wCountry\", ctypes.c_ushort),\n",
    "        (\"wCodePage\", ctypes.c_ushort),\n",
    "    ]\n",
    "\n",
    "class creal32_T(ctypes.Structure):\n",
    "    _fields_ = [\n",
    "        (\"re\", real32_T),\n",
    "        (\"im\", real32_T),\n",
    "    ]\n",
    "\n",
    "class creal64_T(ctypes.Structure):\n",
    "    _fields_ = [\n",
    "        (\"re\", real64_T),\n",
    "        (\"im\", real64_T),\n",
    "    ]\n",
    "\n",
    "class creal_T(ctypes.Structure):\n",
    "    _fields_ = [\n",
    "        (\"re\", real_T),\n",
    "        (\"im\", real_T),\n",
    "    ]\n",
    "\n",
    "class cint8_T(ctypes.Structure):\n",
    "    _fields_ = [\n",
    "        (\"re\", int8_T),\n",
    "        (\"im\", int8_T),\n",
    "    ]\n",
    "\n",
    "class cuint8_T(ctypes.Structure):\n",
    "    _fields_ = [\n",
    "        (\"re\", uint8_T),\n",
    "        (\"im\", uint8_T),\n",
    "    ]\n",
    "\n",
    "class cint16_T(ctypes.Structure):\n",
    "    _fields_ = [\n",
    "        (\"re\", int16_T),\n",
    "        (\"im\", int16_T),\n",
    "    ]\n",
    "\n",
    "class cuint16_T(ctypes.Structure):\n",
    "    _fields_ = [\n",
    "        (\"re\", uint16_T),\n",
    "        (\"im\", uint16_T),\n",
    "    ]\n",
    "\n",
    "class cint32_T(ctypes.Structure):\n",
    "    _fields_ = [\n",
    "        (\"re\", int32_T),\n",
    "        (\"im\", int32_T),\n",
    "    ]\n",
    "\n",
    "class cuint32_T(ctypes.Structure):\n",
    "    _fields_ = [\n",
    "        (\"re\", uint32_T),\n",
    "        (\"im\", uint32_T),\n",
    "    ]\n",
    "\n",
    "class cint64_T(ctypes.Structure):\n",
    "    _fields_ = [\n",
    "        (\"re\", int64_T),\n",
    "        (\"im\", int64_T),\n",
    "    ]\n",
    "\n",
    "class cuint64_T(ctypes.Structure):\n",
    "    _fields_ = [\n",
    "        (\"re\", uint64_T),\n",
    "        (\"im\", uint64_T),\n",
    "    ]\n",
    "\n",
    "class tag_RTM_dllModel_T(ctypes.Structure):\n",
    "    _fields_ = [\n",
    "        (\"errorStatus\", ctypes.POINTER(ctypes.c_char)),\n",
    "    ]\n",
    "\n",
    "class B_dllModel_T(ctypes.Structure):\n",
    "    _fields_ = [\n",
    "        (\"SigOut\", real32_T),\n",
    "        (\"SigOut2\", real32_T),\n",
    "        (\"SimulinkGlobalAlias\", real32_T),\n",
    "    ]\n",
    "\n",
    "class ExtU_dllModel_T(ctypes.Structure):\n",
    "    _fields_ = [\n",
    "        (\"SigIn\", real32_T),\n",
    "        (\"SigIn2\", real32_T),\n",
    "        (\"SigIN3\", real32_T),\n",
    "        (\"SigIN4\", real32_T),\n",
    "    ]\n",
    "\n",
    "class ExtY_dllModel_T(ctypes.Structure):\n",
    "    _fields_ = [\n",
    "        (\"Out1\", real32_T),\n",
    "        (\"Out2\", real32_T),\n",
    "        (\"Out3\", real32_T),\n",
    "    ]"
   ]
  },
  {
   "cell_type": "code",
   "execution_count": 14,
   "metadata": {
    "collapsed": true
   },
   "outputs": [],
   "source": [
    "import ctypes"
   ]
  },
  {
   "cell_type": "code",
   "execution_count": 15,
   "metadata": {},
   "outputs": [
    {
     "ename": "OSError",
     "evalue": "[WinError 126] The specified module could not be found",
     "output_type": "error",
     "traceback": [
      "\u001b[1;31m---------------------------------------------------------------------------\u001b[0m",
      "\u001b[1;31mOSError\u001b[0m                                   Traceback (most recent call last)",
      "\u001b[1;32m<ipython-input-15-b804c3cd5d71>\u001b[0m in \u001b[0;36m<module>\u001b[1;34m()\u001b[0m\n\u001b[1;32m----> 1\u001b[1;33m \u001b[0mdll\u001b[0m \u001b[1;33m=\u001b[0m \u001b[0mctypes\u001b[0m\u001b[1;33m.\u001b[0m\u001b[0mwindll\u001b[0m\u001b[1;33m.\u001b[0m\u001b[0mLoadLibrary\u001b[0m\u001b[1;33m(\u001b[0m\u001b[1;34mr\"C:/ClearCase/C3038028_view/MBD/dllModel_win64.dll\"\u001b[0m\u001b[1;33m)\u001b[0m\u001b[1;33m\u001b[0m\u001b[0m\n\u001b[0m",
      "\u001b[1;32mC:\\Projects\\EatonPython-64bit-3.6\\python-3.6.1.amd64\\lib\\ctypes\\__init__.py\u001b[0m in \u001b[0;36mLoadLibrary\u001b[1;34m(self, name)\u001b[0m\n\u001b[0;32m    424\u001b[0m \u001b[1;33m\u001b[0m\u001b[0m\n\u001b[0;32m    425\u001b[0m     \u001b[1;32mdef\u001b[0m \u001b[0mLoadLibrary\u001b[0m\u001b[1;33m(\u001b[0m\u001b[0mself\u001b[0m\u001b[1;33m,\u001b[0m \u001b[0mname\u001b[0m\u001b[1;33m)\u001b[0m\u001b[1;33m:\u001b[0m\u001b[1;33m\u001b[0m\u001b[0m\n\u001b[1;32m--> 426\u001b[1;33m         \u001b[1;32mreturn\u001b[0m \u001b[0mself\u001b[0m\u001b[1;33m.\u001b[0m\u001b[0m_dlltype\u001b[0m\u001b[1;33m(\u001b[0m\u001b[0mname\u001b[0m\u001b[1;33m)\u001b[0m\u001b[1;33m\u001b[0m\u001b[0m\n\u001b[0m\u001b[0;32m    427\u001b[0m \u001b[1;33m\u001b[0m\u001b[0m\n\u001b[0;32m    428\u001b[0m \u001b[0mcdll\u001b[0m \u001b[1;33m=\u001b[0m \u001b[0mLibraryLoader\u001b[0m\u001b[1;33m(\u001b[0m\u001b[0mCDLL\u001b[0m\u001b[1;33m)\u001b[0m\u001b[1;33m\u001b[0m\u001b[0m\n",
      "\u001b[1;32mC:\\Projects\\EatonPython-64bit-3.6\\python-3.6.1.amd64\\lib\\ctypes\\__init__.py\u001b[0m in \u001b[0;36m__init__\u001b[1;34m(self, name, mode, handle, use_errno, use_last_error)\u001b[0m\n\u001b[0;32m    346\u001b[0m \u001b[1;33m\u001b[0m\u001b[0m\n\u001b[0;32m    347\u001b[0m         \u001b[1;32mif\u001b[0m \u001b[0mhandle\u001b[0m \u001b[1;32mis\u001b[0m \u001b[1;32mNone\u001b[0m\u001b[1;33m:\u001b[0m\u001b[1;33m\u001b[0m\u001b[0m\n\u001b[1;32m--> 348\u001b[1;33m             \u001b[0mself\u001b[0m\u001b[1;33m.\u001b[0m\u001b[0m_handle\u001b[0m \u001b[1;33m=\u001b[0m \u001b[0m_dlopen\u001b[0m\u001b[1;33m(\u001b[0m\u001b[0mself\u001b[0m\u001b[1;33m.\u001b[0m\u001b[0m_name\u001b[0m\u001b[1;33m,\u001b[0m \u001b[0mmode\u001b[0m\u001b[1;33m)\u001b[0m\u001b[1;33m\u001b[0m\u001b[0m\n\u001b[0m\u001b[0;32m    349\u001b[0m         \u001b[1;32melse\u001b[0m\u001b[1;33m:\u001b[0m\u001b[1;33m\u001b[0m\u001b[0m\n\u001b[0;32m    350\u001b[0m             \u001b[0mself\u001b[0m\u001b[1;33m.\u001b[0m\u001b[0m_handle\u001b[0m \u001b[1;33m=\u001b[0m \u001b[0mhandle\u001b[0m\u001b[1;33m\u001b[0m\u001b[0m\n",
      "\u001b[1;31mOSError\u001b[0m: [WinError 126] The specified module could not be found"
     ]
    }
   ],
   "source": [
    "dll = ctypes.windll.LoadLibrary(r\"C:/ClearCase/C3038028_view/MBD/dllModel_win64.dll\")"
   ]
  },
  {
   "cell_type": "code",
   "execution_count": 16,
   "metadata": {},
   "outputs": [
    {
     "ename": "NameError",
     "evalue": "name 'dll' is not defined",
     "output_type": "error",
     "traceback": [
      "\u001b[1;31m---------------------------------------------------------------------------\u001b[0m",
      "\u001b[1;31mNameError\u001b[0m                                 Traceback (most recent call last)",
      "\u001b[1;32m<ipython-input-16-364ed80a24b5>\u001b[0m in \u001b[0;36m<module>\u001b[1;34m()\u001b[0m\n\u001b[1;32m----> 1\u001b[1;33m \u001b[0mdllModel_initialize\u001b[0m \u001b[1;33m=\u001b[0m \u001b[0mdll\u001b[0m\u001b[1;33m.\u001b[0m\u001b[0mdllModel_initialize\u001b[0m\u001b[1;33m\u001b[0m\u001b[0m\n\u001b[0m\u001b[0;32m      2\u001b[0m \u001b[0mdllModel_step\u001b[0m \u001b[1;33m=\u001b[0m \u001b[0mdll\u001b[0m\u001b[1;33m.\u001b[0m\u001b[0mdllModel_step\u001b[0m\u001b[1;33m\u001b[0m\u001b[0m\n\u001b[0;32m      3\u001b[0m \u001b[0mdllModel_terminate\u001b[0m \u001b[1;33m=\u001b[0m \u001b[0mdll\u001b[0m\u001b[1;33m.\u001b[0m\u001b[0mdllModel_terminate\u001b[0m\u001b[1;33m\u001b[0m\u001b[0m\n",
      "\u001b[1;31mNameError\u001b[0m: name 'dll' is not defined"
     ]
    }
   ],
   "source": [
    "dllModel_initialize = dll.dllModel_initialize\n",
    "dllModel_step = dll.dllModel_step\n",
    "dllModel_terminate = dll.dllModel_terminate"
   ]
  },
  {
   "cell_type": "code",
   "execution_count": 17,
   "metadata": {
    "collapsed": true
   },
   "outputs": [],
   "source": [
    "class tag_RTM_dllModel_T(ctypes.Structure):\n",
    "    _fields_ = [\n",
    "        (\"errorStatus\", ctypes.POINTER(ctypes.c_char)),\n",
    "    ]"
   ]
  },
  {
   "cell_type": "code",
   "execution_count": 18,
   "metadata": {},
   "outputs": [
    {
     "ename": "NameError",
     "evalue": "name 'dllModel_initialize' is not defined",
     "output_type": "error",
     "traceback": [
      "\u001b[1;31m---------------------------------------------------------------------------\u001b[0m",
      "\u001b[1;31mNameError\u001b[0m                                 Traceback (most recent call last)",
      "\u001b[1;32m<ipython-input-18-0e58683f7adb>\u001b[0m in \u001b[0;36m<module>\u001b[1;34m()\u001b[0m\n\u001b[1;32m----> 1\u001b[1;33m \u001b[0mdllModel_initialize\u001b[0m\u001b[1;33m(\u001b[0m\u001b[1;33m)\u001b[0m\u001b[1;33m\u001b[0m\u001b[0m\n\u001b[0m",
      "\u001b[1;31mNameError\u001b[0m: name 'dllModel_initialize' is not defined"
     ]
    }
   ],
   "source": [
    "dllModel_initialize()"
   ]
  },
  {
   "cell_type": "code",
   "execution_count": 19,
   "metadata": {},
   "outputs": [
    {
     "ename": "NameError",
     "evalue": "name 'ExtU_dllModel_T' is not defined",
     "output_type": "error",
     "traceback": [
      "\u001b[1;31m---------------------------------------------------------------------------\u001b[0m",
      "\u001b[1;31mNameError\u001b[0m                                 Traceback (most recent call last)",
      "\u001b[1;32m<ipython-input-19-7163189e1f31>\u001b[0m in \u001b[0;36m<module>\u001b[1;34m()\u001b[0m\n\u001b[1;32m----> 1\u001b[1;33m \u001b[0mdllModel_U\u001b[0m \u001b[1;33m=\u001b[0m \u001b[0mExtU_dllModel_T\u001b[0m\u001b[1;33m.\u001b[0m\u001b[0min_dll\u001b[0m\u001b[1;33m(\u001b[0m\u001b[0mdll\u001b[0m\u001b[1;33m,\u001b[0m \u001b[1;34m\"dllModel_U\"\u001b[0m\u001b[1;33m)\u001b[0m\u001b[1;33m\u001b[0m\u001b[0m\n\u001b[0m\u001b[0;32m      2\u001b[0m \u001b[0mdllModel_Y\u001b[0m \u001b[1;33m=\u001b[0m \u001b[0mExtY_dllModel_T\u001b[0m\u001b[1;33m.\u001b[0m\u001b[0min_dll\u001b[0m\u001b[1;33m(\u001b[0m\u001b[0mdll\u001b[0m\u001b[1;33m,\u001b[0m \u001b[1;34m\"dllModel_Y\"\u001b[0m\u001b[1;33m)\u001b[0m\u001b[1;33m\u001b[0m\u001b[0m\n\u001b[0;32m      3\u001b[0m \u001b[0mK\u001b[0m \u001b[1;33m=\u001b[0m \u001b[0mreal32_T\u001b[0m\u001b[1;33m.\u001b[0m\u001b[0min_dll\u001b[0m\u001b[1;33m(\u001b[0m\u001b[0mdll\u001b[0m\u001b[1;33m,\u001b[0m \u001b[1;34m\"K\"\u001b[0m\u001b[1;33m)\u001b[0m\u001b[1;33m\u001b[0m\u001b[0m\n",
      "\u001b[1;31mNameError\u001b[0m: name 'ExtU_dllModel_T' is not defined"
     ]
    }
   ],
   "source": [
    "dllModel_U = ExtU_dllModel_T.in_dll(dll, \"dllModel_U\")\n",
    "dllModel_Y = ExtY_dllModel_T.in_dll(dll, \"dllModel_Y\")\n",
    "K = real32_T.in_dll(dll, \"K\")"
   ]
  },
  {
   "cell_type": "code",
   "execution_count": 20,
   "metadata": {},
   "outputs": [
    {
     "ename": "NameError",
     "evalue": "name 'dllModel_U' is not defined",
     "output_type": "error",
     "traceback": [
      "\u001b[1;31m---------------------------------------------------------------------------\u001b[0m",
      "\u001b[1;31mNameError\u001b[0m                                 Traceback (most recent call last)",
      "\u001b[1;32m<ipython-input-20-ddd77925bd12>\u001b[0m in \u001b[0;36m<module>\u001b[1;34m()\u001b[0m\n\u001b[1;32m----> 1\u001b[1;33m \u001b[0mdllModel_U\u001b[0m\u001b[1;33m\u001b[0m\u001b[0m\n\u001b[0m",
      "\u001b[1;31mNameError\u001b[0m: name 'dllModel_U' is not defined"
     ]
    }
   ],
   "source": [
    "dllModel_U"
   ]
  },
  {
   "cell_type": "code",
   "execution_count": 21,
   "metadata": {},
   "outputs": [
    {
     "ename": "NameError",
     "evalue": "name 'dllModel_step' is not defined",
     "output_type": "error",
     "traceback": [
      "\u001b[1;31m---------------------------------------------------------------------------\u001b[0m",
      "\u001b[1;31mNameError\u001b[0m                                 Traceback (most recent call last)",
      "\u001b[1;32m<ipython-input-21-df4ddaf7e73e>\u001b[0m in \u001b[0;36m<module>\u001b[1;34m()\u001b[0m\n\u001b[1;32m----> 1\u001b[1;33m \u001b[0mdllModel_step\u001b[0m\u001b[1;33m(\u001b[0m\u001b[1;33m)\u001b[0m\u001b[1;33m\u001b[0m\u001b[0m\n\u001b[0m",
      "\u001b[1;31mNameError\u001b[0m: name 'dllModel_step' is not defined"
     ]
    }
   ],
   "source": [
    "dllModel_step()"
   ]
  },
  {
   "cell_type": "code",
   "execution_count": 22,
   "metadata": {},
   "outputs": [
    {
     "ename": "NameError",
     "evalue": "name 'dllModel_Y' is not defined",
     "output_type": "error",
     "traceback": [
      "\u001b[1;31m---------------------------------------------------------------------------\u001b[0m",
      "\u001b[1;31mNameError\u001b[0m                                 Traceback (most recent call last)",
      "\u001b[1;32m<ipython-input-22-4420e4b66dc7>\u001b[0m in \u001b[0;36m<module>\u001b[1;34m()\u001b[0m\n\u001b[1;32m----> 1\u001b[1;33m \u001b[0mdllModel_Y\u001b[0m\u001b[1;33m.\u001b[0m\u001b[0mOut1\u001b[0m\u001b[1;33m\u001b[0m\u001b[0m\n\u001b[0m",
      "\u001b[1;31mNameError\u001b[0m: name 'dllModel_Y' is not defined"
     ]
    }
   ],
   "source": [
    "dllModel_Y.Out1"
   ]
  },
  {
   "cell_type": "code",
   "execution_count": 23,
   "metadata": {},
   "outputs": [
    {
     "ename": "NameError",
     "evalue": "name 'dllModel_U' is not defined",
     "output_type": "error",
     "traceback": [
      "\u001b[1;31m---------------------------------------------------------------------------\u001b[0m",
      "\u001b[1;31mNameError\u001b[0m                                 Traceback (most recent call last)",
      "\u001b[1;32m<ipython-input-23-3fce1d8fb180>\u001b[0m in \u001b[0;36m<module>\u001b[1;34m()\u001b[0m\n\u001b[1;32m----> 1\u001b[1;33m \u001b[0mdllModel_U\u001b[0m\u001b[1;33m.\u001b[0m\u001b[0mSigIn\u001b[0m\u001b[1;33m.\u001b[0m\u001b[0mvalue\u001b[0m\u001b[1;33m=\u001b[0m\u001b[1;36m1\u001b[0m\u001b[1;33m\u001b[0m\u001b[0m\n\u001b[0m",
      "\u001b[1;31mNameError\u001b[0m: name 'dllModel_U' is not defined"
     ]
    }
   ],
   "source": [
    "dllModel_U.SigIn.value=1"
   ]
  },
  {
   "cell_type": "code",
   "execution_count": 24,
   "metadata": {},
   "outputs": [
    {
     "ename": "NameError",
     "evalue": "name 'dllModel_step' is not defined",
     "output_type": "error",
     "traceback": [
      "\u001b[1;31m---------------------------------------------------------------------------\u001b[0m",
      "\u001b[1;31mNameError\u001b[0m                                 Traceback (most recent call last)",
      "\u001b[1;32m<ipython-input-24-df4ddaf7e73e>\u001b[0m in \u001b[0;36m<module>\u001b[1;34m()\u001b[0m\n\u001b[1;32m----> 1\u001b[1;33m \u001b[0mdllModel_step\u001b[0m\u001b[1;33m(\u001b[0m\u001b[1;33m)\u001b[0m\u001b[1;33m\u001b[0m\u001b[0m\n\u001b[0m",
      "\u001b[1;31mNameError\u001b[0m: name 'dllModel_step' is not defined"
     ]
    }
   ],
   "source": [
    "dllModel_step()"
   ]
  },
  {
   "cell_type": "code",
   "execution_count": 25,
   "metadata": {},
   "outputs": [
    {
     "ename": "NameError",
     "evalue": "name 'dllModel_U' is not defined",
     "output_type": "error",
     "traceback": [
      "\u001b[1;31m---------------------------------------------------------------------------\u001b[0m",
      "\u001b[1;31mNameError\u001b[0m                                 Traceback (most recent call last)",
      "\u001b[1;32m<ipython-input-25-0278a1a13fe3>\u001b[0m in \u001b[0;36m<module>\u001b[1;34m()\u001b[0m\n\u001b[1;32m----> 1\u001b[1;33m \u001b[0mdllModel_U\u001b[0m\u001b[1;33m.\u001b[0m\u001b[0m_fields_\u001b[0m\u001b[1;33m\u001b[0m\u001b[0m\n\u001b[0m",
      "\u001b[1;31mNameError\u001b[0m: name 'dllModel_U' is not defined"
     ]
    }
   ],
   "source": [
    "dllModel_U._fields_"
   ]
  },
  {
   "cell_type": "code",
   "execution_count": 26,
   "metadata": {},
   "outputs": [
    {
     "ename": "NameError",
     "evalue": "name 'dllModel_Y' is not defined",
     "output_type": "error",
     "traceback": [
      "\u001b[1;31m---------------------------------------------------------------------------\u001b[0m",
      "\u001b[1;31mNameError\u001b[0m                                 Traceback (most recent call last)",
      "\u001b[1;32m<ipython-input-26-4420e4b66dc7>\u001b[0m in \u001b[0;36m<module>\u001b[1;34m()\u001b[0m\n\u001b[1;32m----> 1\u001b[1;33m \u001b[0mdllModel_Y\u001b[0m\u001b[1;33m.\u001b[0m\u001b[0mOut1\u001b[0m\u001b[1;33m\u001b[0m\u001b[0m\n\u001b[0m",
      "\u001b[1;31mNameError\u001b[0m: name 'dllModel_Y' is not defined"
     ]
    }
   ],
   "source": [
    "dllModel_Y.Out1"
   ]
  },
  {
   "cell_type": "code",
   "execution_count": 27,
   "metadata": {},
   "outputs": [
    {
     "ename": "NameError",
     "evalue": "name 'K' is not defined",
     "output_type": "error",
     "traceback": [
      "\u001b[1;31m---------------------------------------------------------------------------\u001b[0m",
      "\u001b[1;31mNameError\u001b[0m                                 Traceback (most recent call last)",
      "\u001b[1;32m<ipython-input-27-f41049616539>\u001b[0m in \u001b[0;36m<module>\u001b[1;34m()\u001b[0m\n\u001b[1;32m----> 1\u001b[1;33m \u001b[0mK\u001b[0m\u001b[1;33m.\u001b[0m\u001b[0mvalue\u001b[0m\u001b[1;33m=\u001b[0m\u001b[1;36m5\u001b[0m\u001b[1;33m\u001b[0m\u001b[0m\n\u001b[0m",
      "\u001b[1;31mNameError\u001b[0m: name 'K' is not defined"
     ]
    }
   ],
   "source": [
    "K.value=5"
   ]
  },
  {
   "cell_type": "code",
   "execution_count": 28,
   "metadata": {},
   "outputs": [
    {
     "ename": "NameError",
     "evalue": "name 'dllModel_step' is not defined",
     "output_type": "error",
     "traceback": [
      "\u001b[1;31m---------------------------------------------------------------------------\u001b[0m",
      "\u001b[1;31mNameError\u001b[0m                                 Traceback (most recent call last)",
      "\u001b[1;32m<ipython-input-28-df4ddaf7e73e>\u001b[0m in \u001b[0;36m<module>\u001b[1;34m()\u001b[0m\n\u001b[1;32m----> 1\u001b[1;33m \u001b[0mdllModel_step\u001b[0m\u001b[1;33m(\u001b[0m\u001b[1;33m)\u001b[0m\u001b[1;33m\u001b[0m\u001b[0m\n\u001b[0m",
      "\u001b[1;31mNameError\u001b[0m: name 'dllModel_step' is not defined"
     ]
    }
   ],
   "source": [
    "dllModel_step()"
   ]
  },
  {
   "cell_type": "code",
   "execution_count": 29,
   "metadata": {},
   "outputs": [
    {
     "ename": "NameError",
     "evalue": "name 'dllModel_Y' is not defined",
     "output_type": "error",
     "traceback": [
      "\u001b[1;31m---------------------------------------------------------------------------\u001b[0m",
      "\u001b[1;31mNameError\u001b[0m                                 Traceback (most recent call last)",
      "\u001b[1;32m<ipython-input-29-4420e4b66dc7>\u001b[0m in \u001b[0;36m<module>\u001b[1;34m()\u001b[0m\n\u001b[1;32m----> 1\u001b[1;33m \u001b[0mdllModel_Y\u001b[0m\u001b[1;33m.\u001b[0m\u001b[0mOut1\u001b[0m\u001b[1;33m\u001b[0m\u001b[0m\n\u001b[0m",
      "\u001b[1;31mNameError\u001b[0m: name 'dllModel_Y' is not defined"
     ]
    }
   ],
   "source": [
    "dllModel_Y.Out1"
   ]
  },
  {
   "cell_type": "code",
   "execution_count": 30,
   "metadata": {},
   "outputs": [
    {
     "ename": "ModuleNotFoundError",
     "evalue": "No module named 'var_dump'",
     "output_type": "error",
     "traceback": [
      "\u001b[1;31m---------------------------------------------------------------------------\u001b[0m",
      "\u001b[1;31mModuleNotFoundError\u001b[0m                       Traceback (most recent call last)",
      "\u001b[1;32m<ipython-input-30-5f918fa25dda>\u001b[0m in \u001b[0;36m<module>\u001b[1;34m()\u001b[0m\n\u001b[1;32m----> 1\u001b[1;33m \u001b[1;32mfrom\u001b[0m \u001b[0mvar_dump\u001b[0m \u001b[1;32mimport\u001b[0m \u001b[0mvar_dump\u001b[0m\u001b[1;33m\u001b[0m\u001b[0m\n\u001b[0m",
      "\u001b[1;31mModuleNotFoundError\u001b[0m: No module named 'var_dump'"
     ]
    }
   ],
   "source": [
    "from var_dump import var_dump"
   ]
  },
  {
   "cell_type": "code",
   "execution_count": 31,
   "metadata": {},
   "outputs": [
    {
     "name": "stdout",
     "output_type": "stream",
     "text": [
      "Object `var_dump` not found.\n"
     ]
    }
   ],
   "source": [
    "?var_dump"
   ]
  },
  {
   "cell_type": "code",
   "execution_count": 32,
   "metadata": {},
   "outputs": [
    {
     "ename": "NameError",
     "evalue": "name 'vardump' is not defined",
     "output_type": "error",
     "traceback": [
      "\u001b[1;31m---------------------------------------------------------------------------\u001b[0m",
      "\u001b[1;31mNameError\u001b[0m                                 Traceback (most recent call last)",
      "\u001b[1;32m<ipython-input-32-80264233aaa0>\u001b[0m in \u001b[0;36m<module>\u001b[1;34m()\u001b[0m\n\u001b[1;32m----> 1\u001b[1;33m \u001b[0mvardump\u001b[0m\u001b[1;33m(\u001b[0m\u001b[0mdec\u001b[0m\u001b[1;33m)\u001b[0m\u001b[1;33m\u001b[0m\u001b[0m\n\u001b[0m",
      "\u001b[1;31mNameError\u001b[0m: name 'vardump' is not defined"
     ]
    }
   ],
   "source": [
    "vardump(dec)"
   ]
  },
  {
   "cell_type": "code",
   "execution_count": 33,
   "metadata": {},
   "outputs": [
    {
     "name": "stdout",
     "output_type": "stream",
     "text": [
      "dllModel_P = dll.dllModel_P\n",
      "dllModel_B = dll.dllModel_B\n",
      "dllModel_U = dll.dllModel_U\n",
      "dllModel_Y = dll.dllModel_Y\n",
      "SignalIn = dll.SignalIn\n",
      "SimulationSignal2 = dll.SimulationSignal2\n",
      "SignalOut = dll.SignalOut\n",
      "K = dll.K\n",
      "dllModel_M = dll.dllModel_M\n"
     ]
    }
   ],
   "source": [
    "for dec in ns.declarations:\n",
    "    if isinstance(dec, pygccxml.declarations.variable.variable_t):\n",
    "        print(\"{} = dll.{}\".format(dec.name, dec.name))"
   ]
  },
  {
   "cell_type": "code",
   "execution_count": null,
   "metadata": {
    "collapsed": true
   },
   "outputs": [],
   "source": []
  },
  {
   "cell_type": "code",
   "execution_count": 34,
   "metadata": {
    "collapsed": true
   },
   "outputs": [],
   "source": [
    "def cpptype_to_ctypes(t):\n",
    "    if declarations.is_array(t):\n",
    "        if isinstance(t.base, pygccxml.declarations.cpptypes.char_t):\n",
    "            return \"ctypes.c_char_p({})\".format(t.size)\n",
    "    if declarations.is_pointer(t):\n",
    "        if hasattr(t, 'base'):\n",
    "            if declarations.is_pointer(t.base):\n",
    "                if hasattr(hasattr(t, 'base'), 'base') and t.base.base.decl_string  == \"char\":\n",
    "                    return \"ctypes.POINTER(ctypes.c_char_p)\"  \n",
    "            if t.base.decl_string == \"char\":\n",
    "                return \"ctypes.c_char_p\"\n",
    "            if t.base.decl_string == \"void\": \n",
    "                return \"ctypes.c_void_p\"\n",
    "        return \"ctypes.POINTER({})\".format(cpptype_to_ctypes(declarations.remove_pointer(t)))\n",
    "    if declarations.is_const(t):\n",
    "        return cpptype_to_ctypes(declarations.remove_const(t))\n",
    "    if t.decl_string.startswith(\"::\"):\n",
    "        return t.decl_string[2:]\n",
    "    tp = t.decl_string.split(\" \")\n",
    "    if len(tp)==1:\n",
    "        return \"ctypes.c_\" + tp[0]\n",
    "        if tp[0] == \"bool\":\n",
    "            return \"ctypes.c_bool\"\n",
    "        if tp[0] == \"char\":\n",
    "            return \"ctypes.c_char\"\n",
    "        if tp[0] == \"double\":\n",
    "            return \"ctypes.c_double\"\n",
    "        if tp[0] == \"int\":\n",
    "            return \"ctypes.c_int\"\n",
    "    if len(tp)==2:\n",
    "        if tp[1] == \"volatile\":\n",
    "            return \"ctypes.c_{}\".format(tp[0])\n",
    "        if tp[0] == \"unsigned\":\n",
    "            if tp[1] == \"char\":\n",
    "                tp[1] = \"byte\"\n",
    "            return \"ctypes.c_u{}\".format(tp[1])\n",
    "        if tp[1] == \"int\":\n",
    "            return \"ctypes.c_{}\".format(tp[0])\n",
    "    if len(tp)==3:\n",
    "        if tp[1]==\"unsigned\":\n",
    "            return \"ctypes.c_u{}\".format(tp[0])\n",
    "    raise(Exception(t.decl_string))"
   ]
  },
  {
   "cell_type": "code",
   "execution_count": 35,
   "metadata": {},
   "outputs": [
    {
     "ename": "OSError",
     "evalue": "[WinError 126] The specified module could not be found",
     "output_type": "error",
     "traceback": [
      "\u001b[1;31m---------------------------------------------------------------------------\u001b[0m",
      "\u001b[1;31mOSError\u001b[0m                                   Traceback (most recent call last)",
      "\u001b[1;32m<ipython-input-35-4c4f5b60d99e>\u001b[0m in \u001b[0;36m<module>\u001b[1;34m()\u001b[0m\n\u001b[1;32m----> 1\u001b[1;33m \u001b[0mctypes\u001b[0m\u001b[1;33m.\u001b[0m\u001b[0mwindll\u001b[0m\u001b[1;33m.\u001b[0m\u001b[0mFreeLibrary\u001b[0m\u001b[1;33m(\u001b[0m\u001b[0mdll\u001b[0m\u001b[1;33m)\u001b[0m\u001b[1;33m\u001b[0m\u001b[0m\n\u001b[0m",
      "\u001b[1;32mC:\\Projects\\EatonPython-64bit-3.6\\python-3.6.1.amd64\\lib\\ctypes\\__init__.py\u001b[0m in \u001b[0;36m__getattr__\u001b[1;34m(self, name)\u001b[0m\n\u001b[0;32m    416\u001b[0m         \u001b[1;32mif\u001b[0m \u001b[0mname\u001b[0m\u001b[1;33m[\u001b[0m\u001b[1;36m0\u001b[0m\u001b[1;33m]\u001b[0m \u001b[1;33m==\u001b[0m \u001b[1;34m'_'\u001b[0m\u001b[1;33m:\u001b[0m\u001b[1;33m\u001b[0m\u001b[0m\n\u001b[0;32m    417\u001b[0m             \u001b[1;32mraise\u001b[0m \u001b[0mAttributeError\u001b[0m\u001b[1;33m(\u001b[0m\u001b[0mname\u001b[0m\u001b[1;33m)\u001b[0m\u001b[1;33m\u001b[0m\u001b[0m\n\u001b[1;32m--> 418\u001b[1;33m         \u001b[0mdll\u001b[0m \u001b[1;33m=\u001b[0m \u001b[0mself\u001b[0m\u001b[1;33m.\u001b[0m\u001b[0m_dlltype\u001b[0m\u001b[1;33m(\u001b[0m\u001b[0mname\u001b[0m\u001b[1;33m)\u001b[0m\u001b[1;33m\u001b[0m\u001b[0m\n\u001b[0m\u001b[0;32m    419\u001b[0m         \u001b[0msetattr\u001b[0m\u001b[1;33m(\u001b[0m\u001b[0mself\u001b[0m\u001b[1;33m,\u001b[0m \u001b[0mname\u001b[0m\u001b[1;33m,\u001b[0m \u001b[0mdll\u001b[0m\u001b[1;33m)\u001b[0m\u001b[1;33m\u001b[0m\u001b[0m\n\u001b[0;32m    420\u001b[0m         \u001b[1;32mreturn\u001b[0m \u001b[0mdll\u001b[0m\u001b[1;33m\u001b[0m\u001b[0m\n",
      "\u001b[1;32mC:\\Projects\\EatonPython-64bit-3.6\\python-3.6.1.amd64\\lib\\ctypes\\__init__.py\u001b[0m in \u001b[0;36m__init__\u001b[1;34m(self, name, mode, handle, use_errno, use_last_error)\u001b[0m\n\u001b[0;32m    346\u001b[0m \u001b[1;33m\u001b[0m\u001b[0m\n\u001b[0;32m    347\u001b[0m         \u001b[1;32mif\u001b[0m \u001b[0mhandle\u001b[0m \u001b[1;32mis\u001b[0m \u001b[1;32mNone\u001b[0m\u001b[1;33m:\u001b[0m\u001b[1;33m\u001b[0m\u001b[0m\n\u001b[1;32m--> 348\u001b[1;33m             \u001b[0mself\u001b[0m\u001b[1;33m.\u001b[0m\u001b[0m_handle\u001b[0m \u001b[1;33m=\u001b[0m \u001b[0m_dlopen\u001b[0m\u001b[1;33m(\u001b[0m\u001b[0mself\u001b[0m\u001b[1;33m.\u001b[0m\u001b[0m_name\u001b[0m\u001b[1;33m,\u001b[0m \u001b[0mmode\u001b[0m\u001b[1;33m)\u001b[0m\u001b[1;33m\u001b[0m\u001b[0m\n\u001b[0m\u001b[0;32m    349\u001b[0m         \u001b[1;32melse\u001b[0m\u001b[1;33m:\u001b[0m\u001b[1;33m\u001b[0m\u001b[0m\n\u001b[0;32m    350\u001b[0m             \u001b[0mself\u001b[0m\u001b[1;33m.\u001b[0m\u001b[0m_handle\u001b[0m \u001b[1;33m=\u001b[0m \u001b[0mhandle\u001b[0m\u001b[1;33m\u001b[0m\u001b[0m\n",
      "\u001b[1;31mOSError\u001b[0m: [WinError 126] The specified module could not be found"
     ]
    }
   ],
   "source": [
    "ctypes.windll.FreeLibrary(dll)"
   ]
  },
  {
   "cell_type": "code",
   "execution_count": null,
   "metadata": {
    "collapsed": true
   },
   "outputs": [],
   "source": [
    "def vardump(var):\n",
    "    fields = dir(var)\n",
    "    for field in fields:\n",
    "        if field.startswith(\"_\"):\n",
    "            continue\n",
    "        try:\n",
    "            f = getattr(var, field)\n",
    "        except:\n",
    "            continue\n",
    "        try:\n",
    "            print(\"{}(): {}\".format(field, f()))\n",
    "        except:\n",
    "            try:\n",
    "                print(\"{}: {}<{}>\".format(field, type(f), f))\n",
    "            except:\n",
    "                pass"
   ]
  },
  {
   "cell_type": "code",
   "execution_count": null,
   "metadata": {
    "collapsed": true
   },
   "outputs": [],
   "source": []
  },
  {
   "cell_type": "code",
   "execution_count": null,
   "metadata": {
    "collapsed": true
   },
   "outputs": [],
   "source": []
  },
  {
   "cell_type": "code",
   "execution_count": null,
   "metadata": {
    "collapsed": true
   },
   "outputs": [],
   "source": []
  },
  {
   "cell_type": "code",
   "execution_count": null,
   "metadata": {
    "collapsed": true
   },
   "outputs": [],
   "source": []
  }
 ],
 "metadata": {
  "kernelspec": {
   "display_name": "Python 3",
   "language": "python",
   "name": "python3"
  },
  "language_info": {
   "codemirror_mode": {
    "name": "ipython",
    "version": 3
   },
   "file_extension": ".py",
   "mimetype": "text/x-python",
   "name": "python",
   "nbconvert_exporter": "python",
   "pygments_lexer": "ipython3",
   "version": "3.6.1"
  }
 },
 "nbformat": 4,
 "nbformat_minor": 2
}
