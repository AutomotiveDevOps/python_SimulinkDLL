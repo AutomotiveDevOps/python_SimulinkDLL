{
 "cells": [
  {
   "cell_type": "markdown",
   "metadata": {},
   "source": [
    "http://www.mathworks.com/help/ecoder/ug/creating-and-using-host-based-shared-libraries.html"
   ]
  },
  {
   "cell_type": "code",
   "execution_count": 10,
   "metadata": {},
   "outputs": [
    {
     "name": "stderr",
     "output_type": "stream",
     "text": [
      "C:\\WPy64-3910\\python-3.9.1.amd64\\lib\\site-packages\\ipykernel\\ipkernel.py:283: DeprecationWarning: `should_run_async` will not call `transform_cell` automatically in the future. Please pass the result to `transformed_cell` argument and any exception that happen during thetransform in `preprocessing_exc_tuple` in IPython 7.17 and above.\n",
      "  and should_run_async(code)\n"
     ]
    }
   ],
   "source": [
    "import ctypes\n",
    "import os\n",
    "import glob"
   ]
  },
  {
   "cell_type": "code",
   "execution_count": 11,
   "metadata": {},
   "outputs": [
    {
     "name": "stderr",
     "output_type": "stream",
     "text": [
      "C:\\WPy64-3910\\python-3.9.1.amd64\\lib\\site-packages\\ipykernel\\ipkernel.py:283: DeprecationWarning: `should_run_async` will not call `transform_cell` automatically in the future. Please pass the result to `transformed_cell` argument and any exception that happen during thetransform in `preprocessing_exc_tuple` in IPython 7.17 and above.\n",
      "  and should_run_async(code)\n"
     ]
    }
   ],
   "source": [
    "headers = glob.glob(r\"Example/dllModel_ert_shrlib_rtw/rtwtypes.h\")\n",
    "import pygccxml\n",
    "\n",
    "from pygccxml import utils\n",
    "from pygccxml import declarations\n",
    "from pygccxml import parser"
   ]
  },
  {
   "cell_type": "code",
   "execution_count": 8,
   "metadata": {},
   "outputs": [
    {
     "name": "stderr",
     "output_type": "stream",
     "text": [
      "C:\\WPy64-3910\\python-3.9.1.amd64\\lib\\site-packages\\ipykernel\\ipkernel.py:283: DeprecationWarning: `should_run_async` will not call `transform_cell` automatically in the future. Please pass the result to `transformed_cell` argument and any exception that happen during thetransform in `preprocessing_exc_tuple` in IPython 7.17 and above.\n",
      "  and should_run_async(code)\n",
      "INFO Parsing source file \"Example/dllModel_ert_shrlib_rtw/rtwtypes.h\" ... \n"
     ]
    }
   ],
   "source": [
    "# Configure the xml generator\n",
    "xml_generator_config = parser.xml_generator_configuration_t(\n",
    "    xml_generator_path=r\"castxml\\bin\\castxml.exe\",\n",
    "    xml_generator=\"castxml\",\n",
    "    compiler_path=r\"MinGW\\bin\\gcc.exe\")\n",
    "\n",
    "decls = parser.parse(headers, xml_generator_config)\n",
    "ns = decls[0]"
   ]
  },
  {
   "cell_type": "code",
   "execution_count": 9,
   "metadata": {},
   "outputs": [
    {
     "name": "stdout",
     "output_type": "stream",
     "text": [
      "# Enum types\n"
     ]
    },
    {
     "name": "stderr",
     "output_type": "stream",
     "text": [
      "C:\\WPy64-3910\\python-3.9.1.amd64\\lib\\site-packages\\ipykernel\\ipkernel.py:283: DeprecationWarning: `should_run_async` will not call `transform_cell` automatically in the future. Please pass the result to `transformed_cell` argument and any exception that happen during thetransform in `preprocessing_exc_tuple` in IPython 7.17 and above.\n",
      "  and should_run_async(code)\n"
     ]
    }
   ],
   "source": [
    "print(\"# Enum types\")\n",
    "for x in ns.typedefs():\n",
    "    if declarations.is_enum(x):\n",
    "        print(\"{} = ctypes.c_uint\".format(x.name))"
   ]
  },
  {
   "cell_type": "code",
   "execution_count": null,
   "metadata": {},
   "outputs": [],
   "source": [
    "i=1\n",
    "for x in ns.classes():\n",
    "    if declarations.is_struct(x):\n",
    "        print(\"class {}(ctypes.Structure):\".format(x.name))\n",
    "        print(\"{}_fields_ = [\".format(\" \"*4*i))\n",
    "        for var in x.variables():\n",
    "            print(\"{}(\\\"{}\\\", {}),\".format(\" \"*(4*(i+1)),var.name,cpptype_to_ctypes(var.decl_type)))\n",
    "        print(\"{}]\".format(\" \"*(4*i)))\n",
    "        print()"
   ]
  },
  {
   "cell_type": "code",
   "execution_count": null,
   "metadata": {},
   "outputs": [],
   "source": [
    "for dec in ns.declarations:\n",
    "    # Skip unsupported and other functions.\n",
    "#     if dec.name.startswith(\"_\"):\n",
    "#         continue\n",
    "    if not dec.name.startswith(\"dllModel\"):\n",
    "        continue\n",
    "    if isinstance(dec, declarations.free_calldef.free_function_t):\n",
    "        print(\"{} = dll.{}\".format(dec.name, dec.name))\n",
    "        args = list()\n",
    "        for arg_t in dec.argument_types:\n",
    "            args.append(cpptype_to_ctypes(arg_t))\n",
    "        arg_str = \"        self.{}.argtypes = [\".format(dec.name)\n",
    "        \n",
    "        \n",
    "        continue\n",
    "        print(\"self.{} = dll.{}\".format(dec.name, dec.name))\n",
    "        if pfx==\"#\":\n",
    "            continue\n",
    "        print(\"        {}self.{}.restype = {}\".format(pfx, dec.name, cpptype_to_ctypes(dec.return_type)))\n",
    "        if isinstance(dec.return_type, pygccxml.declarations.cpptypes.bool_t):\n",
    "            print(\"        {}self.{}.errcheck = self.errcheck\".format(pfx,dec.name))\n",
    "        args = list()\n",
    "        for arg_t in dec.argument_types:\n",
    "            args.append(cpptype_to_ctypes(arg_t))\n",
    "        arg_str = \"        {}self.{}.argtypes = [\".format(pfx, dec.name)\n",
    "        \n",
    "        print(arg_str+(\",\\n\"+\" \"*len(arg_str)).join(args)+\"]\")\n",
    "\n",
    "        #print(\"    self.{}.argtypes = [{}]\".format(dec.name, \", \".join(args)))\n",
    "        print()"
   ]
  },
  {
   "cell_type": "code",
   "execution_count": null,
   "metadata": {},
   "outputs": [],
   "source": [
    "print(\"# Standard Types\")\n",
    "for x in ns.typedefs():\n",
    "    if x.name == \"size_t\":\n",
    "        continue\n",
    "    if hasattr(x.decl_type, 'CPPNAME'):\n",
    "        print(\"class {}({}):\".format(x.name, (x.decl_type.CPPNAME)))\n",
    "        print(\"    \\\"\\\"\\\"\")\n",
    "        print(\"        {}:\".format(x.name))\n",
    "        print(\"    \\\"\\\"\\\"\")\n",
    "        \n",
    "        print(\"    def __repr__(self):\")\n",
    "        print(\"        return \\\"{}<>\\\".format(self.__class__.__name__)\")\n",
    "        print()"
   ]
  },
  {
   "cell_type": "code",
   "execution_count": null,
   "metadata": {},
   "outputs": [],
   "source": [
    "# Standard Types\n",
    "class ptrdiff_t(long long int):\n",
    "    \"\"\"\n",
    "        ptrdiff_t:\n",
    "    \"\"\"\n",
    "    def __repr__(self):\n",
    "        return \"{}<>\".format(self.__class__.__name__)\n",
    "\n",
    "class ssize_t(long long int):\n",
    "    \"\"\"\n",
    "        ssize_t:\n",
    "    \"\"\"\n",
    "    def __repr__(self):\n",
    "        return \"{}<>\".format(self.__class__.__name__)\n",
    "\n",
    "class intptr_t(long long int):\n",
    "    \"\"\"\n",
    "        intptr_t:\n",
    "    \"\"\"\n",
    "    def __repr__(self):\n",
    "        return \"{}<>\".format(self.__class__.__name__)\n",
    "\n",
    "class uintptr_t(long long unsigned int):\n",
    "    \"\"\"\n",
    "        uintptr_t:\n",
    "    \"\"\"\n",
    "    def __repr__(self):\n",
    "        return \"{}<>\".format(self.__class__.__name__)\n",
    "\n",
    "class wint_t(short unsigned int):\n",
    "    \"\"\"\n",
    "        wint_t:\n",
    "    \"\"\"\n",
    "    def __repr__(self):\n",
    "        return \"{}<>\".format(self.__class__.__name__)\n",
    "\n",
    "class wctype_t(short unsigned int):\n",
    "    \"\"\"\n",
    "        wctype_t:\n",
    "    \"\"\"\n",
    "    def __repr__(self):\n",
    "        return \"{}<>\".format(self.__class__.__name__)\n",
    "\n",
    "class errno_t(int):\n",
    "    \"\"\"\n",
    "        errno_t:\n",
    "    \"\"\"\n",
    "    def __repr__(self):\n",
    "        return \"{}<>\".format(self.__class__.__name__)\n",
    "\n",
    "class __time32_t(long int):\n",
    "    \"\"\"\n",
    "        __time32_t:\n",
    "    \"\"\"\n",
    "    def __repr__(self):\n",
    "        return \"{}<>\".format(self.__class__.__name__)\n",
    "\n",
    "class __time64_t(long long int):\n",
    "    \"\"\"\n",
    "        __time64_t:\n",
    "    \"\"\"\n",
    "    def __repr__(self):\n",
    "        return \"{}<>\".format(self.__class__.__name__)\n",
    "\n",
    "class int8_T(signed char):\n",
    "    \"\"\"\n",
    "        int8_T:\n",
    "    \"\"\"\n",
    "    def __repr__(self):\n",
    "        return \"{}<>\".format(self.__class__.__name__)\n",
    "\n",
    "class uint8_T(unsigned char):\n",
    "    \"\"\"\n",
    "        uint8_T:\n",
    "    \"\"\"\n",
    "    def __repr__(self):\n",
    "        return \"{}<>\".format(self.__class__.__name__)\n",
    "\n",
    "class int16_T(short int):\n",
    "    \"\"\"\n",
    "        int16_T:\n",
    "    \"\"\"\n",
    "    def __repr__(self):\n",
    "        return \"{}<>\".format(self.__class__.__name__)\n",
    "\n",
    "class uint16_T(short unsigned int):\n",
    "    \"\"\"\n",
    "        uint16_T:\n",
    "    \"\"\"\n",
    "    def __repr__(self):\n",
    "        return \"{}<>\".format(self.__class__.__name__)\n",
    "\n",
    "class int32_T(int):\n",
    "    \"\"\"\n",
    "        int32_T:\n",
    "    \"\"\"\n",
    "    def __repr__(self):\n",
    "        return \"{}<>\".format(self.__class__.__name__)\n",
    "\n",
    "class uint32_T(unsigned int):\n",
    "    \"\"\"\n",
    "        uint32_T:\n",
    "    \"\"\"\n",
    "    def __repr__(self):\n",
    "        return \"{}<>\".format(self.__class__.__name__)\n",
    "\n",
    "class int64_T(long long int):\n",
    "    \"\"\"\n",
    "        int64_T:\n",
    "    \"\"\"\n",
    "    def __repr__(self):\n",
    "        return \"{}<>\".format(self.__class__.__name__)\n",
    "\n",
    "class uint64_T(long long unsigned int):\n",
    "    \"\"\"\n",
    "        uint64_T:\n",
    "    \"\"\"\n",
    "    def __repr__(self):\n",
    "        return \"{}<>\".format(self.__class__.__name__)\n",
    "\n",
    "class real32_T(float):\n",
    "    \"\"\"\n",
    "        real32_T:\n",
    "    \"\"\"\n",
    "    def __repr__(self):\n",
    "        return \"{}<>\".format(self.__class__.__name__)\n",
    "\n",
    "class real64_T(double):\n",
    "    \"\"\"\n",
    "        real64_T:\n",
    "    \"\"\"\n",
    "    def __repr__(self):\n",
    "        return \"{}<>\".format(self.__class__.__name__)\n",
    "\n",
    "class real_T(double):\n",
    "    \"\"\"\n",
    "        real_T:\n",
    "    \"\"\"\n",
    "    def __repr__(self):\n",
    "        return \"{}<>\".format(self.__class__.__name__)\n",
    "\n",
    "class time_T(double):\n",
    "    \"\"\"\n",
    "        time_T:\n",
    "    \"\"\"\n",
    "    def __repr__(self):\n",
    "        return \"{}<>\".format(self.__class__.__name__)\n",
    "\n",
    "class boolean_T(unsigned char):\n",
    "    \"\"\"\n",
    "        boolean_T:\n",
    "    \"\"\"\n",
    "    def __repr__(self):\n",
    "        return \"{}<>\".format(self.__class__.__name__)\n",
    "\n",
    "class int_T(int):\n",
    "    \"\"\"\n",
    "        int_T:\n",
    "    \"\"\"\n",
    "    def __repr__(self):\n",
    "        return \"{}<>\".format(self.__class__.__name__)\n",
    "\n",
    "class uint_T(unsigned int):\n",
    "    \"\"\"\n",
    "        uint_T:\n",
    "    \"\"\"\n",
    "    def __repr__(self):\n",
    "        return \"{}<>\".format(self.__class__.__name__)\n",
    "\n",
    "class ulong_T(long unsigned int):\n",
    "    \"\"\"\n",
    "        ulong_T:\n",
    "    \"\"\"\n",
    "    def __repr__(self):\n",
    "        return \"{}<>\".format(self.__class__.__name__)\n",
    "\n",
    "class ulonglong_T(long long unsigned int):\n",
    "    \"\"\"\n",
    "        ulonglong_T:\n",
    "    \"\"\"\n",
    "    def __repr__(self):\n",
    "        return \"{}<>\".format(self.__class__.__name__)\n",
    "\n",
    "class char_T(char):\n",
    "    \"\"\"\n",
    "        char_T:\n",
    "    \"\"\"\n",
    "    def __repr__(self):\n",
    "        return \"{}<>\".format(self.__class__.__name__)\n",
    "\n",
    "class uchar_T(unsigned char):\n",
    "    \"\"\"\n",
    "        uchar_T:\n",
    "    \"\"\"\n",
    "    def __repr__(self):\n",
    "        return \"{}<>\".format(self.__class__.__name__)"
   ]
  },
  {
   "cell_type": "code",
   "execution_count": null,
   "metadata": {},
   "outputs": [],
   "source": [
    "class threadlocaleinfostruct(ctypes.Structure):\n",
    "    _fields_ = [\n",
    "        (\"refcount\", ctypes.c_int),\n",
    "        (\"lc_codepage\", ctypes.c_uint),\n",
    "        (\"lc_collate_cp\", ctypes.c_uint),\n",
    "        (\"lc_handle\", ctypes.c_ulong),\n",
    "        (\"lc_id\", LC_ID[6]),\n",
    "        (\"locale\", ctypes.c_char_p),\n",
    "        (\"wlocale\", ctypes.POINTER(ctypes.c_wchar_t)),\n",
    "        (\"refcount\", ctypes.POINTER(ctypes.c_int)),\n",
    "        (\"wrefcount\", ctypes.POINTER(ctypes.c_int)),\n",
    "        (\"lc_category\", threadlocaleinfostruct[6]),\n",
    "        (\"lc_clike\", ctypes.c_int),\n",
    "        (\"mb_cur_max\", ctypes.c_int),\n",
    "        (\"lconv_intl_refcount\", ctypes.POINTER(ctypes.c_int)),\n",
    "        (\"lconv_num_refcount\", ctypes.POINTER(ctypes.c_int)),\n",
    "        (\"lconv_mon_refcount\", ctypes.POINTER(ctypes.c_int)),\n",
    "        (\"lconv\", ctypes.POINTER(lconv)),\n",
    "        (\"ctype1_refcount\", ctypes.POINTER(ctypes.c_int)),\n",
    "        (\"ctype1\", ctypes.POINTER(ctypes.c_ushort)),\n",
    "        (\"pctype\", ctypes.POINTER(ctypes.c_ushort)),\n",
    "        (\"pclmap\", ctypes.POINTER(ctypes.c_ubyte)),\n",
    "        (\"pcumap\", ctypes.POINTER(ctypes.c_ubyte)),\n",
    "        (\"lc_time_curr\", ctypes.POINTER(__lc_time_data)),\n",
    "    ]\n",
    "\n",
    "    \n",
    "class tagLC_ID(ctypes.Structure):\n",
    "    _fields_ = [\n",
    "        (\"wLanguage\", ctypes.c_ushort),\n",
    "        (\"wCountry\", ctypes.c_ushort),\n",
    "        (\"wCodePage\", ctypes.c_ushort),\n",
    "    ]\n",
    "\n",
    "class creal32_T(ctypes.Structure):\n",
    "    _fields_ = [\n",
    "        (\"re\", real32_T),\n",
    "        (\"im\", real32_T),\n",
    "    ]\n",
    "\n",
    "class creal64_T(ctypes.Structure):\n",
    "    _fields_ = [\n",
    "        (\"re\", real64_T),\n",
    "        (\"im\", real64_T),\n",
    "    ]\n",
    "\n",
    "class creal_T(ctypes.Structure):\n",
    "    _fields_ = [\n",
    "        (\"re\", real_T),\n",
    "        (\"im\", real_T),\n",
    "    ]\n",
    "\n",
    "class cint8_T(ctypes.Structure):\n",
    "    _fields_ = [\n",
    "        (\"re\", int8_T),\n",
    "        (\"im\", int8_T),\n",
    "    ]\n",
    "\n",
    "class cuint8_T(ctypes.Structure):\n",
    "    _fields_ = [\n",
    "        (\"re\", uint8_T),\n",
    "        (\"im\", uint8_T),\n",
    "    ]\n",
    "\n",
    "class cint16_T(ctypes.Structure):\n",
    "    _fields_ = [\n",
    "        (\"re\", int16_T),\n",
    "        (\"im\", int16_T),\n",
    "    ]\n",
    "\n",
    "class cuint16_T(ctypes.Structure):\n",
    "    _fields_ = [\n",
    "        (\"re\", uint16_T),\n",
    "        (\"im\", uint16_T),\n",
    "    ]\n",
    "\n",
    "class cint32_T(ctypes.Structure):\n",
    "    _fields_ = [\n",
    "        (\"re\", int32_T),\n",
    "        (\"im\", int32_T),\n",
    "    ]\n",
    "\n",
    "class cuint32_T(ctypes.Structure):\n",
    "    _fields_ = [\n",
    "        (\"re\", uint32_T),\n",
    "        (\"im\", uint32_T),\n",
    "    ]\n",
    "\n",
    "class cint64_T(ctypes.Structure):\n",
    "    _fields_ = [\n",
    "        (\"re\", int64_T),\n",
    "        (\"im\", int64_T),\n",
    "    ]\n",
    "\n",
    "class cuint64_T(ctypes.Structure):\n",
    "    _fields_ = [\n",
    "        (\"re\", uint64_T),\n",
    "        (\"im\", uint64_T),\n",
    "    ]\n",
    "\n",
    "class tag_RTM_dllModel_T(ctypes.Structure):\n",
    "    _fields_ = [\n",
    "        (\"errorStatus\", ctypes.POINTER(ctypes.c_char)),\n",
    "    ]\n",
    "\n",
    "class B_dllModel_T(ctypes.Structure):\n",
    "    _fields_ = [\n",
    "        (\"SigOut\", real32_T),\n",
    "        (\"SigOut2\", real32_T),\n",
    "        (\"SimulinkGlobalAlias\", real32_T),\n",
    "    ]\n",
    "\n",
    "class ExtU_dllModel_T(ctypes.Structure):\n",
    "    _fields_ = [\n",
    "        (\"SigIn\", real32_T),\n",
    "        (\"SigIn2\", real32_T),\n",
    "        (\"SigIN3\", real32_T),\n",
    "        (\"SigIN4\", real32_T),\n",
    "    ]\n",
    "\n",
    "class ExtY_dllModel_T(ctypes.Structure):\n",
    "    _fields_ = [\n",
    "        (\"Out1\", real32_T),\n",
    "        (\"Out2\", real32_T),\n",
    "        (\"Out3\", real32_T),\n",
    "    ]"
   ]
  },
  {
   "cell_type": "code",
   "execution_count": null,
   "metadata": {},
   "outputs": [],
   "source": [
    "import ctypes"
   ]
  },
  {
   "cell_type": "code",
   "execution_count": null,
   "metadata": {},
   "outputs": [],
   "source": [
    "dll = ctypes.windll.LoadLibrary(r\"C:/ClearCase/C3038028_view/MBD/dllModel_win64.dll\")"
   ]
  },
  {
   "cell_type": "code",
   "execution_count": null,
   "metadata": {},
   "outputs": [],
   "source": [
    "dllModel_initialize = dll.dllModel_initialize\n",
    "dllModel_step = dll.dllModel_step\n",
    "dllModel_terminate = dll.dllModel_terminate"
   ]
  },
  {
   "cell_type": "code",
   "execution_count": null,
   "metadata": {},
   "outputs": [],
   "source": [
    "class tag_RTM_dllModel_T(ctypes.Structure):\n",
    "    _fields_ = [\n",
    "        (\"errorStatus\", ctypes.POINTER(ctypes.c_char)),\n",
    "    ]"
   ]
  },
  {
   "cell_type": "code",
   "execution_count": null,
   "metadata": {},
   "outputs": [],
   "source": [
    "dllModel_initialize()"
   ]
  },
  {
   "cell_type": "code",
   "execution_count": null,
   "metadata": {},
   "outputs": [],
   "source": [
    "dllModel_U = ExtU_dllModel_T.in_dll(dll, \"dllModel_U\")\n",
    "dllModel_Y = ExtY_dllModel_T.in_dll(dll, \"dllModel_Y\")\n",
    "K = real32_T.in_dll(dll, \"K\")"
   ]
  },
  {
   "cell_type": "code",
   "execution_count": null,
   "metadata": {},
   "outputs": [],
   "source": [
    "dllModel_U"
   ]
  },
  {
   "cell_type": "code",
   "execution_count": null,
   "metadata": {},
   "outputs": [],
   "source": [
    "dllModel_step()"
   ]
  },
  {
   "cell_type": "code",
   "execution_count": null,
   "metadata": {},
   "outputs": [],
   "source": [
    "dllModel_Y.Out1"
   ]
  },
  {
   "cell_type": "code",
   "execution_count": null,
   "metadata": {},
   "outputs": [],
   "source": [
    "dllModel_U.SigIn.value=1"
   ]
  },
  {
   "cell_type": "code",
   "execution_count": null,
   "metadata": {},
   "outputs": [],
   "source": [
    "dllModel_step()"
   ]
  },
  {
   "cell_type": "code",
   "execution_count": null,
   "metadata": {},
   "outputs": [],
   "source": [
    "dllModel_U._fields_"
   ]
  },
  {
   "cell_type": "code",
   "execution_count": null,
   "metadata": {},
   "outputs": [],
   "source": [
    "dllModel_Y.Out1"
   ]
  },
  {
   "cell_type": "code",
   "execution_count": null,
   "metadata": {},
   "outputs": [],
   "source": [
    "K.value=5"
   ]
  },
  {
   "cell_type": "code",
   "execution_count": null,
   "metadata": {},
   "outputs": [],
   "source": [
    "dllModel_step()"
   ]
  },
  {
   "cell_type": "code",
   "execution_count": null,
   "metadata": {},
   "outputs": [],
   "source": [
    "dllModel_Y.Out1"
   ]
  },
  {
   "cell_type": "code",
   "execution_count": null,
   "metadata": {},
   "outputs": [],
   "source": [
    "from var_dump import var_dump"
   ]
  },
  {
   "cell_type": "code",
   "execution_count": null,
   "metadata": {},
   "outputs": [],
   "source": [
    "?var_dump"
   ]
  },
  {
   "cell_type": "code",
   "execution_count": null,
   "metadata": {},
   "outputs": [],
   "source": [
    "vardump(dec)"
   ]
  },
  {
   "cell_type": "code",
   "execution_count": null,
   "metadata": {},
   "outputs": [],
   "source": [
    "for dec in ns.declarations:\n",
    "    if isinstance(dec, pygccxml.declarations.variable.variable_t):\n",
    "        print(\"{} = dll.{}\".format(dec.name, dec.name))"
   ]
  },
  {
   "cell_type": "code",
   "execution_count": null,
   "metadata": {},
   "outputs": [],
   "source": []
  },
  {
   "cell_type": "code",
   "execution_count": null,
   "metadata": {},
   "outputs": [],
   "source": [
    "def cpptype_to_ctypes(t):\n",
    "    if declarations.is_array(t):\n",
    "        if isinstance(t.base, pygccxml.declarations.cpptypes.char_t):\n",
    "            return \"ctypes.c_char_p({})\".format(t.size)\n",
    "    if declarations.is_pointer(t):\n",
    "        if hasattr(t, 'base'):\n",
    "            if declarations.is_pointer(t.base):\n",
    "                if hasattr(hasattr(t, 'base'), 'base') and t.base.base.decl_string  == \"char\":\n",
    "                    return \"ctypes.POINTER(ctypes.c_char_p)\"  \n",
    "            if t.base.decl_string == \"char\":\n",
    "                return \"ctypes.c_char_p\"\n",
    "            if t.base.decl_string == \"void\": \n",
    "                return \"ctypes.c_void_p\"\n",
    "        return \"ctypes.POINTER({})\".format(cpptype_to_ctypes(declarations.remove_pointer(t)))\n",
    "    if declarations.is_const(t):\n",
    "        return cpptype_to_ctypes(declarations.remove_const(t))\n",
    "    if t.decl_string.startswith(\"::\"):\n",
    "        return t.decl_string[2:]\n",
    "    tp = t.decl_string.split(\" \")\n",
    "    if len(tp)==1:\n",
    "        return \"ctypes.c_\" + tp[0]\n",
    "        if tp[0] == \"bool\":\n",
    "            return \"ctypes.c_bool\"\n",
    "        if tp[0] == \"char\":\n",
    "            return \"ctypes.c_char\"\n",
    "        if tp[0] == \"double\":\n",
    "            return \"ctypes.c_double\"\n",
    "        if tp[0] == \"int\":\n",
    "            return \"ctypes.c_int\"\n",
    "    if len(tp)==2:\n",
    "        if tp[1] == \"volatile\":\n",
    "            return \"ctypes.c_{}\".format(tp[0])\n",
    "        if tp[0] == \"unsigned\":\n",
    "            if tp[1] == \"char\":\n",
    "                tp[1] = \"byte\"\n",
    "            return \"ctypes.c_u{}\".format(tp[1])\n",
    "        if tp[1] == \"int\":\n",
    "            return \"ctypes.c_{}\".format(tp[0])\n",
    "    if len(tp)==3:\n",
    "        if tp[1]==\"unsigned\":\n",
    "            return \"ctypes.c_u{}\".format(tp[0])\n",
    "    print(f\"# Unknown type: {t.decl_string}\")"
   ]
  },
  {
   "cell_type": "code",
   "execution_count": null,
   "metadata": {},
   "outputs": [],
   "source": [
    "ctypes.windll.FreeLibrary(dll)"
   ]
  },
  {
   "cell_type": "code",
   "execution_count": null,
   "metadata": {},
   "outputs": [],
   "source": [
    "def vardump(var):\n",
    "    fields = dir(var)\n",
    "    for field in fields:\n",
    "        if field.startswith(\"_\"):\n",
    "            continue\n",
    "        try:\n",
    "            f = getattr(var, field)\n",
    "        except:\n",
    "            continue\n",
    "        try:\n",
    "            print(\"{}(): {}\".format(field, f()))\n",
    "        except:\n",
    "            try:\n",
    "                print(\"{}: {}<{}>\".format(field, type(f), f))\n",
    "            except:\n",
    "                pass"
   ]
  },
  {
   "cell_type": "code",
   "execution_count": null,
   "metadata": {},
   "outputs": [],
   "source": []
  },
  {
   "cell_type": "code",
   "execution_count": null,
   "metadata": {},
   "outputs": [],
   "source": []
  },
  {
   "cell_type": "code",
   "execution_count": null,
   "metadata": {},
   "outputs": [],
   "source": []
  },
  {
   "cell_type": "code",
   "execution_count": null,
   "metadata": {},
   "outputs": [],
   "source": []
  }
 ],
 "metadata": {
  "kernelspec": {
   "display_name": "Python 3",
   "language": "python",
   "name": "python3"
  },
  "language_info": {
   "codemirror_mode": {
    "name": "ipython",
    "version": 3
   },
   "file_extension": ".py",
   "mimetype": "text/x-python",
   "name": "python",
   "nbconvert_exporter": "python",
   "pygments_lexer": "ipython3",
   "version": "3.9.1"
  }
 },
 "nbformat": 4,
 "nbformat_minor": 2
}
