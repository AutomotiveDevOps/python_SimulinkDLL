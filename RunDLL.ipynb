{
 "cells": [
  {
   "cell_type": "code",
   "execution_count": 5,
   "metadata": {},
   "outputs": [],
   "source": [
    "import os\n",
    "import sys\n",
    "\n",
    "import pygccxml\n",
    "\n",
    "from pygccxml import utils\n",
    "from pygccxml import declarations\n",
    "from pygccxml import parser\n",
    "import ctypes\n",
    "import os"
   ]
  },
  {
   "cell_type": "code",
   "execution_count": 6,
   "metadata": {},
   "outputs": [],
   "source": [
    "build_root = os.path.abspath(\"Example/\")\n",
    "model = \"dllModel\"\n",
    "\n",
    "dll_path = os.path.join(build_root, model+\"_win64.dll\")\n",
    "header = os.path.join(build_root, model+\"_ert_shrlib_rtw\", model+\".h\")"
   ]
  },
  {
   "cell_type": "code",
   "execution_count": 7,
   "metadata": {},
   "outputs": [],
   "source": [
    "assert os.path.exists(dll_path)\n",
    "assert os.path.exists(header)"
   ]
  },
  {
   "cell_type": "code",
   "execution_count": 8,
   "metadata": {},
   "outputs": [],
   "source": [
    "# Standard Real Time Workshop Types\n",
    "# From rtwtypes.h\n",
    "int8_T = ctypes.c_byte\n",
    "uint8_T = ctypes.c_ubyte\n",
    "int16_T = ctypes.c_short\n",
    "uint16_T = ctypes.c_ushort\n",
    "int32_T = ctypes.c_int\n",
    "uint32_T = ctypes.c_uint\n",
    "int64_T = ctypes.c_longlong\n",
    "uint64_T = ctypes.c_ulonglong\n",
    "real32_T = ctypes.c_float\n",
    "real64_T = ctypes.c_double\n",
    "real_T = ctypes.c_double\n",
    "time_T = ctypes.c_double\n",
    "boolean_T = ctypes.c_ubyte\n",
    "int_T = ctypes.c_int\n",
    "uint_T = ctypes.c_uint\n",
    "ulong_T = ctypes.c_ulong\n",
    "ulonglong_T = ctypes.c_ulonglong\n",
    "char_T = ctypes.c_char\n",
    "uchar_T = ctypes.c_ubyte"
   ]
  },
  {
   "cell_type": "code",
   "execution_count": 10,
   "metadata": {},
   "outputs": [],
   "source": [
    "class creal32_T(ctypes.Structure):\n",
    "    _fields_ = [\n",
    "        (\"im\", real32_T),\n",
    "        (\"re\", real32_T),\n",
    "    ]\n",
    "class creal64_T(ctypes.Structure):\n",
    "    _fields_ = [\n",
    "        (\"im\", real64_T),\n",
    "        (\"re\", real64_T),\n",
    "    ]\n",
    "class creal_T(ctypes.Structure):\n",
    "    _fields_ = [\n",
    "        (\"im\", real_T),\n",
    "        (\"re\", real_T),\n",
    "    ]\n",
    "class cint8_T(ctypes.Structure):\n",
    "    _fields_ = [\n",
    "        (\"im\", int8_T),\n",
    "        (\"re\", int8_T),\n",
    "    ]\n",
    "class cuint8_T(ctypes.Structure):\n",
    "    _fields_ = [\n",
    "        (\"im\", uint8_T),\n",
    "        (\"re\", uint8_T),\n",
    "    ]\n",
    "class cint16_T(ctypes.Structure):\n",
    "    _fields_ = [\n",
    "        (\"im\", int16_T),\n",
    "        (\"re\", int16_T),\n",
    "    ]\n",
    "class cuint16_T(ctypes.Structure):\n",
    "    _fields_ = [\n",
    "        (\"im\", uint16_T),\n",
    "        (\"re\", uint16_T),\n",
    "    ]\n",
    "class cint32_T(ctypes.Structure):\n",
    "    _fields_ = [\n",
    "        (\"im\", int32_T),\n",
    "        (\"re\", int32_T),\n",
    "    ]\n",
    "class cuint32_T(ctypes.Structure):\n",
    "    _fields_ = [\n",
    "        (\"im\", uint32_T),\n",
    "        (\"re\", uint32_T),\n",
    "    ]\n",
    "class cint64_T(ctypes.Structure):\n",
    "    _fields_ = [\n",
    "        (\"im\", int64_T),\n",
    "        (\"re\", int64_T),\n",
    "    ]\n",
    "class cuint64_T(ctypes.Structure):\n",
    "    _fields_ = [\n",
    "        (\"im\", uint64_T),\n",
    "        (\"re\", uint64_T),\n",
    "    ]"
   ]
  },
  {
   "cell_type": "code",
   "execution_count": 11,
   "metadata": {},
   "outputs": [],
   "source": [
    "dll = ctypes.windll.LoadLibrary(dll_path)"
   ]
  },
  {
   "cell_type": "code",
   "execution_count": 20,
   "metadata": {},
   "outputs": [],
   "source": [
    "dllModel2_P = P_dllModel2_T.in_dll(dll, 'dllModel_P')\n",
    "dllModel2_U = ExtU_dllModel2_T.in_dll(dll, 'dllModel_U')\n",
    "dllModel2_Y = ExtY_dllModel2_T.in_dll(dll, 'dllModel_Y')"
   ]
  },
  {
   "cell_type": "code",
   "execution_count": 21,
   "metadata": {},
   "outputs": [],
   "source": [
    "dllModel2_M = ctypes.POINTER(tag_RTM_dllModel2_T).in_dll(dll, 'dllModel_M')"
   ]
  },
  {
   "cell_type": "code",
   "execution_count": 22,
   "metadata": {},
   "outputs": [],
   "source": [
    "dllModel_initialize = dll.dllModel_initialize\n",
    "dllModel_step = dll.dllModel_step\n",
    "dllModel_terminate = dll.dllModel_terminate"
   ]
  },
  {
   "cell_type": "code",
   "execution_count": 23,
   "metadata": {},
   "outputs": [
    {
     "data": {
      "text/plain": [
       "0.0"
      ]
     },
     "execution_count": 23,
     "metadata": {},
     "output_type": "execute_result"
    }
   ],
   "source": [
    "dllModel2_U.SignalIn"
   ]
  },
  {
   "cell_type": "code",
   "execution_count": 24,
   "metadata": {},
   "outputs": [
    {
     "data": {
      "text/plain": [
       "0.0"
      ]
     },
     "execution_count": 24,
     "metadata": {},
     "output_type": "execute_result"
    }
   ],
   "source": [
    "dllModel2_Y.OutputPort1"
   ]
  },
  {
   "cell_type": "code",
   "execution_count": 28,
   "metadata": {},
   "outputs": [
    {
     "data": {
      "text/plain": [
       "-36965888"
      ]
     },
     "execution_count": 28,
     "metadata": {},
     "output_type": "execute_result"
    }
   ],
   "source": [
    "dllModel_initialize()"
   ]
  },
  {
   "cell_type": "code",
   "execution_count": 35,
   "metadata": {},
   "outputs": [
    {
     "data": {
      "text/plain": [
       "-36965872"
      ]
     },
     "execution_count": 35,
     "metadata": {},
     "output_type": "execute_result"
    }
   ],
   "source": [
    "dllModel_step()"
   ]
  },
  {
   "cell_type": "code",
   "execution_count": 36,
   "metadata": {},
   "outputs": [
    {
     "data": {
      "text/plain": [
       "0.2"
      ]
     },
     "execution_count": 36,
     "metadata": {},
     "output_type": "execute_result"
    }
   ],
   "source": [
    "dllModel2_Y.OutputPort3"
   ]
  },
  {
   "cell_type": "code",
   "execution_count": null,
   "metadata": {},
   "outputs": [],
   "source": [
    "K.value = 3"
   ]
  },
  {
   "cell_type": "code",
   "execution_count": null,
   "metadata": {},
   "outputs": [],
   "source": [
    "dllModel2_U.SignalIn=1"
   ]
  },
  {
   "cell_type": "code",
   "execution_count": null,
   "metadata": {},
   "outputs": [],
   "source": [
    "dllModel2_initialize()\n",
    "while dllModel2_M.contents.Timing.clockTick0<10:\n",
    "    print(\"clockTick: {}\".format(dllModel2_M.contents.Timing.clockTick0))\n",
    "    dllModel2_step()"
   ]
  },
  {
   "cell_type": "code",
   "execution_count": 38,
   "metadata": {},
   "outputs": [
    {
     "ename": "NameError",
     "evalue": "name 'K' is not defined",
     "output_type": "error",
     "traceback": [
      "\u001b[1;31m---------------------------------------------------------------------------\u001b[0m",
      "\u001b[1;31mNameError\u001b[0m                                 Traceback (most recent call last)",
      "\u001b[1;32m<ipython-input-38-2a1b4f023778>\u001b[0m in \u001b[0;36m<module>\u001b[1;34m\u001b[0m\n\u001b[0;32m      1\u001b[0m \u001b[0mdllModel_initialize\u001b[0m\u001b[1;33m(\u001b[0m\u001b[1;33m)\u001b[0m\u001b[1;33m\u001b[0m\u001b[1;33m\u001b[0m\u001b[0m\n\u001b[0;32m      2\u001b[0m \u001b[1;32mwhile\u001b[0m \u001b[0mdllModel2_Y\u001b[0m\u001b[1;33m.\u001b[0m\u001b[0mOutputPort1\u001b[0m\u001b[1;33m<\u001b[0m\u001b[1;36m10\u001b[0m\u001b[1;33m:\u001b[0m\u001b[1;33m\u001b[0m\u001b[1;33m\u001b[0m\u001b[0m\n\u001b[1;32m----> 3\u001b[1;33m     \u001b[0mprint\u001b[0m\u001b[1;33m(\u001b[0m\u001b[1;34m\"Step: {}, In: {}, Gain: {}, Output: {}\"\u001b[0m\u001b[1;33m.\u001b[0m\u001b[0mformat\u001b[0m\u001b[1;33m(\u001b[0m\u001b[0mdllModel2_U\u001b[0m\u001b[1;33m.\u001b[0m\u001b[0mSignalIn\u001b[0m\u001b[1;33m,\u001b[0m \u001b[0mK\u001b[0m\u001b[1;33m,\u001b[0m \u001b[0mdllModel2_Y\u001b[0m\u001b[1;33m.\u001b[0m\u001b[0mOutputPort1\u001b[0m\u001b[1;33m)\u001b[0m\u001b[1;33m)\u001b[0m\u001b[1;33m\u001b[0m\u001b[1;33m\u001b[0m\u001b[0m\n\u001b[0m\u001b[0;32m      4\u001b[0m     \u001b[0mdllModel2_U\u001b[0m\u001b[1;33m.\u001b[0m\u001b[0mSignalIn\u001b[0m\u001b[1;33m+=\u001b[0m\u001b[1;36m1\u001b[0m\u001b[1;33m\u001b[0m\u001b[1;33m\u001b[0m\u001b[0m\n\u001b[0;32m      5\u001b[0m     \u001b[0mdllModel_step\u001b[0m\u001b[1;33m(\u001b[0m\u001b[1;33m)\u001b[0m\u001b[1;33m\u001b[0m\u001b[1;33m\u001b[0m\u001b[0m\n",
      "\u001b[1;31mNameError\u001b[0m: name 'K' is not defined"
     ]
    }
   ],
   "source": [
    "dllModel_initialize()\n",
    "while dllModel2_Y.OutputPort1<10:\n",
    "    print(\"Step: {}, In: {}, Gain: {}, Output: {}\".format(dllModel2_U.SignalIn, K, dllModel2_Y.OutputPort1))\n",
    "    dllModel2_U.SignalIn+=1\n",
    "    dllModel_step()"
   ]
  },
  {
   "cell_type": "code",
   "execution_count": null,
   "metadata": {},
   "outputs": [],
   "source": []
  }
 ],
 "metadata": {
  "kernelspec": {
   "display_name": "Python 3",
   "language": "python",
   "name": "python3"
  },
  "language_info": {
   "codemirror_mode": {
    "name": "ipython",
    "version": 3
   },
   "file_extension": ".py",
   "mimetype": "text/x-python",
   "name": "python",
   "nbconvert_exporter": "python",
   "pygments_lexer": "ipython3",
   "version": "3.9.1"
  }
 },
 "nbformat": 4,
 "nbformat_minor": 2
}
