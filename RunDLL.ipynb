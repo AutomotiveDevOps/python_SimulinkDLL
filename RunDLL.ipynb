{
 "cells": [
  {
   "cell_type": "code",
   "execution_count": 1,
   "metadata": {
    "collapsed": true
   },
   "outputs": [],
   "source": [
    "import os\n",
    "import sys\n",
    "\n",
    "import pygccxml\n",
    "\n",
    "from pygccxml import utils\n",
    "from pygccxml import declarations\n",
    "from pygccxml import parser\n",
    "import ctypes\n",
    "import os\n",
    "\n",
    "file = sys.stdout"
   ]
  },
  {
   "cell_type": "code",
   "execution_count": 2,
   "metadata": {
    "collapsed": true
   },
   "outputs": [],
   "source": [
    "build_root = os.path.abspath(\"Example/\")\n",
    "model = \"dllModel\"\n",
    "\n",
    "dll_path = os.path.join(build_root, model+\"_win64.dll\")\n",
    "header = os.path.join(build_root, model+\"_ert_shrlib_rtw\", model+\".h\")"
   ]
  },
  {
   "cell_type": "code",
   "execution_count": 3,
   "metadata": {
    "collapsed": true
   },
   "outputs": [],
   "source": [
    "assert os.path.exists(dll_path)\n",
    "assert os.path.exists(header)"
   ]
  },
  {
   "cell_type": "code",
   "execution_count": 4,
   "metadata": {
    "collapsed": true
   },
   "outputs": [],
   "source": [
    "# Standard Types\n",
    "size_t = ctypes.c_ulonglong\n",
    "ssize_t = ctypes.c_longlong\n",
    "intptr_t = ctypes.c_longlong\n",
    "uintptr_t = ctypes.c_ulonglong\n",
    "ptrdiff_t = ctypes.c_longlong\n",
    "wint_t = ctypes.c_ushort\n",
    "wctype_t = ctypes.c_ushort\n",
    "errno_t = ctypes.c_int\n",
    "__time32_t = ctypes.c_long\n",
    "__time64_t = ctypes.c_longlong\n",
    "int8_T = ctypes.c_byte\n",
    "uint8_T = ctypes.c_ubyte\n",
    "int16_T = ctypes.c_short\n",
    "uint16_T = ctypes.c_ushort\n",
    "int32_T = ctypes.c_int\n",
    "uint32_T = ctypes.c_uint\n",
    "int64_T = ctypes.c_longlong\n",
    "uint64_T = ctypes.c_ulonglong\n",
    "real32_T = ctypes.c_float\n",
    "real64_T = ctypes.c_double\n",
    "real_T = ctypes.c_double\n",
    "time_T = ctypes.c_double\n",
    "boolean_T = ctypes.c_ubyte\n",
    "int_T = ctypes.c_int\n",
    "uint_T = ctypes.c_uint\n",
    "ulong_T = ctypes.c_ulong\n",
    "ulonglong_T = ctypes.c_ulonglong\n",
    "char_T = ctypes.c_char\n",
    "uchar_T = ctypes.c_ubyte"
   ]
  },
  {
   "cell_type": "code",
   "execution_count": 5,
   "metadata": {
    "collapsed": true
   },
   "outputs": [],
   "source": [
    "class tagLC_ID(ctypes.Structure):\n",
    "    _fields_ = [\n",
    "        (\"wCodePage\", ctypes.c_ushort),\n",
    "        (\"wCountry\", ctypes.c_ushort),\n",
    "        (\"wLanguage\", ctypes.c_ushort),\n",
    "    ]\n",
    "LC_ID = tagLC_ID\n",
    "class creal32_T(ctypes.Structure):\n",
    "    _fields_ = [\n",
    "        (\"im\", real32_T),\n",
    "        (\"re\", real32_T),\n",
    "    ]\n",
    "class creal64_T(ctypes.Structure):\n",
    "    _fields_ = [\n",
    "        (\"im\", real64_T),\n",
    "        (\"re\", real64_T),\n",
    "    ]\n",
    "class creal_T(ctypes.Structure):\n",
    "    _fields_ = [\n",
    "        (\"im\", real_T),\n",
    "        (\"re\", real_T),\n",
    "    ]\n",
    "class cint8_T(ctypes.Structure):\n",
    "    _fields_ = [\n",
    "        (\"im\", int8_T),\n",
    "        (\"re\", int8_T),\n",
    "    ]\n",
    "class cuint8_T(ctypes.Structure):\n",
    "    _fields_ = [\n",
    "        (\"im\", uint8_T),\n",
    "        (\"re\", uint8_T),\n",
    "    ]\n",
    "class cint16_T(ctypes.Structure):\n",
    "    _fields_ = [\n",
    "        (\"im\", int16_T),\n",
    "        (\"re\", int16_T),\n",
    "    ]\n",
    "class cuint16_T(ctypes.Structure):\n",
    "    _fields_ = [\n",
    "        (\"im\", uint16_T),\n",
    "        (\"re\", uint16_T),\n",
    "    ]\n",
    "class cint32_T(ctypes.Structure):\n",
    "    _fields_ = [\n",
    "        (\"im\", int32_T),\n",
    "        (\"re\", int32_T),\n",
    "    ]\n",
    "class cuint32_T(ctypes.Structure):\n",
    "    _fields_ = [\n",
    "        (\"im\", uint32_T),\n",
    "        (\"re\", uint32_T),\n",
    "    ]\n",
    "class cint64_T(ctypes.Structure):\n",
    "    _fields_ = [\n",
    "        (\"im\", int64_T),\n",
    "        (\"re\", int64_T),\n",
    "    ]\n",
    "class cuint64_T(ctypes.Structure):\n",
    "    _fields_ = [\n",
    "        (\"im\", uint64_T),\n",
    "        (\"re\", uint64_T),\n",
    "    ]\n",
    "class P_dllModel2_T_(ctypes.Structure):\n",
    "    _fields_ = [\n",
    "        (\"K2\", real32_T),\n",
    "    ]\n",
    "P_dllModel2_T = P_dllModel2_T_\n",
    "\n",
    "class Timing(ctypes.Structure):\n",
    "    _fields_ = [     \n",
    "        (\"clockTick0\", uint32_T),\n",
    "        (\"clockTickH0\", uint32_T),   \n",
    "    ]\n",
    "\n",
    "class tag_RTM_dllModel2_T(ctypes.Structure):\n",
    "    _fields_ = [\n",
    "        (\"errorStatus\", ctypes.POINTER(ctypes.c_char)),\n",
    "        (\"Timing\", Timing),\n",
    "    ]\n",
    "RT_MODEL_dllModel2_T = tag_RTM_dllModel2_T\n",
    "class B_dllModel2_T(ctypes.Structure):\n",
    "    _fields_ = [\n",
    "        (\"SignalOut3\", real_T),\n",
    "        (\"alias_SimulinkGlobalOut\", real32_T),\n",
    "    ]\n",
    "class ExtU_dllModel2_T(ctypes.Structure):\n",
    "    _fields_ = [\n",
    "        (\"SignalIn\", real32_T),\n",
    "    ]\n",
    "class ExtY_dllModel2_T(ctypes.Structure):\n",
    "    _fields_ = [\n",
    "        (\"OutputPort1\", real32_T),\n",
    "        (\"OutputPort3\", real_T),\n",
    "    ]\n",
    "class MuxedSignalStruct_tag(ctypes.Structure):\n",
    "    _fields_ = [\n",
    "        (\"MuxedSignal\", real_T*2),\n",
    "    ]\n",
    "MuxedSignalStruct_type = MuxedSignalStruct_tag\n",
    "class MyCustomStruct_tag(ctypes.Structure):\n",
    "    _fields_ = [\n",
    "        (\"SimulationTime\", real_T),\n",
    "    ]\n",
    "MyCustomStruct_type = MyCustomStruct_tag"
   ]
  },
  {
   "cell_type": "code",
   "execution_count": 6,
   "metadata": {
    "collapsed": true
   },
   "outputs": [],
   "source": [
    "dll = ctypes.windll.LoadLibrary(dll_path)"
   ]
  },
  {
   "cell_type": "code",
   "execution_count": 7,
   "metadata": {},
   "outputs": [
    {
     "ename": "ValueError",
     "evalue": "symbol 'SignalIn2' not found",
     "output_type": "error",
     "traceback": [
      "\u001b[1;31m---------------------------------------------------------------------------\u001b[0m",
      "\u001b[1;31mValueError\u001b[0m                                Traceback (most recent call last)",
      "\u001b[1;32m<ipython-input-7-61062c9aee56>\u001b[0m in \u001b[0;36m<module>\u001b[1;34m()\u001b[0m\n\u001b[0;32m      2\u001b[0m \u001b[0mdllModel2_U\u001b[0m \u001b[1;33m=\u001b[0m \u001b[0mExtU_dllModel2_T\u001b[0m\u001b[1;33m.\u001b[0m\u001b[0min_dll\u001b[0m\u001b[1;33m(\u001b[0m\u001b[0mdll\u001b[0m\u001b[1;33m,\u001b[0m \u001b[1;34m'dllModel_U'\u001b[0m\u001b[1;33m)\u001b[0m\u001b[1;33m\u001b[0m\u001b[0m\n\u001b[0;32m      3\u001b[0m \u001b[0mdllModel2_Y\u001b[0m \u001b[1;33m=\u001b[0m \u001b[0mExtY_dllModel2_T\u001b[0m\u001b[1;33m.\u001b[0m\u001b[0min_dll\u001b[0m\u001b[1;33m(\u001b[0m\u001b[0mdll\u001b[0m\u001b[1;33m,\u001b[0m \u001b[1;34m'dllModel_Y'\u001b[0m\u001b[1;33m)\u001b[0m\u001b[1;33m\u001b[0m\u001b[0m\n\u001b[1;32m----> 4\u001b[1;33m \u001b[0mSignalIn2\u001b[0m \u001b[1;33m=\u001b[0m \u001b[0mreal32_T\u001b[0m\u001b[1;33m.\u001b[0m\u001b[0min_dll\u001b[0m\u001b[1;33m(\u001b[0m\u001b[0mdll\u001b[0m\u001b[1;33m,\u001b[0m \u001b[1;34m'SignalIn2'\u001b[0m\u001b[1;33m)\u001b[0m\u001b[1;33m\u001b[0m\u001b[0m\n\u001b[0m\u001b[0;32m      5\u001b[0m \u001b[0mSignalIn3\u001b[0m \u001b[1;33m=\u001b[0m \u001b[0mreal_T\u001b[0m\u001b[1;33m.\u001b[0m\u001b[0min_dll\u001b[0m\u001b[1;33m(\u001b[0m\u001b[0mdll\u001b[0m\u001b[1;33m,\u001b[0m \u001b[1;34m'SignalIn3'\u001b[0m\u001b[1;33m)\u001b[0m\u001b[1;33m\u001b[0m\u001b[0m\n\u001b[0;32m      6\u001b[0m \u001b[0mSignalOut2\u001b[0m \u001b[1;33m=\u001b[0m \u001b[0mreal32_T\u001b[0m\u001b[1;33m.\u001b[0m\u001b[0min_dll\u001b[0m\u001b[1;33m(\u001b[0m\u001b[0mdll\u001b[0m\u001b[1;33m,\u001b[0m \u001b[1;34m'SignalOut2'\u001b[0m\u001b[1;33m)\u001b[0m\u001b[1;33m\u001b[0m\u001b[0m\n",
      "\u001b[1;31mValueError\u001b[0m: symbol 'SignalIn2' not found"
     ]
    }
   ],
   "source": [
    "dllModel2_P = P_dllModel2_T.in_dll(dll, 'dllModel_P')\n",
    "dllModel2_U = ExtU_dllModel2_T.in_dll(dll, 'dllModel_U')\n",
    "dllModel2_Y = ExtY_dllModel2_T.in_dll(dll, 'dllModel_Y')\n",
    "SignalIn2 = real32_T.in_dll(dll, 'SignalIn2')\n",
    "SignalIn3 = real_T.in_dll(dll, 'SignalIn3')\n",
    "SignalOut2 = real32_T.in_dll(dll, 'SignalOut2')\n",
    "K = real32_T.in_dll(dll, 'K')\n",
    "dllModel2_M = ctypes.POINTER(tag_RTM_dllModel2_T).in_dll(dll, 'dllModel_M')"
   ]
  },
  {
   "cell_type": "code",
   "execution_count": 8,
   "metadata": {},
   "outputs": [
    {
     "ename": "AttributeError",
     "evalue": "function 'dllModel2_initialize' not found",
     "output_type": "error",
     "traceback": [
      "\u001b[1;31m---------------------------------------------------------------------------\u001b[0m",
      "\u001b[1;31mAttributeError\u001b[0m                            Traceback (most recent call last)",
      "\u001b[1;32m<ipython-input-8-8444cb2047e5>\u001b[0m in \u001b[0;36m<module>\u001b[1;34m()\u001b[0m\n\u001b[1;32m----> 1\u001b[1;33m \u001b[0mdllModel2_initialize\u001b[0m \u001b[1;33m=\u001b[0m \u001b[0mdll\u001b[0m\u001b[1;33m.\u001b[0m\u001b[0mdllModel2_initialize\u001b[0m\u001b[1;33m\u001b[0m\u001b[0m\n\u001b[0m\u001b[0;32m      2\u001b[0m \u001b[0mdllModel2_step\u001b[0m \u001b[1;33m=\u001b[0m \u001b[0mdll\u001b[0m\u001b[1;33m.\u001b[0m\u001b[0mdllModel2_step\u001b[0m\u001b[1;33m\u001b[0m\u001b[0m\n\u001b[0;32m      3\u001b[0m \u001b[0mdllModel2_terminate\u001b[0m \u001b[1;33m=\u001b[0m \u001b[0mdll\u001b[0m\u001b[1;33m.\u001b[0m\u001b[0mdllModel2_terminate\u001b[0m\u001b[1;33m\u001b[0m\u001b[0m\n",
      "\u001b[1;32mC:\\Projects\\EatonPython-64bit-3.6\\python-3.6.1.amd64\\lib\\ctypes\\__init__.py\u001b[0m in \u001b[0;36m__getattr__\u001b[1;34m(self, name)\u001b[0m\n\u001b[0;32m    359\u001b[0m         \u001b[1;32mif\u001b[0m \u001b[0mname\u001b[0m\u001b[1;33m.\u001b[0m\u001b[0mstartswith\u001b[0m\u001b[1;33m(\u001b[0m\u001b[1;34m'__'\u001b[0m\u001b[1;33m)\u001b[0m \u001b[1;32mand\u001b[0m \u001b[0mname\u001b[0m\u001b[1;33m.\u001b[0m\u001b[0mendswith\u001b[0m\u001b[1;33m(\u001b[0m\u001b[1;34m'__'\u001b[0m\u001b[1;33m)\u001b[0m\u001b[1;33m:\u001b[0m\u001b[1;33m\u001b[0m\u001b[0m\n\u001b[0;32m    360\u001b[0m             \u001b[1;32mraise\u001b[0m \u001b[0mAttributeError\u001b[0m\u001b[1;33m(\u001b[0m\u001b[0mname\u001b[0m\u001b[1;33m)\u001b[0m\u001b[1;33m\u001b[0m\u001b[0m\n\u001b[1;32m--> 361\u001b[1;33m         \u001b[0mfunc\u001b[0m \u001b[1;33m=\u001b[0m \u001b[0mself\u001b[0m\u001b[1;33m.\u001b[0m\u001b[0m__getitem__\u001b[0m\u001b[1;33m(\u001b[0m\u001b[0mname\u001b[0m\u001b[1;33m)\u001b[0m\u001b[1;33m\u001b[0m\u001b[0m\n\u001b[0m\u001b[0;32m    362\u001b[0m         \u001b[0msetattr\u001b[0m\u001b[1;33m(\u001b[0m\u001b[0mself\u001b[0m\u001b[1;33m,\u001b[0m \u001b[0mname\u001b[0m\u001b[1;33m,\u001b[0m \u001b[0mfunc\u001b[0m\u001b[1;33m)\u001b[0m\u001b[1;33m\u001b[0m\u001b[0m\n\u001b[0;32m    363\u001b[0m         \u001b[1;32mreturn\u001b[0m \u001b[0mfunc\u001b[0m\u001b[1;33m\u001b[0m\u001b[0m\n",
      "\u001b[1;32mC:\\Projects\\EatonPython-64bit-3.6\\python-3.6.1.amd64\\lib\\ctypes\\__init__.py\u001b[0m in \u001b[0;36m__getitem__\u001b[1;34m(self, name_or_ordinal)\u001b[0m\n\u001b[0;32m    364\u001b[0m \u001b[1;33m\u001b[0m\u001b[0m\n\u001b[0;32m    365\u001b[0m     \u001b[1;32mdef\u001b[0m \u001b[0m__getitem__\u001b[0m\u001b[1;33m(\u001b[0m\u001b[0mself\u001b[0m\u001b[1;33m,\u001b[0m \u001b[0mname_or_ordinal\u001b[0m\u001b[1;33m)\u001b[0m\u001b[1;33m:\u001b[0m\u001b[1;33m\u001b[0m\u001b[0m\n\u001b[1;32m--> 366\u001b[1;33m         \u001b[0mfunc\u001b[0m \u001b[1;33m=\u001b[0m \u001b[0mself\u001b[0m\u001b[1;33m.\u001b[0m\u001b[0m_FuncPtr\u001b[0m\u001b[1;33m(\u001b[0m\u001b[1;33m(\u001b[0m\u001b[0mname_or_ordinal\u001b[0m\u001b[1;33m,\u001b[0m \u001b[0mself\u001b[0m\u001b[1;33m)\u001b[0m\u001b[1;33m)\u001b[0m\u001b[1;33m\u001b[0m\u001b[0m\n\u001b[0m\u001b[0;32m    367\u001b[0m         \u001b[1;32mif\u001b[0m \u001b[1;32mnot\u001b[0m \u001b[0misinstance\u001b[0m\u001b[1;33m(\u001b[0m\u001b[0mname_or_ordinal\u001b[0m\u001b[1;33m,\u001b[0m \u001b[0mint\u001b[0m\u001b[1;33m)\u001b[0m\u001b[1;33m:\u001b[0m\u001b[1;33m\u001b[0m\u001b[0m\n\u001b[0;32m    368\u001b[0m             \u001b[0mfunc\u001b[0m\u001b[1;33m.\u001b[0m\u001b[0m__name__\u001b[0m \u001b[1;33m=\u001b[0m \u001b[0mname_or_ordinal\u001b[0m\u001b[1;33m\u001b[0m\u001b[0m\n",
      "\u001b[1;31mAttributeError\u001b[0m: function 'dllModel2_initialize' not found"
     ]
    }
   ],
   "source": [
    "dllModel2_initialize = dll.dllModel2_initialize\n",
    "dllModel2_step = dll.dllModel2_step\n",
    "dllModel2_terminate = dll.dllModel2_terminate"
   ]
  },
  {
   "cell_type": "code",
   "execution_count": 9,
   "metadata": {},
   "outputs": [
    {
     "data": {
      "text/plain": [
       "0.0"
      ]
     },
     "execution_count": 9,
     "metadata": {},
     "output_type": "execute_result"
    }
   ],
   "source": [
    "dllModel2_U.SignalIn"
   ]
  },
  {
   "cell_type": "code",
   "execution_count": 10,
   "metadata": {},
   "outputs": [
    {
     "data": {
      "text/plain": [
       "0.0"
      ]
     },
     "execution_count": 10,
     "metadata": {},
     "output_type": "execute_result"
    }
   ],
   "source": [
    "dllModel2_Y.OutputPort1"
   ]
  },
  {
   "cell_type": "code",
   "execution_count": 11,
   "metadata": {},
   "outputs": [
    {
     "ename": "NameError",
     "evalue": "name 'K' is not defined",
     "output_type": "error",
     "traceback": [
      "\u001b[1;31m---------------------------------------------------------------------------\u001b[0m",
      "\u001b[1;31mNameError\u001b[0m                                 Traceback (most recent call last)",
      "\u001b[1;32m<ipython-input-11-c1b119150a7d>\u001b[0m in \u001b[0;36m<module>\u001b[1;34m()\u001b[0m\n\u001b[1;32m----> 1\u001b[1;33m \u001b[0mK\u001b[0m\u001b[1;33m.\u001b[0m\u001b[0mvalue\u001b[0m\u001b[1;33m\u001b[0m\u001b[0m\n\u001b[0m",
      "\u001b[1;31mNameError\u001b[0m: name 'K' is not defined"
     ]
    }
   ],
   "source": [
    "K.value"
   ]
  },
  {
   "cell_type": "code",
   "execution_count": 12,
   "metadata": {},
   "outputs": [
    {
     "ename": "NameError",
     "evalue": "name 'dllModel2_initialize' is not defined",
     "output_type": "error",
     "traceback": [
      "\u001b[1;31m---------------------------------------------------------------------------\u001b[0m",
      "\u001b[1;31mNameError\u001b[0m                                 Traceback (most recent call last)",
      "\u001b[1;32m<ipython-input-12-716a830dc348>\u001b[0m in \u001b[0;36m<module>\u001b[1;34m()\u001b[0m\n\u001b[1;32m----> 1\u001b[1;33m \u001b[0mdllModel2_initialize\u001b[0m\u001b[1;33m(\u001b[0m\u001b[1;33m)\u001b[0m\u001b[1;33m\u001b[0m\u001b[0m\n\u001b[0m",
      "\u001b[1;31mNameError\u001b[0m: name 'dllModel2_initialize' is not defined"
     ]
    }
   ],
   "source": [
    "dllModel2_initialize()"
   ]
  },
  {
   "cell_type": "code",
   "execution_count": 13,
   "metadata": {},
   "outputs": [
    {
     "ename": "NameError",
     "evalue": "name 'dllModel2_step' is not defined",
     "output_type": "error",
     "traceback": [
      "\u001b[1;31m---------------------------------------------------------------------------\u001b[0m",
      "\u001b[1;31mNameError\u001b[0m                                 Traceback (most recent call last)",
      "\u001b[1;32m<ipython-input-13-94d1414d4b1c>\u001b[0m in \u001b[0;36m<module>\u001b[1;34m()\u001b[0m\n\u001b[1;32m----> 1\u001b[1;33m \u001b[0mdllModel2_step\u001b[0m\u001b[1;33m(\u001b[0m\u001b[1;33m)\u001b[0m\u001b[1;33m\u001b[0m\u001b[0m\n\u001b[0m",
      "\u001b[1;31mNameError\u001b[0m: name 'dllModel2_step' is not defined"
     ]
    }
   ],
   "source": [
    "dllModel2_step()"
   ]
  },
  {
   "cell_type": "code",
   "execution_count": 14,
   "metadata": {},
   "outputs": [
    {
     "data": {
      "text/plain": [
       "0.0"
      ]
     },
     "execution_count": 14,
     "metadata": {},
     "output_type": "execute_result"
    }
   ],
   "source": [
    "dllModel2_Y.OutputPort1"
   ]
  },
  {
   "cell_type": "code",
   "execution_count": 15,
   "metadata": {},
   "outputs": [
    {
     "ename": "NameError",
     "evalue": "name 'K' is not defined",
     "output_type": "error",
     "traceback": [
      "\u001b[1;31m---------------------------------------------------------------------------\u001b[0m",
      "\u001b[1;31mNameError\u001b[0m                                 Traceback (most recent call last)",
      "\u001b[1;32m<ipython-input-15-ab25f69bc107>\u001b[0m in \u001b[0;36m<module>\u001b[1;34m()\u001b[0m\n\u001b[1;32m----> 1\u001b[1;33m \u001b[0mK\u001b[0m\u001b[1;33m.\u001b[0m\u001b[0mvalue\u001b[0m \u001b[1;33m=\u001b[0m \u001b[1;36m3\u001b[0m\u001b[1;33m\u001b[0m\u001b[0m\n\u001b[0m",
      "\u001b[1;31mNameError\u001b[0m: name 'K' is not defined"
     ]
    }
   ],
   "source": [
    "K.value = 3"
   ]
  },
  {
   "cell_type": "code",
   "execution_count": 16,
   "metadata": {
    "collapsed": true
   },
   "outputs": [],
   "source": [
    "dllModel2_U.SignalIn=1"
   ]
  },
  {
   "cell_type": "code",
   "execution_count": 17,
   "metadata": {},
   "outputs": [
    {
     "ename": "NameError",
     "evalue": "name 'dllModel2_step' is not defined",
     "output_type": "error",
     "traceback": [
      "\u001b[1;31m---------------------------------------------------------------------------\u001b[0m",
      "\u001b[1;31mNameError\u001b[0m                                 Traceback (most recent call last)",
      "\u001b[1;32m<ipython-input-17-94d1414d4b1c>\u001b[0m in \u001b[0;36m<module>\u001b[1;34m()\u001b[0m\n\u001b[1;32m----> 1\u001b[1;33m \u001b[0mdllModel2_step\u001b[0m\u001b[1;33m(\u001b[0m\u001b[1;33m)\u001b[0m\u001b[1;33m\u001b[0m\u001b[0m\n\u001b[0m",
      "\u001b[1;31mNameError\u001b[0m: name 'dllModel2_step' is not defined"
     ]
    }
   ],
   "source": [
    "dllModel2_step()"
   ]
  },
  {
   "cell_type": "code",
   "execution_count": 18,
   "metadata": {},
   "outputs": [
    {
     "data": {
      "text/plain": [
       "0.0"
      ]
     },
     "execution_count": 18,
     "metadata": {},
     "output_type": "execute_result"
    }
   ],
   "source": [
    "dllModel2_Y.OutputPort1"
   ]
  },
  {
   "cell_type": "code",
   "execution_count": 19,
   "metadata": {},
   "outputs": [
    {
     "ename": "NameError",
     "evalue": "name 'dllModel2_M' is not defined",
     "output_type": "error",
     "traceback": [
      "\u001b[1;31m---------------------------------------------------------------------------\u001b[0m",
      "\u001b[1;31mNameError\u001b[0m                                 Traceback (most recent call last)",
      "\u001b[1;32m<ipython-input-19-fb7f56371af5>\u001b[0m in \u001b[0;36m<module>\u001b[1;34m()\u001b[0m\n\u001b[1;32m----> 1\u001b[1;33m \u001b[0mdllModel2_M\u001b[0m\u001b[1;33m.\u001b[0m\u001b[0mcontents\u001b[0m\u001b[1;33m.\u001b[0m\u001b[0mTiming\u001b[0m\u001b[1;33m.\u001b[0m\u001b[0mclockTick0\u001b[0m\u001b[1;33m\u001b[0m\u001b[0m\n\u001b[0m",
      "\u001b[1;31mNameError\u001b[0m: name 'dllModel2_M' is not defined"
     ]
    }
   ],
   "source": [
    "dllModel2_M.contents.Timing.clockTick0"
   ]
  },
  {
   "cell_type": "code",
   "execution_count": 20,
   "metadata": {},
   "outputs": [
    {
     "data": {
      "text/plain": [
       "4.591774807899561e-41"
      ]
     },
     "execution_count": 20,
     "metadata": {},
     "output_type": "execute_result"
    }
   ],
   "source": [
    "dllModel2_P.K2"
   ]
  },
  {
   "cell_type": "code",
   "execution_count": 21,
   "metadata": {},
   "outputs": [
    {
     "ename": "NameError",
     "evalue": "name 'dllModel2_initialize' is not defined",
     "output_type": "error",
     "traceback": [
      "\u001b[1;31m---------------------------------------------------------------------------\u001b[0m",
      "\u001b[1;31mNameError\u001b[0m                                 Traceback (most recent call last)",
      "\u001b[1;32m<ipython-input-21-8ea387903a09>\u001b[0m in \u001b[0;36m<module>\u001b[1;34m()\u001b[0m\n\u001b[1;32m----> 1\u001b[1;33m \u001b[0mdllModel2_initialize\u001b[0m\u001b[1;33m(\u001b[0m\u001b[1;33m)\u001b[0m\u001b[1;33m\u001b[0m\u001b[0m\n\u001b[0m\u001b[0;32m      2\u001b[0m \u001b[1;32mwhile\u001b[0m \u001b[0mdllModel2_M\u001b[0m\u001b[1;33m.\u001b[0m\u001b[0mcontents\u001b[0m\u001b[1;33m.\u001b[0m\u001b[0mTiming\u001b[0m\u001b[1;33m.\u001b[0m\u001b[0mclockTick0\u001b[0m\u001b[1;33m<\u001b[0m\u001b[1;36m10\u001b[0m\u001b[1;33m:\u001b[0m\u001b[1;33m\u001b[0m\u001b[0m\n\u001b[0;32m      3\u001b[0m     \u001b[0mprint\u001b[0m\u001b[1;33m(\u001b[0m\u001b[1;34m\"clockTick: {}\"\u001b[0m\u001b[1;33m.\u001b[0m\u001b[0mformat\u001b[0m\u001b[1;33m(\u001b[0m\u001b[0mdllModel2_M\u001b[0m\u001b[1;33m.\u001b[0m\u001b[0mcontents\u001b[0m\u001b[1;33m.\u001b[0m\u001b[0mTiming\u001b[0m\u001b[1;33m.\u001b[0m\u001b[0mclockTick0\u001b[0m\u001b[1;33m)\u001b[0m\u001b[1;33m)\u001b[0m\u001b[1;33m\u001b[0m\u001b[0m\n\u001b[0;32m      4\u001b[0m     \u001b[0mdllModel2_step\u001b[0m\u001b[1;33m(\u001b[0m\u001b[1;33m)\u001b[0m\u001b[1;33m\u001b[0m\u001b[0m\n",
      "\u001b[1;31mNameError\u001b[0m: name 'dllModel2_initialize' is not defined"
     ]
    }
   ],
   "source": [
    "dllModel2_initialize()\n",
    "while dllModel2_M.contents.Timing.clockTick0<10:\n",
    "    print(\"clockTick: {}\".format(dllModel2_M.contents.Timing.clockTick0))\n",
    "    dllModel2_step()"
   ]
  },
  {
   "cell_type": "code",
   "execution_count": 22,
   "metadata": {},
   "outputs": [
    {
     "ename": "NameError",
     "evalue": "name 'dllModel2_initialize' is not defined",
     "output_type": "error",
     "traceback": [
      "\u001b[1;31m---------------------------------------------------------------------------\u001b[0m",
      "\u001b[1;31mNameError\u001b[0m                                 Traceback (most recent call last)",
      "\u001b[1;32m<ipython-input-22-abfb4124457b>\u001b[0m in \u001b[0;36m<module>\u001b[1;34m()\u001b[0m\n\u001b[1;32m----> 1\u001b[1;33m \u001b[0mdllModel2_initialize\u001b[0m\u001b[1;33m(\u001b[0m\u001b[1;33m)\u001b[0m\u001b[1;33m\u001b[0m\u001b[0m\n\u001b[0m\u001b[0;32m      2\u001b[0m \u001b[1;32mwhile\u001b[0m \u001b[0mdllModel2_Y\u001b[0m\u001b[1;33m.\u001b[0m\u001b[0mOutputPort1\u001b[0m\u001b[1;33m<\u001b[0m\u001b[1;36m10\u001b[0m\u001b[1;33m:\u001b[0m\u001b[1;33m\u001b[0m\u001b[0m\n\u001b[0;32m      3\u001b[0m     \u001b[0mprint\u001b[0m\u001b[1;33m(\u001b[0m\u001b[1;34m\"Step: {}, In: {}, Gain: {}, Output: {}\"\u001b[0m\u001b[1;33m.\u001b[0m\u001b[0mformat\u001b[0m\u001b[1;33m(\u001b[0m\u001b[0mdllModel2_U\u001b[0m\u001b[1;33m.\u001b[0m\u001b[0mSignalIn\u001b[0m\u001b[1;33m,\u001b[0m \u001b[0mK\u001b[0m\u001b[1;33m,\u001b[0m \u001b[0mdllModel2_Y\u001b[0m\u001b[1;33m.\u001b[0m\u001b[0mOutputPort1\u001b[0m\u001b[1;33m)\u001b[0m\u001b[1;33m)\u001b[0m\u001b[1;33m\u001b[0m\u001b[0m\n\u001b[0;32m      4\u001b[0m     \u001b[0mdllModel2_U\u001b[0m\u001b[1;33m.\u001b[0m\u001b[0mSignalIn\u001b[0m\u001b[1;33m+=\u001b[0m\u001b[1;36m1\u001b[0m\u001b[1;33m\u001b[0m\u001b[0m\n\u001b[0;32m      5\u001b[0m     \u001b[0mdllModel2_step\u001b[0m\u001b[1;33m(\u001b[0m\u001b[1;33m)\u001b[0m\u001b[1;33m\u001b[0m\u001b[0m\n",
      "\u001b[1;31mNameError\u001b[0m: name 'dllModel2_initialize' is not defined"
     ]
    }
   ],
   "source": [
    "dllModel2_initialize()\n",
    "while dllModel2_Y.OutputPort1<10:\n",
    "    print(\"Step: {}, In: {}, Gain: {}, Output: {}\".format(dllModel2_U.SignalIn, K, dllModel2_Y.OutputPort1))\n",
    "    dllModel2_U.SignalIn+=1\n",
    "    dllModel2_step()"
   ]
  },
  {
   "cell_type": "code",
   "execution_count": 23,
   "metadata": {},
   "outputs": [
    {
     "ename": "SyntaxError",
     "evalue": "invalid syntax (<ipython-input-23-1396dc4939eb>, line 1)",
     "output_type": "error",
     "traceback": [
      "\u001b[1;36m  File \u001b[1;32m\"<ipython-input-23-1396dc4939eb>\"\u001b[1;36m, line \u001b[1;32m1\u001b[0m\n\u001b[1;33m    dll.\u001b[0m\n\u001b[1;37m        ^\u001b[0m\n\u001b[1;31mSyntaxError\u001b[0m\u001b[1;31m:\u001b[0m invalid syntax\n"
     ]
    }
   ],
   "source": [
    "dll."
   ]
  },
  {
   "cell_type": "code",
   "execution_count": null,
   "metadata": {
    "collapsed": true
   },
   "outputs": [],
   "source": []
  },
  {
   "cell_type": "code",
   "execution_count": null,
   "metadata": {
    "collapsed": true
   },
   "outputs": [],
   "source": []
  },
  {
   "cell_type": "code",
   "execution_count": null,
   "metadata": {
    "collapsed": true
   },
   "outputs": [],
   "source": []
  }
 ],
 "metadata": {
  "kernelspec": {
   "display_name": "Python 3",
   "language": "python",
   "name": "python3"
  },
  "language_info": {
   "codemirror_mode": {
    "name": "ipython",
    "version": 3
   },
   "file_extension": ".py",
   "mimetype": "text/x-python",
   "name": "python",
   "nbconvert_exporter": "python",
   "pygments_lexer": "ipython3",
   "version": "3.6.1"
  }
 },
 "nbformat": 4,
 "nbformat_minor": 2
}
