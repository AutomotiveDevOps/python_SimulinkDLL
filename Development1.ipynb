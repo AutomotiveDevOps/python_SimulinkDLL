{
 "cells": [
  {
   "cell_type": "code",
   "execution_count": 1,
   "metadata": {
    "collapsed": true
   },
   "outputs": [],
   "source": [
    "import os\n",
    "import sys\n",
    "file = sys.stdout"
   ]
  },
  {
   "cell_type": "code",
   "execution_count": 2,
   "metadata": {
    "collapsed": true
   },
   "outputs": [],
   "source": [
    "build_root = os.path.abspath(os.path.join(os.curdir, \"Example\"))\n",
    "model = \"dllModel\"\n",
    "\n",
    "dll = os.path.join(build_root, model+\"_win64.dll\")\n",
    "header = os.path.join(build_root, model+\"_ert_shrlib_rtw\", model+\".h\")\n",
    "\n",
    "assert os.path.exists(dll)\n",
    "assert os.path.exists(header)"
   ]
  },
  {
   "cell_type": "code",
   "execution_count": 5,
   "metadata": {
    "collapsed": true
   },
   "outputs": [],
   "source": [
    "cast_xml_root = os.path.abspath(os.path.join(os.path.curdir, 'castxml'))"
   ]
  },
  {
   "cell_type": "code",
   "execution_count": 6,
   "metadata": {},
   "outputs": [],
   "source": [
    "import pygccxml\n",
    "\n",
    "from pygccxml import utils\n",
    "from pygccxml import declarations\n",
    "from pygccxml import parser\n",
    "import ctypes\n",
    "import os"
   ]
  },
  {
   "cell_type": "code",
   "execution_count": 7,
   "metadata": {
    "collapsed": true
   },
   "outputs": [],
   "source": [
    "# Configure the xml generator\n",
    "xml_generator_config = parser.xml_generator_configuration_t(\n",
    "    xml_generator_path=r\"castxml\\bin\\castxml.exe\",\n",
    "    xml_generator=\"castxml\",\n",
    "    compiler_path=r\"C:\\MATLAB\\SupportPackages\\R2015b\\MW_MinGW_4_9\\bin\\gcc.exe\")"
   ]
  },
  {
   "cell_type": "code",
   "execution_count": 8,
   "metadata": {},
   "outputs": [
    {
     "name": "stderr",
     "output_type": "stream",
     "text": [
      "INFO Parsing source file \"C:\\Projects\\python_SimulinkDLL\\Example\\dllModel_ert_shrlib_rtw\\dllModel.h\" ... \n"
     ]
    }
   ],
   "source": [
    "decls = parser.parse([header], xml_generator_config)\n",
    "ns = decls[0]"
   ]
  },
  {
   "cell_type": "code",
   "execution_count": 9,
   "metadata": {},
   "outputs": [
    {
     "name": "stdout",
     "output_type": "stream",
     "text": [
      "# Standard Types\n",
      "size_t = ctypes.c_ulonglong\n",
      "ssize_t = ctypes.c_longlong\n",
      "intptr_t = ctypes.c_longlong\n",
      "uintptr_t = ctypes.c_ulonglong\n",
      "ptrdiff_t = ctypes.c_longlong\n",
      "wint_t = ctypes.c_ushort\n",
      "wctype_t = ctypes.c_ushort\n",
      "errno_t = ctypes.c_int\n",
      "__time32_t = ctypes.c_long\n",
      "__time64_t = ctypes.c_longlong\n",
      "int8_T = ctypes.c_byte\n",
      "uint8_T = ctypes.c_ubyte\n",
      "int16_T = ctypes.c_short\n",
      "uint16_T = ctypes.c_ushort\n",
      "int32_T = ctypes.c_int\n",
      "uint32_T = ctypes.c_uint\n",
      "int64_T = ctypes.c_longlong\n",
      "uint64_T = ctypes.c_ulonglong\n",
      "real32_T = ctypes.c_float\n",
      "real64_T = ctypes.c_double\n",
      "real_T = ctypes.c_double\n",
      "time_T = ctypes.c_double\n",
      "boolean_T = ctypes.c_ubyte\n",
      "int_T = ctypes.c_int\n",
      "uint_T = ctypes.c_uint\n",
      "ulong_T = ctypes.c_ulong\n",
      "ulonglong_T = ctypes.c_ulonglong\n",
      "char_T = ctypes.c_char\n",
      "uchar_T = ctypes.c_ubyte\n"
     ]
    }
   ],
   "source": [
    "def ctypes_cppname(CPPNAME):\n",
    "    \"\"\"convert a CPPNAME field to a ctypes type.\"\"\"\n",
    "    \n",
    "    # If the CPPNAME ends with a capital _T then it is a Simulink type (but still defined in the field CPPNAME)\n",
    "    # Return this as is for use when called in other functions.\n",
    "    if CPPNAME.endswith('_T'):\n",
    "        return CPPNAME\n",
    "    # Current specified Simulink types and their corresponding ctype type.\n",
    "    type_map = {'long long int': 'c_longlong',\n",
    "                'long long unsigned int': 'c_ulonglong',\n",
    "                'short unsigned int': 'c_ushort',\n",
    "                'int': 'c_int',\n",
    "                'unsigned int': 'c_uint',\n",
    "                'long int': 'c_long',\n",
    "                'long unsigned int': 'c_ulong',\n",
    "                'char': 'c_char',\n",
    "                'char': 'c_char',\n",
    "                'signed char': 'c_byte',\n",
    "                'unsigned char': 'c_ubyte',\n",
    "                'float': 'c_float',\n",
    "                'double': 'c_double',\n",
    "                'short int': 'c_short'}\n",
    "    # Loop through the simulink definitions and return if found.\n",
    "    for cppname, ctype in type_map.items():\n",
    "        if cppname == CPPNAME:\n",
    "            # Return ctypes.+ for explicitness and to maintain the namespaces.\n",
    "            return \"ctypes.\"+ctype\n",
    "    # If we make it this far raise an exception and investigate the CPPNAME.\n",
    "    # Fix the function or add another type to the type_map.\n",
    "    raise(Exception(\"Unhandled data type: \"+CPPNAME))\n",
    "\n",
    "print(\"# Standard Types\")\n",
    "for typedef in ns.typedefs():\n",
    "    if hasattr(typedef.decl_type, 'CPPNAME'):\n",
    "        print(\"{} = {}\".format(typedef.name, ctypes_cppname(typedef.decl_type.CPPNAME)))\n",
    "        \n",
    "def var_type(decl_type):\n",
    "    if hasattr(decl_type, 'CPPNAME'):\n",
    "        return(ctypes_cppname(decl_type.CPPNAME))\n",
    "    if pygccxml.declarations.is_array(decl_type):\n",
    "        if hasattr(decl_type.base, \"CPPNAME\"):\n",
    "            ctype = ctypes_cppname(decl_type.base.CPPNAME)\n",
    "            return \"{}*{}\".format(ctype.base, decl_type.size)\n",
    "        elif isinstance(decl_type.base, pygccxml.declarations.cpptypes.declarated_t):\n",
    "            ctype = decl_type.base.decl_string.split(\":\")[-1]\n",
    "            return \"{}*{}\".format(ctype, decl_type.size)\n",
    "    if pygccxml.declarations.is_pointer(decl_type):\n",
    "        return \"ctypes.POINTER({})\".format(var_type(declarations.remove_pointer(decl_type)))\n",
    "    if pygccxml.declarations.is_volatile(decl_type):\n",
    "        return \"{}\".format(var_type(declarations.remove_volatile(decl_type)))\n",
    "    if pygccxml.declarations.is_const(decl_type):\n",
    "        return \"{}\".format(var_type(declarations.remove_const(decl_type)))\n",
    "    if isinstance(decl_type, pygccxml.declarations.cpptypes.declarated_t):\n",
    "        return decl_type.decl_string.split(\":\")[-1]\n",
    "    raise Exception(decl_type)\n",
    "    \n",
    "def struct_tdef(struct, ns):\n",
    "    for tdef in ns.typedefs():\n",
    "        try:\n",
    "            if tdef.decl_type.declaration == struct:\n",
    "                return tdef.name\n",
    "        except:\n",
    "            continue\n",
    "    return None"
   ]
  },
  {
   "cell_type": "code",
   "execution_count": 10,
   "metadata": {
    "collapsed": true
   },
   "outputs": [],
   "source": [
    "# Standard Types\n",
    "size_t = ctypes.c_ulonglong\n",
    "ssize_t = ctypes.c_longlong\n",
    "intptr_t = ctypes.c_longlong\n",
    "uintptr_t = ctypes.c_ulonglong\n",
    "ptrdiff_t = ctypes.c_longlong\n",
    "wint_t = ctypes.c_ushort\n",
    "wctype_t = ctypes.c_ushort\n",
    "errno_t = ctypes.c_int\n",
    "__time32_t = ctypes.c_long\n",
    "__time64_t = ctypes.c_longlong\n",
    "int8_T = ctypes.c_byte\n",
    "uint8_T = ctypes.c_ubyte\n",
    "int16_T = ctypes.c_short\n",
    "uint16_T = ctypes.c_ushort\n",
    "int32_T = ctypes.c_int\n",
    "uint32_T = ctypes.c_uint\n",
    "int64_T = ctypes.c_longlong\n",
    "uint64_T = ctypes.c_ulonglong\n",
    "real32_T = ctypes.c_float\n",
    "real64_T = ctypes.c_double\n",
    "real_T = ctypes.c_double\n",
    "time_T = ctypes.c_double\n",
    "boolean_T = ctypes.c_ubyte\n",
    "int_T = ctypes.c_int\n",
    "uint_T = ctypes.c_uint\n",
    "ulong_T = ctypes.c_ulong\n",
    "ulonglong_T = ctypes.c_ulonglong\n",
    "char_T = ctypes.c_char\n",
    "uchar_T = ctypes.c_ubyte"
   ]
  },
  {
   "cell_type": "code",
   "execution_count": 11,
   "metadata": {
    "collapsed": true
   },
   "outputs": [],
   "source": [
    "def istr(indent=0):\n",
    "    return \" \"*(4*indent)"
   ]
  },
  {
   "cell_type": "code",
   "execution_count": 12,
   "metadata": {},
   "outputs": [],
   "source": [
    "def print_struct(struct, file=sys.stdout, indent=0):\n",
    "    # Start defining the class.\n",
    "    print(\"{}class {}(ctypes.Structure):\".format(istr(indent), struct.name), file=file)\n",
    "    # Define the fields.\n",
    "    print(\"{}_fields_ = [\".format(istr(indent+1), file=file))\n",
    "    # For each of the variables inside the struct.\n",
    "    for var in struct.variables():\n",
    "        # Loop through and define the field name and type.\n",
    "        print(\"{}(\\\"{}\\\", {}),\".format(istr(indent+2),var.name,var_type(var.decl_type)), file=file)\n",
    "    # Close our brackets.s\n",
    "    print(\"{}]\".format(istr(indent+1)), file=file)\n",
    "\n",
    "    # Get the structure typedef\n",
    "    tdef = struct_tdef(struct, ns)\n",
    "    if tdef is not None:\n",
    "        # If it's none and doesn't match the structure name.\n",
    "        # Because of how Simulink generates the code and how CastXML reads it structures have different \n",
    "        # names than their typedef.\n",
    "        # \n",
    "        # Example: \n",
    "        #\n",
    "        # typedef struct Var_tag {\n",
    "        #     ...\n",
    "        # } Var_type;\n",
    "        # \n",
    "        # Would have a structure named Var_tag but a typedef named Var_type.\n",
    "        \n",
    "        # Create the typedef.\n",
    "        if tdef != struct.name:\n",
    "            print(\"{}{} = {}\".format(istr(indent), tdef, struct.name))"
   ]
  },
  {
   "cell_type": "code",
   "execution_count": 13,
   "metadata": {},
   "outputs": [
    {
     "name": "stdout",
     "output_type": "stream",
     "text": [
      "class tagLC_ID(ctypes.Structure):\n",
      "    _fields_ = [\n",
      "        (\"wLanguage\", ctypes.c_ushort),\n",
      "        (\"wCountry\", ctypes.c_ushort),\n",
      "        (\"wCodePage\", ctypes.c_ushort),\n",
      "    ]\n",
      "LC_ID = tagLC_ID\n",
      "class creal32_T(ctypes.Structure):\n",
      "    _fields_ = [\n",
      "        (\"re\", real32_T),\n",
      "        (\"im\", real32_T),\n",
      "    ]\n",
      "class creal64_T(ctypes.Structure):\n",
      "    _fields_ = [\n",
      "        (\"re\", real64_T),\n",
      "        (\"im\", real64_T),\n",
      "    ]\n",
      "class creal_T(ctypes.Structure):\n",
      "    _fields_ = [\n",
      "        (\"re\", real_T),\n",
      "        (\"im\", real_T),\n",
      "    ]\n",
      "class cint8_T(ctypes.Structure):\n",
      "    _fields_ = [\n",
      "        (\"re\", int8_T),\n",
      "        (\"im\", int8_T),\n",
      "    ]\n",
      "class cuint8_T(ctypes.Structure):\n",
      "    _fields_ = [\n",
      "        (\"re\", uint8_T),\n",
      "        (\"im\", uint8_T),\n",
      "    ]\n",
      "class cint16_T(ctypes.Structure):\n",
      "    _fields_ = [\n",
      "        (\"re\", int16_T),\n",
      "        (\"im\", int16_T),\n",
      "    ]\n",
      "class cuint16_T(ctypes.Structure):\n",
      "    _fields_ = [\n",
      "        (\"re\", uint16_T),\n",
      "        (\"im\", uint16_T),\n",
      "    ]\n",
      "class cint32_T(ctypes.Structure):\n",
      "    _fields_ = [\n",
      "        (\"re\", int32_T),\n",
      "        (\"im\", int32_T),\n",
      "    ]\n",
      "class cuint32_T(ctypes.Structure):\n",
      "    _fields_ = [\n",
      "        (\"re\", uint32_T),\n",
      "        (\"im\", uint32_T),\n",
      "    ]\n",
      "class cint64_T(ctypes.Structure):\n",
      "    _fields_ = [\n",
      "        (\"re\", int64_T),\n",
      "        (\"im\", int64_T),\n",
      "    ]\n",
      "class cuint64_T(ctypes.Structure):\n",
      "    _fields_ = [\n",
      "        (\"re\", uint64_T),\n",
      "        (\"im\", uint64_T),\n",
      "    ]\n",
      "class P_dllModel_T_(ctypes.Structure):\n",
      "    _fields_ = [\n",
      "        (\"K2\", uint16_T),\n",
      "    ]\n",
      "P_dllModel_T = P_dllModel_T_\n",
      "class tag_RTM_dllModel_T(ctypes.Structure):\n",
      "    _fields_ = [\n",
      "        (\"errorStatus\", ctypes.POINTER(ctypes.c_char)),\n",
      "        (\"clockTick0\", uint32_T),\n",
      "        (\"clockTickH0\", uint32_T),\n",
      "        (\"Timing\", tag_RTM_dllModel_T),\n",
      "    ]\n",
      "RT_MODEL_dllModel_T = tag_RTM_dllModel_T\n",
      "class B_dllModel_T(ctypes.Structure):\n",
      "    _fields_ = [\n",
      "        (\"SimulationSignal1\", real_T),\n",
      "        (\"SignalOut3\", real32_T),\n",
      "        (\"SignalOut2\", uint16_T),\n",
      "    ]\n",
      "class ExtU_dllModel_T(ctypes.Structure):\n",
      "    _fields_ = [\n",
      "        (\"SignalIn2\", uint16_T),\n",
      "    ]\n",
      "class ExtY_dllModel_T(ctypes.Structure):\n",
      "    _fields_ = [\n",
      "        (\"OutputPort2\", real32_T),\n",
      "    ]\n"
     ]
    }
   ],
   "source": [
    "# Get all of the defined structures.\n",
    "structs = ns.classes(lambda x: declarations.is_struct(x))\n",
    "# For each of the structures.\n",
    "for struct in structs:\n",
    "    # If the structure has no name, pass.\n",
    "    if struct.name == \"\":\n",
    "        continue\n",
    "    # If locale is in the structure name, pass (They're not any structures we can access in the DLL)\n",
    "    if 'locale' in struct.name:\n",
    "        continue\n",
    "\n",
    "    print_struct(struct, indent=0)"
   ]
  },
  {
   "cell_type": "markdown",
   "metadata": {},
   "source": [
    "externs\n",
    "\n",
    "Only the variables defined as externs are accessible through the dll. Everything else is internal (and not accessible.)\n",
    "\n",
    "To grab a reference to the variable we access it with \"TYPE.in_dll(dll, VARIABLE_NAME)\""
   ]
  },
  {
   "cell_type": "code",
   "execution_count": 14,
   "metadata": {
    "scrolled": true
   },
   "outputs": [
    {
     "name": "stdout",
     "output_type": "stream",
     "text": [
      "dllModel_P = P_dllModel_T.in_dll(dll, 'dllModel_P')\n",
      "dllModel_B = B_dllModel_T.in_dll(dll, 'dllModel_B')\n",
      "dllModel_U = ExtU_dllModel_T.in_dll(dll, 'dllModel_U')\n",
      "dllModel_Y = ExtY_dllModel_T.in_dll(dll, 'dllModel_Y')\n",
      "SignalIn = real32_T.in_dll(dll, 'SignalIn')\n",
      "SimulationSignal2 = real_T.in_dll(dll, 'SimulationSignal2')\n",
      "SignalOut = real32_T.in_dll(dll, 'SignalOut')\n",
      "K = real32_T.in_dll(dll, 'K')\n",
      "dllModel_M = ctypes.POINTER(tag_RTM_dllModel_T).in_dll(dll, 'dllModel_M')\n"
     ]
    }
   ],
   "source": [
    "externs = ns.variables(lambda v: v.type_qualifiers.has_extern)\n",
    "for extern in externs:\n",
    "#    extern_type = extern.decl_type.declaration.name\n",
    "    print(\"{} = {}.in_dll(dll, '{}')\".format(extern.name, var_type(extern.decl_type), extern.name))"
   ]
  },
  {
   "cell_type": "code",
   "execution_count": 15,
   "metadata": {},
   "outputs": [
    {
     "data": {
      "text/plain": [
       "True"
      ]
     },
     "execution_count": 15,
     "metadata": {},
     "output_type": "execute_result"
    }
   ],
   "source": [
    "declarations.is_pointer(extern.decl_type)"
   ]
  },
  {
   "cell_type": "code",
   "execution_count": 16,
   "metadata": {},
   "outputs": [
    {
     "name": "stdout",
     "output_type": "stream",
     "text": [
      "RT_MODEL_dllModel_T * const_POINTER = ctypes.POINTER(tag_RTM_dllModel_T))\n"
     ]
    }
   ],
   "source": [
    "print(\"{}_POINTER = {})\".format(extern.decl_type, var_type(extern.decl_type)))"
   ]
  },
  {
   "cell_type": "code",
   "execution_count": 17,
   "metadata": {},
   "outputs": [
    {
     "data": {
      "text/plain": [
       "<pygccxml.declarations.cpptypes.const_t at 0xf65b457d30>"
      ]
     },
     "execution_count": 17,
     "metadata": {},
     "output_type": "execute_result"
    }
   ],
   "source": [
    "declarations.remove_pointer(extern.decl_type)"
   ]
  },
  {
   "cell_type": "code",
   "execution_count": 18,
   "metadata": {},
   "outputs": [
    {
     "name": "stdout",
     "output_type": "stream",
     "text": [
      "tag_RTM_dllModel_T const\n"
     ]
    }
   ],
   "source": [
    "print(declarations.remove_pointer(extern.decl_type))"
   ]
  },
  {
   "cell_type": "code",
   "execution_count": 19,
   "metadata": {},
   "outputs": [
    {
     "data": {
      "text/plain": [
       "'::RT_MODEL_dllModel_T *'"
      ]
     },
     "execution_count": 19,
     "metadata": {},
     "output_type": "execute_result"
    }
   ],
   "source": [
    "extern.decl_type.base.decl_string"
   ]
  },
  {
   "cell_type": "code",
   "execution_count": 20,
   "metadata": {
    "collapsed": true
   },
   "outputs": [],
   "source": [
    "class Timing(ctypes.Structure):\n",
    "    _fields_ = [     \n",
    "        (\"clockTick0\", uint32_T),\n",
    "        (\"clockTickH0\", uint32_T),   \n",
    "    ]\n",
    "\n",
    "class tag_RTM_dllModel2_T(ctypes.Structure):\n",
    "    _fields_ = [\n",
    "        (\"errorStatus\", ctypes.POINTER(ctypes.c_char)),\n",
    "        (\"Timing\", Timing),\n",
    "    ]"
   ]
  },
  {
   "cell_type": "code",
   "execution_count": 21,
   "metadata": {
    "collapsed": true
   },
   "outputs": [],
   "source": [
    "# Development tool.\n",
    "def vardump(var):\n",
    "    fields = dir(var)\n",
    "    for field in fields:\n",
    "        if field.startswith(\"_\"):\n",
    "            continue\n",
    "        try:\n",
    "            f = getattr(var, field)\n",
    "        except:\n",
    "            continue\n",
    "        try:\n",
    "            print(\"{}(): {}\".format(field, f()))\n",
    "        except:\n",
    "            try:\n",
    "                print(\"{}: {}<{}>\".format(field, type(f), f))\n",
    "            except:\n",
    "                pass"
   ]
  },
  {
   "cell_type": "code",
   "execution_count": 22,
   "metadata": {},
   "outputs": [
    {
     "ename": "NameError",
     "evalue": "name 'P' is not defined",
     "output_type": "error",
     "traceback": [
      "\u001b[1;31m---------------------------------------------------------------------------\u001b[0m",
      "\u001b[1;31mNameError\u001b[0m                                 Traceback (most recent call last)",
      "\u001b[1;32m<ipython-input-22-a313b615c26d>\u001b[0m in \u001b[0;36m<module>\u001b[1;34m()\u001b[0m\n\u001b[1;32m----> 1\u001b[1;33m \u001b[0mP\u001b[0m\u001b[1;33m.\u001b[0m\u001b[0mK2\u001b[0m\u001b[1;33m\u001b[0m\u001b[0m\n\u001b[0m",
      "\u001b[1;31mNameError\u001b[0m: name 'P' is not defined"
     ]
    }
   ],
   "source": [
    "P.K2"
   ]
  },
  {
   "cell_type": "code",
   "execution_count": 24,
   "metadata": {},
   "outputs": [
    {
     "ename": "NameError",
     "evalue": "name 'P_dllModel_T_' is not defined",
     "output_type": "error",
     "traceback": [
      "\u001b[1;31m---------------------------------------------------------------------------\u001b[0m",
      "\u001b[1;31mNameError\u001b[0m                                 Traceback (most recent call last)",
      "\u001b[1;32m<ipython-input-24-f225d0e98cff>\u001b[0m in \u001b[0;36m<module>\u001b[1;34m()\u001b[0m\n\u001b[1;32m----> 1\u001b[1;33m \u001b[0mP\u001b[0m \u001b[1;33m=\u001b[0m \u001b[0mP_dllModel_T_\u001b[0m\u001b[1;33m.\u001b[0m\u001b[0min_dll\u001b[0m\u001b[1;33m(\u001b[0m\u001b[0mdll\u001b[0m\u001b[1;33m,\u001b[0m \u001b[1;34m'dllModel_P'\u001b[0m\u001b[1;33m)\u001b[0m\u001b[1;33m\u001b[0m\u001b[0m\n\u001b[0m",
      "\u001b[1;31mNameError\u001b[0m: name 'P_dllModel_T_' is not defined"
     ]
    }
   ],
   "source": [
    "P = P_dllModel_T_.in_dll(dll, 'dllModel_P')"
   ]
  },
  {
   "cell_type": "code",
   "execution_count": 25,
   "metadata": {},
   "outputs": [
    {
     "ename": "NameError",
     "evalue": "name 'x' is not defined",
     "output_type": "error",
     "traceback": [
      "\u001b[1;31m---------------------------------------------------------------------------\u001b[0m",
      "\u001b[1;31mNameError\u001b[0m                                 Traceback (most recent call last)",
      "\u001b[1;32m<ipython-input-25-8de49ff06a30>\u001b[0m in \u001b[0;36m<module>\u001b[1;34m()\u001b[0m\n\u001b[1;32m----> 1\u001b[1;33m \u001b[0mx\u001b[0m\u001b[1;33m.\u001b[0m\u001b[0mTiming\u001b[0m\u001b[1;33m.\u001b[0m\u001b[0mclockTick0\u001b[0m\u001b[1;33m\u001b[0m\u001b[0m\n\u001b[0m",
      "\u001b[1;31mNameError\u001b[0m: name 'x' is not defined"
     ]
    }
   ],
   "source": [
    "x.Timing.clockTick0"
   ]
  },
  {
   "cell_type": "code",
   "execution_count": 26,
   "metadata": {},
   "outputs": [
    {
     "ename": "AttributeError",
     "evalue": "'str' object has no attribute 'dllModel2_step'",
     "output_type": "error",
     "traceback": [
      "\u001b[1;31m---------------------------------------------------------------------------\u001b[0m",
      "\u001b[1;31mAttributeError\u001b[0m                            Traceback (most recent call last)",
      "\u001b[1;32m<ipython-input-26-4d510776b4a8>\u001b[0m in \u001b[0;36m<module>\u001b[1;34m()\u001b[0m\n\u001b[1;32m----> 1\u001b[1;33m \u001b[0mdll\u001b[0m\u001b[1;33m.\u001b[0m\u001b[0mdllModel2_step\u001b[0m\u001b[1;33m(\u001b[0m\u001b[1;33m)\u001b[0m\u001b[1;33m\u001b[0m\u001b[0m\n\u001b[0m",
      "\u001b[1;31mAttributeError\u001b[0m: 'str' object has no attribute 'dllModel2_step'"
     ]
    }
   ],
   "source": [
    "dll.dllModel2_step()"
   ]
  },
  {
   "cell_type": "code",
   "execution_count": 27,
   "metadata": {},
   "outputs": [
    {
     "ename": "NameError",
     "evalue": "name 'x' is not defined",
     "output_type": "error",
     "traceback": [
      "\u001b[1;31m---------------------------------------------------------------------------\u001b[0m",
      "\u001b[1;31mNameError\u001b[0m                                 Traceback (most recent call last)",
      "\u001b[1;32m<ipython-input-27-8de49ff06a30>\u001b[0m in \u001b[0;36m<module>\u001b[1;34m()\u001b[0m\n\u001b[1;32m----> 1\u001b[1;33m \u001b[0mx\u001b[0m\u001b[1;33m.\u001b[0m\u001b[0mTiming\u001b[0m\u001b[1;33m.\u001b[0m\u001b[0mclockTick0\u001b[0m\u001b[1;33m\u001b[0m\u001b[0m\n\u001b[0m",
      "\u001b[1;31mNameError\u001b[0m: name 'x' is not defined"
     ]
    }
   ],
   "source": [
    "x.Timing.clockTick0"
   ]
  },
  {
   "cell_type": "code",
   "execution_count": 28,
   "metadata": {},
   "outputs": [
    {
     "ename": "AttributeError",
     "evalue": "'str' object has no attribute '_handle'",
     "output_type": "error",
     "traceback": [
      "\u001b[1;31m---------------------------------------------------------------------------\u001b[0m",
      "\u001b[1;31mAttributeError\u001b[0m                            Traceback (most recent call last)",
      "\u001b[1;32m<ipython-input-28-a6bd39c50489>\u001b[0m in \u001b[0;36m<module>\u001b[1;34m()\u001b[0m\n\u001b[1;32m----> 1\u001b[1;33m \u001b[0mx\u001b[0m\u001b[1;33m=\u001b[0m\u001b[0mtag_RTM_dllModel2_T\u001b[0m\u001b[1;33m.\u001b[0m\u001b[0min_dll\u001b[0m\u001b[1;33m(\u001b[0m\u001b[0mdll\u001b[0m\u001b[1;33m,\u001b[0m \u001b[1;34m\"dllModel2_M\"\u001b[0m\u001b[1;33m)\u001b[0m\u001b[1;33m\u001b[0m\u001b[0m\n\u001b[0m",
      "\u001b[1;31mAttributeError\u001b[0m: 'str' object has no attribute '_handle'"
     ]
    }
   ],
   "source": [
    "x=tag_RTM_dllModel2_T.in_dll(dll, \"dllModel2_M\")"
   ]
  },
  {
   "cell_type": "code",
   "execution_count": 29,
   "metadata": {},
   "outputs": [
    {
     "data": {
      "text/plain": [
       "'ctypes.POINTER(tag_RTM_dllModel_T)'"
      ]
     },
     "execution_count": 29,
     "metadata": {},
     "output_type": "execute_result"
    }
   ],
   "source": [
    "var_type(extern.decl_type)"
   ]
  },
  {
   "cell_type": "code",
   "execution_count": 30,
   "metadata": {},
   "outputs": [
    {
     "ename": "NameError",
     "evalue": "name 'RT' is not defined",
     "output_type": "error",
     "traceback": [
      "\u001b[1;31m---------------------------------------------------------------------------\u001b[0m",
      "\u001b[1;31mNameError\u001b[0m                                 Traceback (most recent call last)",
      "\u001b[1;32m<ipython-input-30-e745cbadf08f>\u001b[0m in \u001b[0;36m<module>\u001b[1;34m()\u001b[0m\n\u001b[1;32m----> 1\u001b[1;33m \u001b[0mRT\u001b[0m\u001b[1;33m\u001b[0m\u001b[0m\n\u001b[0m",
      "\u001b[1;31mNameError\u001b[0m: name 'RT' is not defined"
     ]
    }
   ],
   "source": [
    "RT"
   ]
  },
  {
   "cell_type": "code",
   "execution_count": 31,
   "metadata": {},
   "outputs": [
    {
     "ename": "AttributeError",
     "evalue": "'const_t' object has no attribute 'declaration'",
     "output_type": "error",
     "traceback": [
      "\u001b[1;31m---------------------------------------------------------------------------\u001b[0m",
      "\u001b[1;31mAttributeError\u001b[0m                            Traceback (most recent call last)",
      "\u001b[1;32m<ipython-input-31-cff6201b27e9>\u001b[0m in \u001b[0;36m<module>\u001b[1;34m()\u001b[0m\n\u001b[1;32m----> 1\u001b[1;33m \u001b[0mvar_type\u001b[0m\u001b[1;33m(\u001b[0m\u001b[0mextern\u001b[0m\u001b[1;33m.\u001b[0m\u001b[0mdecl_type\u001b[0m\u001b[1;33m.\u001b[0m\u001b[0mdeclaration\u001b[0m\u001b[1;33m.\u001b[0m\u001b[0mdecl_type\u001b[0m\u001b[1;33m)\u001b[0m\u001b[1;33m\u001b[0m\u001b[0m\n\u001b[0m",
      "\u001b[1;31mAttributeError\u001b[0m: 'const_t' object has no attribute 'declaration'"
     ]
    }
   ],
   "source": [
    "var_type(extern.decl_type.declaration.decl_type)"
   ]
  },
  {
   "cell_type": "code",
   "execution_count": 32,
   "metadata": {
    "scrolled": true
   },
   "outputs": [
    {
     "ename": "SyntaxError",
     "evalue": "invalid syntax (<ipython-input-32-89343216fdb2>, line 1)",
     "output_type": "error",
     "traceback": [
      "\u001b[1;36m  File \u001b[1;32m\"<ipython-input-32-89343216fdb2>\"\u001b[1;36m, line \u001b[1;32m1\u001b[0m\n\u001b[1;33m    extern.decl_type.\u001b[0m\n\u001b[1;37m                     ^\u001b[0m\n\u001b[1;31mSyntaxError\u001b[0m\u001b[1;31m:\u001b[0m invalid syntax\n"
     ]
    }
   ],
   "source": [
    "extern.decl_type."
   ]
  },
  {
   "cell_type": "code",
   "execution_count": 33,
   "metadata": {},
   "outputs": [
    {
     "ename": "NameError",
     "evalue": "name 'x' is not defined",
     "output_type": "error",
     "traceback": [
      "\u001b[1;31m---------------------------------------------------------------------------\u001b[0m",
      "\u001b[1;31mNameError\u001b[0m                                 Traceback (most recent call last)",
      "\u001b[1;32m<ipython-input-33-ec4eeff5cec5>\u001b[0m in \u001b[0;36m<module>\u001b[1;34m()\u001b[0m\n\u001b[1;32m----> 1\u001b[1;33m \u001b[0mx\u001b[0m\u001b[1;33m.\u001b[0m\u001b[0mdecl_type\u001b[0m\u001b[1;33m\u001b[0m\u001b[0m\n\u001b[0m",
      "\u001b[1;31mNameError\u001b[0m: name 'x' is not defined"
     ]
    }
   ],
   "source": [
    "x.decl_type"
   ]
  },
  {
   "cell_type": "code",
   "execution_count": 34,
   "metadata": {},
   "outputs": [
    {
     "ename": "NameError",
     "evalue": "name 'x' is not defined",
     "output_type": "error",
     "traceback": [
      "\u001b[1;31m---------------------------------------------------------------------------\u001b[0m",
      "\u001b[1;31mNameError\u001b[0m                                 Traceback (most recent call last)",
      "\u001b[1;32m<ipython-input-34-25b0ca6fec4e>\u001b[0m in \u001b[0;36m<module>\u001b[1;34m()\u001b[0m\n\u001b[1;32m----> 1\u001b[1;33m \u001b[0mx\u001b[0m\u001b[1;33m.\u001b[0m\u001b[0mdecl_type\u001b[0m\u001b[1;33m.\u001b[0m\u001b[0mdecl_string\u001b[0m\u001b[1;33m\u001b[0m\u001b[0m\n\u001b[0m",
      "\u001b[1;31mNameError\u001b[0m: name 'x' is not defined"
     ]
    }
   ],
   "source": [
    "x.decl_type.decl_string"
   ]
  },
  {
   "cell_type": "code",
   "execution_count": 35,
   "metadata": {},
   "outputs": [
    {
     "ename": "NameError",
     "evalue": "name 'x' is not defined",
     "output_type": "error",
     "traceback": [
      "\u001b[1;31m---------------------------------------------------------------------------\u001b[0m",
      "\u001b[1;31mNameError\u001b[0m                                 Traceback (most recent call last)",
      "\u001b[1;32m<ipython-input-35-67acb7d98e91>\u001b[0m in \u001b[0;36m<module>\u001b[1;34m()\u001b[0m\n\u001b[1;32m----> 1\u001b[1;33m \u001b[0mx\u001b[0m\u001b[1;33m.\u001b[0m\u001b[0mdecl_string\u001b[0m\u001b[1;33m\u001b[0m\u001b[0m\n\u001b[0m",
      "\u001b[1;31mNameError\u001b[0m: name 'x' is not defined"
     ]
    }
   ],
   "source": [
    "x.decl_string"
   ]
  },
  {
   "cell_type": "code",
   "execution_count": 36,
   "metadata": {
    "scrolled": true
   },
   "outputs": [
    {
     "ename": "NameError",
     "evalue": "name 'x' is not defined",
     "output_type": "error",
     "traceback": [
      "\u001b[1;31m---------------------------------------------------------------------------\u001b[0m",
      "\u001b[1;31mNameError\u001b[0m                                 Traceback (most recent call last)",
      "\u001b[1;32m<ipython-input-36-67acb7d98e91>\u001b[0m in \u001b[0;36m<module>\u001b[1;34m()\u001b[0m\n\u001b[1;32m----> 1\u001b[1;33m \u001b[0mx\u001b[0m\u001b[1;33m.\u001b[0m\u001b[0mdecl_string\u001b[0m\u001b[1;33m\u001b[0m\u001b[0m\n\u001b[0m",
      "\u001b[1;31mNameError\u001b[0m: name 'x' is not defined"
     ]
    }
   ],
   "source": [
    "x.decl_string"
   ]
  },
  {
   "cell_type": "code",
   "execution_count": 37,
   "metadata": {},
   "outputs": [
    {
     "ename": "NameError",
     "evalue": "name 'x' is not defined",
     "output_type": "error",
     "traceback": [
      "\u001b[1;31m---------------------------------------------------------------------------\u001b[0m",
      "\u001b[1;31mNameError\u001b[0m                                 Traceback (most recent call last)",
      "\u001b[1;32m<ipython-input-37-401b30e3b8b5>\u001b[0m in \u001b[0;36m<module>\u001b[1;34m()\u001b[0m\n\u001b[1;32m----> 1\u001b[1;33m \u001b[0mx\u001b[0m\u001b[1;33m\u001b[0m\u001b[0m\n\u001b[0m",
      "\u001b[1;31mNameError\u001b[0m: name 'x' is not defined"
     ]
    }
   ],
   "source": [
    "x"
   ]
  },
  {
   "cell_type": "code",
   "execution_count": 38,
   "metadata": {},
   "outputs": [
    {
     "ename": "NameError",
     "evalue": "name 'decl_type' is not defined",
     "output_type": "error",
     "traceback": [
      "\u001b[1;31m---------------------------------------------------------------------------\u001b[0m",
      "\u001b[1;31mNameError\u001b[0m                                 Traceback (most recent call last)",
      "\u001b[1;32m<ipython-input-38-8469d382311f>\u001b[0m in \u001b[0;36m<module>\u001b[1;34m()\u001b[0m\n\u001b[1;32m----> 1\u001b[1;33m \u001b[0mdecl_type\u001b[0m\u001b[1;33m.\u001b[0m\u001b[0mb\u001b[0m\u001b[1;33m\u001b[0m\u001b[0m\n\u001b[0m",
      "\u001b[1;31mNameError\u001b[0m: name 'decl_type' is not defined"
     ]
    }
   ],
   "source": [
    "decl_type.b"
   ]
  },
  {
   "cell_type": "code",
   "execution_count": 39,
   "metadata": {
    "collapsed": true
   },
   "outputs": [],
   "source": [
    "x = ns.typedefs()"
   ]
  },
  {
   "cell_type": "code",
   "execution_count": 40,
   "metadata": {},
   "outputs": [
    {
     "name": "stdout",
     "output_type": "stream",
     "text": [
      "__int128_t [typedef]\n"
     ]
    }
   ],
   "source": [
    "print(x.declarations[0])"
   ]
  },
  {
   "cell_type": "code",
   "execution_count": 41,
   "metadata": {},
   "outputs": [
    {
     "ename": "NameError",
     "evalue": "name 'decl_type' is not defined",
     "output_type": "error",
     "traceback": [
      "\u001b[1;31m---------------------------------------------------------------------------\u001b[0m",
      "\u001b[1;31mNameError\u001b[0m                                 Traceback (most recent call last)",
      "\u001b[1;32m<ipython-input-41-f47bb4990897>\u001b[0m in \u001b[0;36m<module>\u001b[1;34m()\u001b[0m\n\u001b[1;32m----> 1\u001b[1;33m \u001b[0misinstance\u001b[0m\u001b[1;33m(\u001b[0m\u001b[0mdecl_type\u001b[0m\u001b[1;33m,\u001b[0m \u001b[0mpygccxml\u001b[0m\u001b[1;33m.\u001b[0m\u001b[0mdeclarations\u001b[0m\u001b[1;33m.\u001b[0m\u001b[0mcpptypes\u001b[0m\u001b[1;33m.\u001b[0m\u001b[0mvolatile_t\u001b[0m\u001b[1;33m)\u001b[0m\u001b[1;33m\u001b[0m\u001b[0m\n\u001b[0m",
      "\u001b[1;31mNameError\u001b[0m: name 'decl_type' is not defined"
     ]
    }
   ],
   "source": [
    "isinstance(decl_type, pygccxml.declarations.cpptypes.volatile_t)"
   ]
  },
  {
   "cell_type": "code",
   "execution_count": 42,
   "metadata": {},
   "outputs": [
    {
     "ename": "NameError",
     "evalue": "name 'decl_type' is not defined",
     "output_type": "error",
     "traceback": [
      "\u001b[1;31m---------------------------------------------------------------------------\u001b[0m",
      "\u001b[1;31mNameError\u001b[0m                                 Traceback (most recent call last)",
      "\u001b[1;32m<ipython-input-42-d9d89b42b961>\u001b[0m in \u001b[0;36m<module>\u001b[1;34m()\u001b[0m\n\u001b[1;32m----> 1\u001b[1;33m \u001b[0mpygccxml\u001b[0m\u001b[1;33m.\u001b[0m\u001b[0mdeclarations\u001b[0m\u001b[1;33m.\u001b[0m\u001b[0mis_const\u001b[0m\u001b[1;33m(\u001b[0m\u001b[0mdecl_type\u001b[0m\u001b[1;33m)\u001b[0m\u001b[1;33m\u001b[0m\u001b[0m\n\u001b[0m",
      "\u001b[1;31mNameError\u001b[0m: name 'decl_type' is not defined"
     ]
    }
   ],
   "source": [
    "pygccxml.declarations.is_const(decl_type)"
   ]
  },
  {
   "cell_type": "code",
   "execution_count": 43,
   "metadata": {},
   "outputs": [
    {
     "ename": "NameError",
     "evalue": "name 'decl_type' is not defined",
     "output_type": "error",
     "traceback": [
      "\u001b[1;31m---------------------------------------------------------------------------\u001b[0m",
      "\u001b[1;31mNameError\u001b[0m                                 Traceback (most recent call last)",
      "\u001b[1;32m<ipython-input-43-a74a0c0db7f8>\u001b[0m in \u001b[0;36m<module>\u001b[1;34m()\u001b[0m\n\u001b[1;32m----> 1\u001b[1;33m \u001b[0mpygccxml\u001b[0m\u001b[1;33m.\u001b[0m\u001b[0mdeclarations\u001b[0m\u001b[1;33m.\u001b[0m\u001b[0mis_volatile\u001b[0m\u001b[1;33m(\u001b[0m\u001b[0mdecl_type\u001b[0m\u001b[1;33m)\u001b[0m\u001b[1;33m\u001b[0m\u001b[0m\n\u001b[0m",
      "\u001b[1;31mNameError\u001b[0m: name 'decl_type' is not defined"
     ]
    }
   ],
   "source": [
    "pygccxml.declarations.is_volatile(decl_type)"
   ]
  },
  {
   "cell_type": "code",
   "execution_count": 44,
   "metadata": {},
   "outputs": [
    {
     "ename": "NameError",
     "evalue": "name 'var' is not defined",
     "output_type": "error",
     "traceback": [
      "\u001b[1;31m---------------------------------------------------------------------------\u001b[0m",
      "\u001b[1;31mNameError\u001b[0m                                 Traceback (most recent call last)",
      "\u001b[1;32m<ipython-input-44-b0fa5fb2f018>\u001b[0m in \u001b[0;36m<module>\u001b[1;34m()\u001b[0m\n\u001b[1;32m----> 1\u001b[1;33m \u001b[0mdeclarations\u001b[0m\u001b[1;33m.\u001b[0m\u001b[0mis_array\u001b[0m\u001b[1;33m(\u001b[0m\u001b[0mvar\u001b[0m\u001b[1;33m.\u001b[0m\u001b[0mdecl_type\u001b[0m\u001b[1;33m)\u001b[0m\u001b[1;33m\u001b[0m\u001b[0m\n\u001b[0m",
      "\u001b[1;31mNameError\u001b[0m: name 'var' is not defined"
     ]
    }
   ],
   "source": [
    "declarations.is_array(var.decl_type)"
   ]
  },
  {
   "cell_type": "code",
   "execution_count": 45,
   "metadata": {},
   "outputs": [
    {
     "data": {
      "text/plain": [
       "pygccxml.declarations.declaration.declaration_t"
      ]
     },
     "execution_count": 45,
     "metadata": {},
     "output_type": "execute_result"
    }
   ],
   "source": [
    "declarations.declaration_t"
   ]
  },
  {
   "cell_type": "code",
   "execution_count": 46,
   "metadata": {},
   "outputs": [
    {
     "ename": "NameError",
     "evalue": "name 'var' is not defined",
     "output_type": "error",
     "traceback": [
      "\u001b[1;31m---------------------------------------------------------------------------\u001b[0m",
      "\u001b[1;31mNameError\u001b[0m                                 Traceback (most recent call last)",
      "\u001b[1;32m<ipython-input-46-a6d6ef5c0500>\u001b[0m in \u001b[0;36m<module>\u001b[1;34m()\u001b[0m\n\u001b[1;32m----> 1\u001b[1;33m \u001b[0mvar\u001b[0m\u001b[1;33m.\u001b[0m\u001b[0mdecl_type\u001b[0m\u001b[1;33m.\u001b[0m\u001b[0mdecl_string\u001b[0m\u001b[1;33m\u001b[0m\u001b[0m\n\u001b[0m",
      "\u001b[1;31mNameError\u001b[0m: name 'var' is not defined"
     ]
    }
   ],
   "source": [
    "var.decl_type.decl_string"
   ]
  },
  {
   "cell_type": "code",
   "execution_count": 47,
   "metadata": {},
   "outputs": [
    {
     "ename": "NameError",
     "evalue": "name 't' is not defined",
     "output_type": "error",
     "traceback": [
      "\u001b[1;31m---------------------------------------------------------------------------\u001b[0m",
      "\u001b[1;31mNameError\u001b[0m                                 Traceback (most recent call last)",
      "\u001b[1;32m<ipython-input-47-8115495c86f4>\u001b[0m in \u001b[0;36m<module>\u001b[1;34m()\u001b[0m\n\u001b[1;32m----> 1\u001b[1;33m \u001b[0mv\u001b[0m \u001b[1;33m=\u001b[0m \u001b[0mt\u001b[0m\u001b[1;33m.\u001b[0m\u001b[0mdecl_type\u001b[0m\u001b[1;33m\u001b[0m\u001b[0m\n\u001b[0m",
      "\u001b[1;31mNameError\u001b[0m: name 't' is not defined"
     ]
    }
   ],
   "source": [
    "v = t.decl_type"
   ]
  },
  {
   "cell_type": "code",
   "execution_count": 48,
   "metadata": {
    "collapsed": true
   },
   "outputs": [],
   "source": [
    "# Get all of the defined structures.\n",
    "structs = ns.classes(lambda x: declarations.is_struct(x))\n",
    "# For each of the structures.\n",
    "for struct in structs:\n",
    "    # If locale is in the structure name, pass (They're not any structures we can access in the DLL)\n",
    "    if 'locale' in struct.name:\n",
    "        continue\n",
    "\n",
    "    # If the structure has no name, pass.\n",
    "    if struct.name == \"tag_RTM_dllModel2_T\":\n",
    "        print_struct(struct, indent=0)\n",
    "        break"
   ]
  },
  {
   "cell_type": "code",
   "execution_count": 49,
   "metadata": {},
   "outputs": [
    {
     "name": "stdout",
     "output_type": "stream",
     "text": [
      "ALLOW_EMPTY_MDECL_WRAPPER: <class 'bool'><False>\n",
      "RECURSIVE_DEFAULT: <class 'bool'><True>\n",
      "USE_DEMANGLED_AS_NAME: <class 'bool'><True>\n",
      "adopt_declaration: <class 'method'><<bound method class_t.adopt_declaration of <pygccxml.declarations.class_declaration.class_t object at 0x000000F65B47FAC8>>>\n",
      "aliases: <class 'list'><[<pygccxml.declarations.typedef.typedef_t object at 0x000000F65B47FC88>]>\n",
      "attributes: <class 'NoneType'><None>\n",
      "bases: <class 'list'><[]>\n",
      "byte_align: <class 'float'><4.0>\n",
      "byte_size: <class 'float'><4.0>\n",
      "cache: <class 'pygccxml.declarations.algorithms_cache.declaration_algs_cache_t'><<pygccxml.declarations.algorithms_cache.declaration_algs_cache_t object at 0x000000F65B47FA90>>\n",
      "calldef: <class 'method'><<bound method scopedef_t.calldef of <pygccxml.declarations.class_declaration.class_t object at 0x000000F65B47FAC8>>>\n",
      "calldefs(): <pygccxml.declarations.mdecl_wrapper.mdecl_wrapper_t object at 0x000000F65B47AD68>\n",
      "casting_operator: <class 'method'><<bound method scopedef_t.casting_operator of <pygccxml.declarations.class_declaration.class_t object at 0x000000F65B47FAC8>>>\n",
      "casting_operators: <class 'method'><<bound method scopedef_t.casting_operators of <pygccxml.declarations.class_declaration.class_t object at 0x000000F65B47FAC8>>>\n",
      "class_: <class 'method'><<bound method scopedef_t.class_ of <pygccxml.declarations.class_declaration.class_t object at 0x000000F65B47FAC8>>>\n",
      "class_type: <class 'str'><struct>\n",
      "classes: <class 'method'><<bound method scopedef_t.classes of <pygccxml.declarations.class_declaration.class_t object at 0x000000F65B47FAC8>>>\n",
      "clear_optimizer(): None\n",
      "constructor: <class 'method'><<bound method scopedef_t.constructor of <pygccxml.declarations.class_declaration.class_t object at 0x000000F65B47FAC8>>>\n",
      "constructors(): <pygccxml.declarations.mdecl_wrapper.mdecl_wrapper_t object at 0x000000F65B441AC8>\n",
      "create_decl_string(): ::ExtY_dllModel_T\n",
      "decl: <class 'method'><<bound method scopedef_t.decl of <pygccxml.declarations.class_declaration.class_t object at 0x000000F65B47FAC8>>>\n",
      "decl_string: <class 'str'><::ExtY_dllModel_T>\n",
      "declaration_not_found_t: <class 'type'><<class 'pygccxml.declarations.runtime_errors.declaration_not_found_t'>>\n",
      "declarations: <class 'list'><[<pygccxml.declarations.calldef_members.constructor_t object at 0x000000F65B4B7940>, <pygccxml.declarations.calldef_members.constructor_t object at 0x000000F65B4B7AC8>, <pygccxml.declarations.calldef_members.destructor_t object at 0x000000F65B4B80F0>, <pygccxml.declarations.calldef_members.member_operator_t object at 0x000000F65B4B7DA0>, <pygccxml.declarations.variable.variable_t object at 0x000000F65B4B7748>]>\n",
      "decls(): <pygccxml.declarations.mdecl_wrapper.mdecl_wrapper_t object at 0x000000F65B441080>\n",
      "decorated_name: <class 'NoneType'><None>\n",
      "demangled: <class 'NoneType'><None>\n",
      "derived: <class 'list'><[]>\n",
      "elaborated_type_specifier: <class 'str'><struct>\n",
      "enum: <class 'method'><<bound method scopedef_t.enum of <pygccxml.declarations.class_declaration.class_t object at 0x000000F65B47FAC8>>>\n",
      "enumeration: <class 'method'><<bound method scopedef_t.enumeration of <pygccxml.declarations.class_declaration.class_t object at 0x000000F65B47FAC8>>>\n",
      "enumerations: <class 'method'><<bound method scopedef_t.enumerations of <pygccxml.declarations.class_declaration.class_t object at 0x000000F65B47FAC8>>>\n",
      "enums: <class 'method'><<bound method scopedef_t.enums of <pygccxml.declarations.class_declaration.class_t object at 0x000000F65B47FAC8>>>\n",
      "find_out_member_access_type: <class 'method'><<bound method class_t.find_out_member_access_type of <pygccxml.declarations.class_declaration.class_t object at 0x000000F65B47FAC8>>>\n",
      "get_mangled_name(): None\n",
      "get_members(): [<pygccxml.declarations.calldef_members.constructor_t object at 0x000000F65B4B7940>, <pygccxml.declarations.calldef_members.constructor_t object at 0x000000F65B4B7AC8>, <pygccxml.declarations.calldef_members.destructor_t object at 0x000000F65B4B80F0>, <pygccxml.declarations.calldef_members.member_operator_t object at 0x000000F65B4B7DA0>, <pygccxml.declarations.variable.variable_t object at 0x000000F65B4B7748>]\n",
      "i_depend_on_them(): [<pygccxml.declarations.class_declaration.dependency_info_t object at 0x000000F65B4C2470>, <pygccxml.declarations.class_declaration.dependency_info_t object at 0x000000F65B4C2278>, <pygccxml.declarations.class_declaration.dependency_info_t object at 0x000000F65B4C28D0>, <pygccxml.declarations.class_declaration.dependency_info_t object at 0x000000F65B4C25F8>]\n",
      "init_optimizer(): None\n",
      "is_abstract: <class 'bool'><False>\n",
      "is_artificial: <class 'bool'><False>\n",
      "location: <class 'pygccxml.declarations.location.location_t'><<pygccxml.declarations.location.location_t object at 0x000000F65B47FA20>>\n",
      "mangled: <class 'NoneType'><None>\n",
      "mem_fun: <class 'method'><<bound method scopedef_t.mem_fun of <pygccxml.declarations.class_declaration.class_t object at 0x000000F65B47FAC8>>>\n",
      "mem_funs: <class 'method'><<bound method scopedef_t.mem_funs of <pygccxml.declarations.class_declaration.class_t object at 0x000000F65B47FAC8>>>\n",
      "mem_oper(): ExtY_dllModel_T & ExtY_dllModel_T::operator=(ExtY_dllModel_T const & arg0) [member operator]\n",
      "mem_opers(): <pygccxml.declarations.mdecl_wrapper.mdecl_wrapper_t object at 0x000000F65B4BF780>\n",
      "member_function: <class 'method'><<bound method scopedef_t.member_function of <pygccxml.declarations.class_declaration.class_t object at 0x000000F65B47FAC8>>>\n",
      "member_functions: <class 'method'><<bound method scopedef_t.member_functions of <pygccxml.declarations.class_declaration.class_t object at 0x000000F65B47FAC8>>>\n",
      "member_operator(): ExtY_dllModel_T & ExtY_dllModel_T::operator=(ExtY_dllModel_T const & arg0) [member operator]\n",
      "member_operators(): <pygccxml.declarations.mdecl_wrapper.mdecl_wrapper_t object at 0x000000F65B4BF240>\n",
      "multiple_declarations_found_t: <class 'type'><<class 'pygccxml.declarations.runtime_errors.multiple_declarations_found_t'>>\n",
      "name: <class 'str'><ExtY_dllModel_T>\n",
      "operator(): ExtY_dllModel_T & ExtY_dllModel_T::operator=(ExtY_dllModel_T const & arg0) [member operator]\n",
      "operators(): <pygccxml.declarations.mdecl_wrapper.mdecl_wrapper_t object at 0x000000F65B4BF518>\n",
      "parent: <class 'pygccxml.declarations.namespace.namespace_t'><:: [namespace]>\n",
      "partial_decl_string: <class 'str'><::ExtY_dllModel_T>\n",
      "partial_name: <class 'str'><ExtY_dllModel_T>\n",
      "private_members: <class 'list'><[]>\n",
      "protected_members: <class 'list'><[]>\n",
      "public_members: <class 'list'><[<pygccxml.declarations.calldef_members.constructor_t object at 0x000000F65B4B7940>, <pygccxml.declarations.calldef_members.constructor_t object at 0x000000F65B4B7AC8>, <pygccxml.declarations.calldef_members.destructor_t object at 0x000000F65B4B80F0>, <pygccxml.declarations.calldef_members.member_operator_t object at 0x000000F65B4B7DA0>, <pygccxml.declarations.variable.variable_t object at 0x000000F65B4B7748>]>\n",
      "recursive_bases: <class 'list'><[]>\n",
      "recursive_derived: <class 'list'><[]>\n",
      "remove_declaration: <class 'method'><<bound method class_t.remove_declaration of <pygccxml.declarations.class_declaration.class_t object at 0x000000F65B47FAC8>>>\n",
      "top_class: <class 'pygccxml.declarations.class_declaration.class_t'><ExtY_dllModel_T [struct]>\n",
      "top_parent: <class 'pygccxml.declarations.namespace.namespace_t'><:: [namespace]>\n",
      "typedef: <class 'method'><<bound method scopedef_t.typedef of <pygccxml.declarations.class_declaration.class_t object at 0x000000F65B47FAC8>>>\n",
      "typedefs: <class 'method'><<bound method scopedef_t.typedefs of <pygccxml.declarations.class_declaration.class_t object at 0x000000F65B47FAC8>>>\n",
      "use_demangled_as_name: <class 'bool'><True>\n",
      "variable(): ExtY_dllModel_T::OutputPort2 [variable]\n",
      "variables(): <pygccxml.declarations.mdecl_wrapper.mdecl_wrapper_t object at 0x000000F65B469438>\n"
     ]
    },
    {
     "name": "stderr",
     "output_type": "stream",
     "text": [
      "C:\\Projects\\EatonPython-64bit-3.6\\python-3.6.1.amd64\\lib\\site-packages\\pygccxml\\declarations\\scopedef.py:151: DeprecationWarning: The declaration_not_found_t attribute is deprecated. Please usepygccxml.declaration.declaration_not_found_t instead.\n",
      "  DeprecationWarning)\n",
      "C:\\Projects\\EatonPython-64bit-3.6\\python-3.6.1.amd64\\lib\\site-packages\\pygccxml\\declarations\\declaration.py:303: DeprecationWarning: The decorated_name attribute is deprecated. See the changelog.\n",
      "  DeprecationWarning)\n",
      "C:\\Projects\\EatonPython-64bit-3.6\\python-3.6.1.amd64\\lib\\site-packages\\pygccxml\\declarations\\scopedef.py:1117: DeprecationWarning: The enum() method is deprecated. \n",
      "Please use the enumeration() method instead.\n",
      "  DeprecationWarning)\n",
      "C:\\Projects\\EatonPython-64bit-3.6\\python-3.6.1.amd64\\lib\\site-packages\\pygccxml\\declarations\\scopedef.py:1161: DeprecationWarning: The enums() method is deprecated. \n",
      "Please use the enumerations() method instead.\n",
      "  DeprecationWarning)\n",
      "C:\\Projects\\EatonPython-64bit-3.6\\python-3.6.1.amd64\\lib\\site-packages\\pygccxml\\declarations\\scopedef.py:802: DeprecationWarning: The mem_fun() method is deprecated. \n",
      "Please use the member_function() method instead.\n",
      "  DeprecationWarning)\n",
      "C:\\Projects\\EatonPython-64bit-3.6\\python-3.6.1.amd64\\lib\\site-packages\\pygccxml\\declarations\\scopedef.py:855: DeprecationWarning: The mem_funs() method is deprecated. \n",
      "Please use the member_functions() method instead.\n",
      "  DeprecationWarning)\n",
      "C:\\Projects\\EatonPython-64bit-3.6\\python-3.6.1.amd64\\lib\\site-packages\\pygccxml\\declarations\\scopedef.py:962: DeprecationWarning: The mem_oper() method is deprecated. \n",
      "Please use the member_operator() method instead.\n",
      "  DeprecationWarning)\n",
      "C:\\Projects\\EatonPython-64bit-3.6\\python-3.6.1.amd64\\lib\\site-packages\\pygccxml\\declarations\\scopedef.py:1020: DeprecationWarning: The mem_opers() method is deprecated. \n",
      "Please use the member_operators() method instead.\n",
      "  DeprecationWarning)\n",
      "C:\\Projects\\EatonPython-64bit-3.6\\python-3.6.1.amd64\\lib\\site-packages\\pygccxml\\declarations\\scopedef.py:161: DeprecationWarning: The multiple_declarations_found_t attribute is deprecated. Please use pygccxml.declaration.multiple_declarations_found_t instead.\n",
      "  DeprecationWarning)\n"
     ]
    }
   ],
   "source": [
    "vardump(struct)"
   ]
  },
  {
   "cell_type": "code",
   "execution_count": 50,
   "metadata": {},
   "outputs": [
    {
     "ename": "IndexError",
     "evalue": "list index out of range",
     "output_type": "error",
     "traceback": [
      "\u001b[1;31m---------------------------------------------------------------------------\u001b[0m",
      "\u001b[1;31mIndexError\u001b[0m                                Traceback (most recent call last)",
      "\u001b[1;32m<ipython-input-50-09ff5e6d3544>\u001b[0m in \u001b[0;36m<module>\u001b[1;34m()\u001b[0m\n\u001b[1;32m----> 1\u001b[1;33m \u001b[0mvardump\u001b[0m\u001b[1;33m(\u001b[0m\u001b[0mstruct\u001b[0m\u001b[1;33m.\u001b[0m\u001b[0mvariables\u001b[0m\u001b[1;33m(\u001b[0m\u001b[1;33m)\u001b[0m\u001b[1;33m[\u001b[0m\u001b[1;36m1\u001b[0m\u001b[1;33m]\u001b[0m\u001b[1;33m)\u001b[0m\u001b[1;33m\u001b[0m\u001b[0m\n\u001b[0m",
      "\u001b[1;32mC:\\Projects\\EatonPython-64bit-3.6\\python-3.6.1.amd64\\lib\\site-packages\\pygccxml\\declarations\\mdecl_wrapper.py\u001b[0m in \u001b[0;36m__getitem__\u001b[1;34m(self, index)\u001b[0m\n\u001b[0;32m     79\u001b[0m     \u001b[1;32mdef\u001b[0m \u001b[0m__getitem__\u001b[0m\u001b[1;33m(\u001b[0m\u001b[0mself\u001b[0m\u001b[1;33m,\u001b[0m \u001b[0mindex\u001b[0m\u001b[1;33m)\u001b[0m\u001b[1;33m:\u001b[0m\u001b[1;33m\u001b[0m\u001b[0m\n\u001b[0;32m     80\u001b[0m         \u001b[1;34m\"\"\"provides access to declaration\"\"\"\u001b[0m\u001b[1;33m\u001b[0m\u001b[0m\n\u001b[1;32m---> 81\u001b[1;33m         \u001b[1;32mreturn\u001b[0m \u001b[0mself\u001b[0m\u001b[1;33m.\u001b[0m\u001b[0mdeclarations\u001b[0m\u001b[1;33m[\u001b[0m\u001b[0mindex\u001b[0m\u001b[1;33m]\u001b[0m\u001b[1;33m\u001b[0m\u001b[0m\n\u001b[0m\u001b[0;32m     82\u001b[0m \u001b[1;33m\u001b[0m\u001b[0m\n\u001b[0;32m     83\u001b[0m     \u001b[1;32mdef\u001b[0m \u001b[0m__iter__\u001b[0m\u001b[1;33m(\u001b[0m\u001b[0mself\u001b[0m\u001b[1;33m)\u001b[0m\u001b[1;33m:\u001b[0m\u001b[1;33m\u001b[0m\u001b[0m\n",
      "\u001b[1;31mIndexError\u001b[0m: list index out of range"
     ]
    }
   ],
   "source": [
    "vardump(struct.variables()[1])"
   ]
  },
  {
   "cell_type": "code",
   "execution_count": null,
   "metadata": {
    "collapsed": true
   },
   "outputs": [],
   "source": []
  },
  {
   "cell_type": "code",
   "execution_count": null,
   "metadata": {},
   "outputs": [],
   "source": [
    "for dec in ns.declarations:\n",
    "    if isinstance(dec, declarations.free_calldef.free_function_t):\n",
    "        print(\"{} = dll.{}\".format(dec.name, dec.name))\n"
   ]
  },
  {
   "cell_type": "code",
   "execution_count": null,
   "metadata": {
    "collapsed": true
   },
   "outputs": [],
   "source": []
  }
 ],
 "metadata": {
  "kernelspec": {
   "display_name": "Python 3",
   "language": "python",
   "name": "python3"
  },
  "language_info": {
   "codemirror_mode": {
    "name": "ipython",
    "version": 3
   },
   "file_extension": ".py",
   "mimetype": "text/x-python",
   "name": "python",
   "nbconvert_exporter": "python",
   "pygments_lexer": "ipython3",
   "version": "3.6.1"
  }
 },
 "nbformat": 4,
 "nbformat_minor": 2
}
