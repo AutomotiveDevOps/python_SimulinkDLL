{
 "cells": [
  {
   "cell_type": "code",
   "execution_count": 1,
   "metadata": {
    "collapsed": true
   },
   "outputs": [],
   "source": [
    "import os\n",
    "import sys\n",
    "\n",
    "file = sys.stdout"
   ]
  },
  {
   "cell_type": "code",
   "execution_count": 2,
   "metadata": {
    "collapsed": true
   },
   "outputs": [],
   "source": [
    "model = \"dllModel\""
   ]
  },
  {
   "cell_type": "code",
   "execution_count": 3,
   "metadata": {
    "collapsed": true
   },
   "outputs": [],
   "source": [
    "build_root = os.path.abspath(\"Example/\")"
   ]
  },
  {
   "cell_type": "code",
   "execution_count": 4,
   "metadata": {
    "collapsed": true
   },
   "outputs": [],
   "source": [
    "dll = os.path.join(build_root, model+\"_win64.dll\")\n",
    "header = os.path.join(build_root, model+\"_ert_shrlib_rtw\", model+\".h\")"
   ]
  },
  {
   "cell_type": "code",
   "execution_count": 5,
   "metadata": {
    "collapsed": true
   },
   "outputs": [],
   "source": [
    "assert os.path.exists(dll)\n",
    "assert os.path.exists(header)"
   ]
  },
  {
   "cell_type": "code",
   "execution_count": 6,
   "metadata": {
    "collapsed": true
   },
   "outputs": [],
   "source": [
    "cast_xml_root = os.path.abspath(os.path.join(os.path.curdir, 'castxml'))"
   ]
  },
  {
   "cell_type": "code",
   "execution_count": 7,
   "metadata": {
    "collapsed": true
   },
   "outputs": [],
   "source": [
    "import pygccxml\n",
    "\n",
    "from pygccxml import utils\n",
    "from pygccxml import declarations\n",
    "from pygccxml import parser\n",
    "import ctypes\n",
    "import os"
   ]
  },
  {
   "cell_type": "code",
   "execution_count": 8,
   "metadata": {
    "collapsed": true
   },
   "outputs": [],
   "source": [
    "# Configure the xml generator\n",
    "xml_generator_config = parser.xml_generator_configuration_t(\n",
    "    xml_generator_path=r\"castxml\\bin\\castxml.exe\",\n",
    "    xml_generator=\"castxml\",\n",
    "    compiler_path=r\"C:\\MATLAB\\SupportPackages\\R2015b\\MW_MinGW_4_9\\bin\\gcc.exe\")"
   ]
  },
  {
   "cell_type": "code",
   "execution_count": 9,
   "metadata": {},
   "outputs": [
    {
     "name": "stderr",
     "output_type": "stream",
     "text": [
      "INFO Parsing source file \"C:\\Projects\\python_SimulinkDLL\\Example\\dllModel_ert_shrlib_rtw\\dllModel.h\" ... \n"
     ]
    }
   ],
   "source": [
    "decls = parser.parse([header], xml_generator_config)\n",
    "ns = decls[0]"
   ]
  },
  {
   "cell_type": "code",
   "execution_count": 10,
   "metadata": {},
   "outputs": [
    {
     "name": "stdout",
     "output_type": "stream",
     "text": [
      "# Standard Types\n",
      "size_t = ctypes.c_ulonglong\n",
      "ssize_t = ctypes.c_longlong\n",
      "intptr_t = ctypes.c_longlong\n",
      "uintptr_t = ctypes.c_ulonglong\n",
      "ptrdiff_t = ctypes.c_longlong\n",
      "wint_t = ctypes.c_ushort\n",
      "wctype_t = ctypes.c_ushort\n",
      "errno_t = ctypes.c_int\n",
      "__time32_t = ctypes.c_long\n",
      "__time64_t = ctypes.c_longlong\n",
      "int8_T = ctypes.c_byte\n",
      "uint8_T = ctypes.c_ubyte\n",
      "int16_T = ctypes.c_short\n",
      "uint16_T = ctypes.c_ushort\n",
      "int32_T = ctypes.c_int\n",
      "uint32_T = ctypes.c_uint\n",
      "int64_T = ctypes.c_longlong\n",
      "uint64_T = ctypes.c_ulonglong\n",
      "real32_T = ctypes.c_float\n",
      "real64_T = ctypes.c_double\n",
      "real_T = ctypes.c_double\n",
      "time_T = ctypes.c_double\n",
      "boolean_T = ctypes.c_ubyte\n",
      "int_T = ctypes.c_int\n",
      "uint_T = ctypes.c_uint\n",
      "ulong_T = ctypes.c_ulong\n",
      "ulonglong_T = ctypes.c_ulonglong\n",
      "char_T = ctypes.c_char\n",
      "uchar_T = ctypes.c_ubyte\n"
     ]
    }
   ],
   "source": [
    "def ctypes_cppname(CPPNAME):\n",
    "    \"\"\"convert a CPPNAME field to a ctypes type.\"\"\"\n",
    "    \n",
    "    # If the CPPNAME ends with a capital _T then it is a Simulink type (but still defined in the field CPPNAME)\n",
    "    # Return this as is for use when called in other functions.\n",
    "    if CPPNAME.endswith('_T'):\n",
    "        return CPPNAME\n",
    "    # Current specified Simulink types and their corresponding ctype type.\n",
    "    type_map = {'long long int': 'c_longlong',\n",
    "                'long long unsigned int': 'c_ulonglong',\n",
    "                'short unsigned int': 'c_ushort',\n",
    "                'int': 'c_int',\n",
    "                'unsigned int': 'c_uint',\n",
    "                'long int': 'c_long',\n",
    "                'long unsigned int': 'c_ulong',\n",
    "                'char': 'c_char',\n",
    "                'char': 'c_char',\n",
    "                'signed char': 'c_byte',\n",
    "                'unsigned char': 'c_ubyte',\n",
    "                'float': 'c_float',\n",
    "                'double': 'c_double',\n",
    "                'short int': 'c_short'}\n",
    "    # Loop through the simulink definitions and return if found.\n",
    "    for cppname, ctype in type_map.items():\n",
    "        if cppname == CPPNAME:\n",
    "            # Return ctypes.+ for explicitness and to maintain the namespaces.\n",
    "            return \"ctypes.\"+ctype\n",
    "    # If we make it this far raise an exception and investigate the CPPNAME.\n",
    "    # Fix the function or add another type to the type_map.\n",
    "    raise(Exception(\"Unhandled data type: \"+CPPNAME))\n",
    "\n",
    "print(\"# Standard Types\")\n",
    "for typedef in ns.typedefs():\n",
    "    if hasattr(typedef.decl_type, 'CPPNAME'):\n",
    "        print(\"{} = {}\".format(typedef.name, ctypes_cppname(typedef.decl_type.CPPNAME)))\n",
    "        \n",
    "def var_type(decl_type):\n",
    "    if hasattr(decl_type, 'CPPNAME'):\n",
    "        return(ctypes_cppname(decl_type.CPPNAME))\n",
    "    if pygccxml.declarations.is_array(decl_type):\n",
    "        if hasattr(decl_type.base, \"CPPNAME\"):\n",
    "            ctype = ctypes_cppname(decl_type.base.CPPNAME)\n",
    "            return \"{}*{}\".format(ctype.base, decl_type.size)\n",
    "        elif isinstance(decl_type.base, pygccxml.declarations.cpptypes.declarated_t):\n",
    "            ctype = decl_type.base.decl_string.split(\":\")[-1]\n",
    "            return \"{}*{}\".format(ctype, decl_type.size)\n",
    "    if pygccxml.declarations.is_pointer(decl_type):\n",
    "        return \"ctypes.POINTER({})\".format(var_type(declarations.remove_pointer(decl_type)))\n",
    "    if pygccxml.declarations.is_volatile(decl_type):\n",
    "        return \"{}\".format(var_type(declarations.remove_volatile(decl_type)))\n",
    "    if pygccxml.declarations.is_const(decl_type):\n",
    "        return \"{}\".format(var_type(declarations.remove_const(decl_type)))\n",
    "    if isinstance(decl_type, pygccxml.declarations.cpptypes.declarated_t):\n",
    "        return decl_type.decl_string.split(\":\")[-1]\n",
    "    raise Exception(decl_type)\n",
    "    \n",
    "def struct_tdef(struct, ns):\n",
    "    for tdef in ns.typedefs():\n",
    "        try:\n",
    "            if tdef.decl_type.declaration == struct:\n",
    "                return tdef.name\n",
    "        except:\n",
    "            continue\n",
    "    return None"
   ]
  },
  {
   "cell_type": "code",
   "execution_count": 11,
   "metadata": {
    "collapsed": true
   },
   "outputs": [],
   "source": [
    "# Standard Types\n",
    "size_t = ctypes.c_ulonglong\n",
    "ssize_t = ctypes.c_longlong\n",
    "intptr_t = ctypes.c_longlong\n",
    "uintptr_t = ctypes.c_ulonglong\n",
    "ptrdiff_t = ctypes.c_longlong\n",
    "wint_t = ctypes.c_ushort\n",
    "wctype_t = ctypes.c_ushort\n",
    "errno_t = ctypes.c_int\n",
    "__time32_t = ctypes.c_long\n",
    "__time64_t = ctypes.c_longlong\n",
    "int8_T = ctypes.c_byte\n",
    "uint8_T = ctypes.c_ubyte\n",
    "int16_T = ctypes.c_short\n",
    "uint16_T = ctypes.c_ushort\n",
    "int32_T = ctypes.c_int\n",
    "uint32_T = ctypes.c_uint\n",
    "int64_T = ctypes.c_longlong\n",
    "uint64_T = ctypes.c_ulonglong\n",
    "real32_T = ctypes.c_float\n",
    "real64_T = ctypes.c_double\n",
    "real_T = ctypes.c_double\n",
    "time_T = ctypes.c_double\n",
    "boolean_T = ctypes.c_ubyte\n",
    "int_T = ctypes.c_int\n",
    "uint_T = ctypes.c_uint\n",
    "ulong_T = ctypes.c_ulong\n",
    "ulonglong_T = ctypes.c_ulonglong\n",
    "char_T = ctypes.c_char\n",
    "uchar_T = ctypes.c_ubyte"
   ]
  },
  {
   "cell_type": "code",
   "execution_count": 12,
   "metadata": {
    "collapsed": true
   },
   "outputs": [],
   "source": [
    "def istr(indent=0):\n",
    "    return \" \"*(4*indent)"
   ]
  },
  {
   "cell_type": "code",
   "execution_count": 13,
   "metadata": {
    "collapsed": true
   },
   "outputs": [],
   "source": [
    "def print_struct(struct, file=sys.stdout, indent=0):\n",
    "    # Start defining the class.\n",
    "    print(\"{}class {}(ctypes.Structure):\".format(istr(indent), struct.name), file=file)\n",
    "    # Define the fields.\n",
    "    print(\"{}_fields_ = [\".format(istr(indent+1), file=file))\n",
    "    # For each of the variables inside the struct.\n",
    "    for var in struct.variables():\n",
    "        # Loop through and define the field name and type.\n",
    "        print(\"{}(\\\"{}\\\", {}),\".format(istr(indent+2),var.name,var_type(var.decl_type)), file=file)\n",
    "    # Close our brackets.s\n",
    "    print(\"{}]\".format(istr(indent+1)), file=file)\n",
    "\n",
    "    # Get the structure typedef\n",
    "    tdef = struct_tdef(struct, ns)\n",
    "    if tdef is not None:\n",
    "        # If it's none and doesn't match the structure name.\n",
    "        # Because of how Simulink generates the code and how CastXML reads it structures have different \n",
    "        # names than their typedef.\n",
    "        # \n",
    "        # Example: \n",
    "        #\n",
    "        # typedef struct Var_tag {\n",
    "        #     ...\n",
    "        # } Var_type;\n",
    "        # \n",
    "        # Would have a structure named Var_tag but a typedef named Var_type.\n",
    "        \n",
    "        # Create the typedef.\n",
    "        if tdef != struct.name:\n",
    "            print(\"{}{} = {}\".format(istr(indent), tdef, struct.name), file=filetweb)"
   ]
  },
  {
   "cell_type": "code",
   "execution_count": 14,
   "metadata": {},
   "outputs": [
    {
     "name": "stdout",
     "output_type": "stream",
     "text": [
      "class tagLC_ID(ctypes.Structure):\n",
      "    _fields_ = [\n",
      "        (\"wLanguage\", ctypes.c_ushort),\n",
      "        (\"wCountry\", ctypes.c_ushort),\n",
      "        (\"wCodePage\", ctypes.c_ushort),\n",
      "    ]\n"
     ]
    },
    {
     "ename": "NameError",
     "evalue": "name 'filetweb' is not defined",
     "output_type": "error",
     "traceback": [
      "\u001b[1;31m---------------------------------------------------------------------------\u001b[0m",
      "\u001b[1;31mNameError\u001b[0m                                 Traceback (most recent call last)",
      "\u001b[1;32m<ipython-input-14-07ad7c3334f2>\u001b[0m in \u001b[0;36m<module>\u001b[1;34m()\u001b[0m\n\u001b[0;32m     10\u001b[0m         \u001b[1;32mcontinue\u001b[0m\u001b[1;33m\u001b[0m\u001b[0m\n\u001b[0;32m     11\u001b[0m \u001b[1;33m\u001b[0m\u001b[0m\n\u001b[1;32m---> 12\u001b[1;33m     \u001b[0mprint_struct\u001b[0m\u001b[1;33m(\u001b[0m\u001b[0mstruct\u001b[0m\u001b[1;33m,\u001b[0m \u001b[0mindent\u001b[0m\u001b[1;33m=\u001b[0m\u001b[1;36m0\u001b[0m\u001b[1;33m)\u001b[0m\u001b[1;33m\u001b[0m\u001b[0m\n\u001b[0m",
      "\u001b[1;32m<ipython-input-13-5960982c5f81>\u001b[0m in \u001b[0;36mprint_struct\u001b[1;34m(struct, file, indent)\u001b[0m\n\u001b[0;32m     28\u001b[0m         \u001b[1;31m# Create the typedef.\u001b[0m\u001b[1;33m\u001b[0m\u001b[1;33m\u001b[0m\u001b[0m\n\u001b[0;32m     29\u001b[0m         \u001b[1;32mif\u001b[0m \u001b[0mtdef\u001b[0m \u001b[1;33m!=\u001b[0m \u001b[0mstruct\u001b[0m\u001b[1;33m.\u001b[0m\u001b[0mname\u001b[0m\u001b[1;33m:\u001b[0m\u001b[1;33m\u001b[0m\u001b[0m\n\u001b[1;32m---> 30\u001b[1;33m             \u001b[0mprint\u001b[0m\u001b[1;33m(\u001b[0m\u001b[1;34m\"{}{} = {}\"\u001b[0m\u001b[1;33m.\u001b[0m\u001b[0mformat\u001b[0m\u001b[1;33m(\u001b[0m\u001b[0mistr\u001b[0m\u001b[1;33m(\u001b[0m\u001b[0mindent\u001b[0m\u001b[1;33m)\u001b[0m\u001b[1;33m,\u001b[0m \u001b[0mtdef\u001b[0m\u001b[1;33m,\u001b[0m \u001b[0mstruct\u001b[0m\u001b[1;33m.\u001b[0m\u001b[0mname\u001b[0m\u001b[1;33m)\u001b[0m\u001b[1;33m,\u001b[0m \u001b[0mfile\u001b[0m\u001b[1;33m=\u001b[0m\u001b[0mfiletweb\u001b[0m\u001b[1;33m)\u001b[0m\u001b[1;33m\u001b[0m\u001b[0m\n\u001b[0m",
      "\u001b[1;31mNameError\u001b[0m: name 'filetweb' is not defined"
     ]
    }
   ],
   "source": [
    "# Get all of the defined structures.\n",
    "structs = ns.classes(lambda x: declarations.is_struct(x))\n",
    "# For each of the structures.\n",
    "for struct in structs:\n",
    "    # If the structure has no name, pass.\n",
    "    if struct.name == \"\":\n",
    "        continue\n",
    "    # If locale is in the structure name, pass (They're not any structures we can access in the DLL)\n",
    "    if 'locale' in struct.name:\n",
    "        continue\n",
    "\n",
    "    print_struct(struct, indent=0)"
   ]
  },
  {
   "cell_type": "markdown",
   "metadata": {},
   "source": [
    "externs\n",
    "\n",
    "Only the variables defined as externs are accessible through the dll. Everything else is internal (and not accessible.)\n",
    "\n",
    "To grab a reference to the variable we access it with \"TYPE.in_dll(dll, VARIABLE_NAME)\""
   ]
  },
  {
   "cell_type": "code",
   "execution_count": 15,
   "metadata": {},
   "outputs": [
    {
     "name": "stdout",
     "output_type": "stream",
     "text": [
      "dllModel_P = P_dllModel_T.in_dll(dll, 'dllModel_P')\n",
      "dllModel_B = B_dllModel_T.in_dll(dll, 'dllModel_B')\n",
      "dllModel_U = ExtU_dllModel_T.in_dll(dll, 'dllModel_U')\n",
      "dllModel_Y = ExtY_dllModel_T.in_dll(dll, 'dllModel_Y')\n",
      "SignalIn = real32_T.in_dll(dll, 'SignalIn')\n",
      "SimulationSignal2 = real_T.in_dll(dll, 'SimulationSignal2')\n",
      "SignalOut = real32_T.in_dll(dll, 'SignalOut')\n",
      "K = real32_T.in_dll(dll, 'K')\n",
      "dllModel_M = ctypes.POINTER(tag_RTM_dllModel_T).in_dll(dll, 'dllModel_M')\n"
     ]
    }
   ],
   "source": [
    "externs = ns.variables(lambda v: v.type_qualifiers.has_extern)\n",
    "for extern in externs:\n",
    "#    extern_type = extern.decl_type.declaration.name\n",
    "    print(\"{} = {}.in_dll(dll, '{}')\".format(extern.name, var_type(extern.decl_type), extern.name))"
   ]
  },
  {
   "cell_type": "code",
   "execution_count": null,
   "metadata": {
    "collapsed": true
   },
   "outputs": [],
   "source": []
  },
  {
   "cell_type": "code",
   "execution_count": 16,
   "metadata": {
    "collapsed": true
   },
   "outputs": [],
   "source": [
    "# Development tool.\n",
    "def vardump(var):\n",
    "    fields = dir(var)\n",
    "    for field in fields:\n",
    "        if field.startswith(\"_\"):\n",
    "            continue\n",
    "        try:\n",
    "            f = getattr(var, field)\n",
    "        except:\n",
    "            continue\n",
    "        try:\n",
    "            print(\"{}(): {}\".format(field, f()))\n",
    "        except:\n",
    "            try:\n",
    "                print(\"{}: {}<{}>\".format(field, type(f), f))\n",
    "            except:\n",
    "                pass"
   ]
  },
  {
   "cell_type": "code",
   "execution_count": null,
   "metadata": {
    "collapsed": true
   },
   "outputs": [],
   "source": []
  }
 ],
 "metadata": {
  "kernelspec": {
   "display_name": "Python 3",
   "language": "python",
   "name": "python3"
  },
  "language_info": {
   "codemirror_mode": {
    "name": "ipython",
    "version": 3
   },
   "file_extension": ".py",
   "mimetype": "text/x-python",
   "name": "python",
   "nbconvert_exporter": "python",
   "pygments_lexer": "ipython3",
   "version": "3.6.1"
  }
 },
 "nbformat": 4,
 "nbformat_minor": 2
}
