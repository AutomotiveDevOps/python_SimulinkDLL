{
 "cells": [
  {
   "cell_type": "code",
   "execution_count": 2,
   "metadata": {
    "collapsed": true
   },
   "outputs": [],
   "source": [
    "model = \"dllModel\""
   ]
  },
  {
   "cell_type": "code",
   "execution_count": 3,
   "metadata": {
    "collapsed": true
   },
   "outputs": [],
   "source": [
    "import os"
   ]
  },
  {
   "cell_type": "code",
   "execution_count": 4,
   "metadata": {},
   "outputs": [
    {
     "ename": "NameError",
     "evalue": "name 'build_root' is not defined",
     "output_type": "error",
     "traceback": [
      "\u001b[1;31m---------------------------------------------------------------------------\u001b[0m",
      "\u001b[1;31mNameError\u001b[0m                                 Traceback (most recent call last)",
      "\u001b[1;32m<ipython-input-4-3b839567b060>\u001b[0m in \u001b[0;36m<module>\u001b[1;34m()\u001b[0m\n\u001b[1;32m----> 1\u001b[1;33m \u001b[0mdll\u001b[0m \u001b[1;33m=\u001b[0m \u001b[0mos\u001b[0m\u001b[1;33m.\u001b[0m\u001b[0mpath\u001b[0m\u001b[1;33m.\u001b[0m\u001b[0mjoin\u001b[0m\u001b[1;33m(\u001b[0m\u001b[0mbuild_root\u001b[0m\u001b[1;33m,\u001b[0m \u001b[0mmodel\u001b[0m\u001b[1;33m+\u001b[0m\u001b[1;34m\"_win64.dll\"\u001b[0m\u001b[1;33m)\u001b[0m\u001b[1;33m\u001b[0m\u001b[0m\n\u001b[0m\u001b[0;32m      2\u001b[0m \u001b[0mheader\u001b[0m \u001b[1;33m=\u001b[0m \u001b[0mos\u001b[0m\u001b[1;33m.\u001b[0m\u001b[0mpath\u001b[0m\u001b[1;33m.\u001b[0m\u001b[0mjoin\u001b[0m\u001b[1;33m(\u001b[0m\u001b[0mbuild_root\u001b[0m\u001b[1;33m,\u001b[0m \u001b[0mmodel\u001b[0m\u001b[1;33m+\u001b[0m\u001b[1;34m\"_ert_shrlib_rtw\"\u001b[0m\u001b[1;33m,\u001b[0m \u001b[0mmodel\u001b[0m\u001b[1;33m+\u001b[0m\u001b[1;34m\".h\"\u001b[0m\u001b[1;33m)\u001b[0m\u001b[1;33m\u001b[0m\u001b[0m\n",
      "\u001b[1;31mNameError\u001b[0m: name 'build_root' is not defined"
     ]
    }
   ],
   "source": [
    "dll = os.path.join(build_root, model+\"_win64.dll\")\n",
    "header = os.path.join(build_root, model+\"_ert_shrlib_rtw\", model+\".h\")"
   ]
  },
  {
   "cell_type": "code",
   "execution_count": 5,
   "metadata": {},
   "outputs": [
    {
     "ename": "NameError",
     "evalue": "name 'dll' is not defined",
     "output_type": "error",
     "traceback": [
      "\u001b[1;31m---------------------------------------------------------------------------\u001b[0m",
      "\u001b[1;31mNameError\u001b[0m                                 Traceback (most recent call last)",
      "\u001b[1;32m<ipython-input-5-0300c7154946>\u001b[0m in \u001b[0;36m<module>\u001b[1;34m()\u001b[0m\n\u001b[1;32m----> 1\u001b[1;33m \u001b[1;32massert\u001b[0m \u001b[0mos\u001b[0m\u001b[1;33m.\u001b[0m\u001b[0mpath\u001b[0m\u001b[1;33m.\u001b[0m\u001b[0mexists\u001b[0m\u001b[1;33m(\u001b[0m\u001b[0mdll\u001b[0m\u001b[1;33m)\u001b[0m\u001b[1;33m\u001b[0m\u001b[0m\n\u001b[0m\u001b[0;32m      2\u001b[0m \u001b[1;32massert\u001b[0m \u001b[0mos\u001b[0m\u001b[1;33m.\u001b[0m\u001b[0mpath\u001b[0m\u001b[1;33m.\u001b[0m\u001b[0mexists\u001b[0m\u001b[1;33m(\u001b[0m\u001b[0mheader\u001b[0m\u001b[1;33m)\u001b[0m\u001b[1;33m\u001b[0m\u001b[0m\n",
      "\u001b[1;31mNameError\u001b[0m: name 'dll' is not defined"
     ]
    }
   ],
   "source": [
    "assert os.path.exists(dll)\n",
    "assert os.path.exists(header)"
   ]
  },
  {
   "cell_type": "code",
   "execution_count": 6,
   "metadata": {
    "collapsed": true
   },
   "outputs": [],
   "source": [
    "cast_xml_root = os.path.abspath(os.path.join(os.path.curdir, 'castxml'))"
   ]
  },
  {
   "cell_type": "code",
   "execution_count": 7,
   "metadata": {
    "collapsed": true
   },
   "outputs": [],
   "source": [
    "import pygccxml\n",
    "\n",
    "from pygccxml import utils\n",
    "from pygccxml import declarations\n",
    "from pygccxml import parser\n",
    "import ctypes\n",
    "import os"
   ]
  },
  {
   "cell_type": "code",
   "execution_count": 8,
   "metadata": {
    "collapsed": true
   },
   "outputs": [],
   "source": [
    "# Configure the xml generator\n",
    "xml_generator_config = parser.xml_generator_configuration_t(\n",
    "    xml_generator_path=r\"castxml\\bin\\castxml.exe\",\n",
    "    xml_generator=\"castxml\",\n",
    "    compiler_path=r\"C:\\MATLAB\\SupportPackages\\R2015b\\MW_MinGW_4_9\\bin\\gcc.exe\")"
   ]
  },
  {
   "cell_type": "code",
   "execution_count": 9,
   "metadata": {},
   "outputs": [
    {
     "ename": "NameError",
     "evalue": "name 'header' is not defined",
     "output_type": "error",
     "traceback": [
      "\u001b[1;31m---------------------------------------------------------------------------\u001b[0m",
      "\u001b[1;31mNameError\u001b[0m                                 Traceback (most recent call last)",
      "\u001b[1;32m<ipython-input-9-402e10ef30a3>\u001b[0m in \u001b[0;36m<module>\u001b[1;34m()\u001b[0m\n\u001b[1;32m----> 1\u001b[1;33m \u001b[0mdecls\u001b[0m \u001b[1;33m=\u001b[0m \u001b[0mparser\u001b[0m\u001b[1;33m.\u001b[0m\u001b[0mparse\u001b[0m\u001b[1;33m(\u001b[0m\u001b[1;33m[\u001b[0m\u001b[0mheader\u001b[0m\u001b[1;33m]\u001b[0m\u001b[1;33m,\u001b[0m \u001b[0mxml_generator_config\u001b[0m\u001b[1;33m)\u001b[0m\u001b[1;33m\u001b[0m\u001b[0m\n\u001b[0m\u001b[0;32m      2\u001b[0m \u001b[0mns\u001b[0m \u001b[1;33m=\u001b[0m \u001b[0mdecls\u001b[0m\u001b[1;33m[\u001b[0m\u001b[1;36m0\u001b[0m\u001b[1;33m]\u001b[0m\u001b[1;33m\u001b[0m\u001b[0m\n",
      "\u001b[1;31mNameError\u001b[0m: name 'header' is not defined"
     ]
    }
   ],
   "source": [
    "decls = parser.parse([header], xml_generator_config)\n",
    "ns = decls[0]"
   ]
  },
  {
   "cell_type": "code",
   "execution_count": 10,
   "metadata": {},
   "outputs": [
    {
     "name": "stdout",
     "output_type": "stream",
     "text": [
      "# Standard Types\n"
     ]
    },
    {
     "ename": "NameError",
     "evalue": "name 'ns' is not defined",
     "output_type": "error",
     "traceback": [
      "\u001b[1;31m---------------------------------------------------------------------------\u001b[0m",
      "\u001b[1;31mNameError\u001b[0m                                 Traceback (most recent call last)",
      "\u001b[1;32m<ipython-input-10-e83af5f13900>\u001b[0m in \u001b[0;36m<module>\u001b[1;34m()\u001b[0m\n\u001b[0;32m     24\u001b[0m \u001b[1;33m\u001b[0m\u001b[0m\n\u001b[0;32m     25\u001b[0m \u001b[0mprint\u001b[0m\u001b[1;33m(\u001b[0m\u001b[1;34m\"# Standard Types\"\u001b[0m\u001b[1;33m)\u001b[0m\u001b[1;33m\u001b[0m\u001b[0m\n\u001b[1;32m---> 26\u001b[1;33m \u001b[1;32mfor\u001b[0m \u001b[0mtypedef\u001b[0m \u001b[1;32min\u001b[0m \u001b[0mns\u001b[0m\u001b[1;33m.\u001b[0m\u001b[0mtypedefs\u001b[0m\u001b[1;33m(\u001b[0m\u001b[1;33m)\u001b[0m\u001b[1;33m:\u001b[0m\u001b[1;33m\u001b[0m\u001b[0m\n\u001b[0m\u001b[0;32m     27\u001b[0m     \u001b[1;32mif\u001b[0m \u001b[0mhasattr\u001b[0m\u001b[1;33m(\u001b[0m\u001b[0mtypedef\u001b[0m\u001b[1;33m.\u001b[0m\u001b[0mdecl_type\u001b[0m\u001b[1;33m,\u001b[0m \u001b[1;34m'CPPNAME'\u001b[0m\u001b[1;33m)\u001b[0m\u001b[1;33m:\u001b[0m\u001b[1;33m\u001b[0m\u001b[0m\n\u001b[0;32m     28\u001b[0m         \u001b[0mprint\u001b[0m\u001b[1;33m(\u001b[0m\u001b[1;34m\"{} = {}\"\u001b[0m\u001b[1;33m.\u001b[0m\u001b[0mformat\u001b[0m\u001b[1;33m(\u001b[0m\u001b[0mtypedef\u001b[0m\u001b[1;33m.\u001b[0m\u001b[0mname\u001b[0m\u001b[1;33m,\u001b[0m \u001b[0mctypes_cppname\u001b[0m\u001b[1;33m(\u001b[0m\u001b[0mtypedef\u001b[0m\u001b[1;33m.\u001b[0m\u001b[0mdecl_type\u001b[0m\u001b[1;33m.\u001b[0m\u001b[0mCPPNAME\u001b[0m\u001b[1;33m)\u001b[0m\u001b[1;33m)\u001b[0m\u001b[1;33m)\u001b[0m\u001b[1;33m\u001b[0m\u001b[0m\n",
      "\u001b[1;31mNameError\u001b[0m: name 'ns' is not defined"
     ]
    }
   ],
   "source": [
    "def ctypes_cppname(CPPNAME):\n",
    "    if CPPNAME.endswith('_T'):\n",
    "        return CPPNAME\n",
    "    type_map = {'long long int': 'c_longlong',\n",
    "                'long long unsigned int': 'c_ulonglong',\n",
    "                'short unsigned int': 'c_ushort',\n",
    "                'int': 'c_int',\n",
    "                'unsigned int': 'c_uint',\n",
    "                'long int': 'c_long',\n",
    "                'long unsigned int': 'c_ulong',\n",
    "                'char': 'c_char',\n",
    "                'char': 'c_char',\n",
    "                'signed char': 'c_byte',\n",
    "                'unsigned char': 'c_ubyte',\n",
    "                'float': 'c_float',\n",
    "                'double': 'c_double',\n",
    "                'short int': 'c_short'}\n",
    "    \n",
    "    for cppname, ctype in type_map.items():\n",
    "        if cppname == CPPNAME:\n",
    "            return \"ctypes.\"+ctype\n",
    "    \n",
    "    raise(Exception(\"Unhandled data type: \"+CPPNAME))\n",
    "\n",
    "print(\"# Standard Types\")\n",
    "for typedef in ns.typedefs():\n",
    "    if hasattr(typedef.decl_type, 'CPPNAME'):\n",
    "        print(\"{} = {}\".format(typedef.name, ctypes_cppname(typedef.decl_type.CPPNAME)))"
   ]
  },
  {
   "cell_type": "code",
   "execution_count": 11,
   "metadata": {
    "collapsed": true
   },
   "outputs": [],
   "source": [
    "# Standard Types\n",
    "size_t = ctypes.c_ulonglong\n",
    "ssize_t = ctypes.c_longlong\n",
    "intptr_t = ctypes.c_longlong\n",
    "uintptr_t = ctypes.c_ulonglong\n",
    "ptrdiff_t = ctypes.c_longlong\n",
    "wint_t = ctypes.c_ushort\n",
    "wctype_t = ctypes.c_ushort\n",
    "errno_t = ctypes.c_int\n",
    "__time32_t = ctypes.c_long\n",
    "__time64_t = ctypes.c_longlong\n",
    "int8_T = ctypes.c_byte\n",
    "uint8_T = ctypes.c_ubyte\n",
    "int16_T = ctypes.c_short\n",
    "uint16_T = ctypes.c_ushort\n",
    "int32_T = ctypes.c_int\n",
    "uint32_T = ctypes.c_uint\n",
    "int64_T = ctypes.c_longlong\n",
    "uint64_T = ctypes.c_ulonglong\n",
    "real32_T = ctypes.c_float\n",
    "real64_T = ctypes.c_double\n",
    "real_T = ctypes.c_double\n",
    "time_T = ctypes.c_double\n",
    "boolean_T = ctypes.c_ubyte\n",
    "int_T = ctypes.c_int\n",
    "uint_T = ctypes.c_uint\n",
    "ulong_T = ctypes.c_ulong\n",
    "ulonglong_T = ctypes.c_ulonglong\n",
    "char_T = ctypes.c_char\n",
    "uchar_T = ctypes.c_ubyte"
   ]
  },
  {
   "cell_type": "code",
   "execution_count": 12,
   "metadata": {
    "collapsed": true
   },
   "outputs": [],
   "source": [
    "def var_type(decl_type):\n",
    "    if hasattr(decl_type, 'CPPNAME'):\n",
    "        return(ctypes_cppname(decl_type.CPPNAME))\n",
    "    if pygccxml.declarations.is_array(decl_type):\n",
    "        if hasattr(decl_type.base, \"CPPNAME\"):\n",
    "            ctype = ctypes_cppname(decl_type.base.CPPNAME)\n",
    "        elif isinstance(decl_type.base, pygccxml.declarations.cpptypes.declarated_t):\n",
    "            ctype = decl_type.decl_string.split(\":\")[-1]\n",
    "        return \"{}*{}\".format(ctype.base, decl_type.size)\n",
    "    if pygccxml.declarations.is_pointer(decl_type):\n",
    "        return \"ctypes.POINTER({})\".format(var_type(declarations.remove_pointer(decl_type)))\n",
    "    if pygccxml.declarations.is_volatile(decl_type):\n",
    "        return \"{}\".format(var_type(declarations.remove_volatile(decl_type)))\n",
    "    if pygccxml.declarations.is_const(decl_type):\n",
    "        return \"{}\".format(var_type(declarations.remove_const(decl_type)))\n",
    "    if isinstance(decl_type, pygccxml.declarations.cpptypes.declarated_t):\n",
    "        return decl_type.decl_string.split(\":\")[-1]\n",
    "    raise Exception(decl_type)\n",
    "    \n",
    "def struct_tdef(struct, ns):\n",
    "    for tdef in ns.typedefs():\n",
    "        try:\n",
    "            if tdef.decl_type.declaration == struct:\n",
    "                return tdef.name\n",
    "        except:\n",
    "            continue\n",
    "    return None"
   ]
  },
  {
   "cell_type": "code",
   "execution_count": 13,
   "metadata": {
    "collapsed": true
   },
   "outputs": [],
   "source": [
    "class tag_RTM_dllModel2_T(ctypes.Structure):\n",
    "    class Timing(ctypes.Structure):\n",
    "        __fields_ = [\n",
    "            ('tockTick0', uint32_T),\n",
    "            (\"tockTickH0\", uint32_T)\n",
    "        ]\n",
    "    _fields_ = [\n",
    "        (\"errorStatus\", ctypes.POINTER(ctypes.c_char)),\n",
    "        (\"Timing\", Timing)\n",
    "    ]"
   ]
  },
  {
   "cell_type": "code",
   "execution_count": 14,
   "metadata": {},
   "outputs": [
    {
     "ename": "NameError",
     "evalue": "name 'ns' is not defined",
     "output_type": "error",
     "traceback": [
      "\u001b[1;31m---------------------------------------------------------------------------\u001b[0m",
      "\u001b[1;31mNameError\u001b[0m                                 Traceback (most recent call last)",
      "\u001b[1;32m<ipython-input-14-205ab51e7e36>\u001b[0m in \u001b[0;36m<module>\u001b[1;34m()\u001b[0m\n\u001b[1;32m----> 1\u001b[1;33m \u001b[0mexterns\u001b[0m \u001b[1;33m=\u001b[0m \u001b[0mns\u001b[0m\u001b[1;33m.\u001b[0m\u001b[0mvariables\u001b[0m\u001b[1;33m(\u001b[0m\u001b[1;32mlambda\u001b[0m \u001b[0mv\u001b[0m\u001b[1;33m:\u001b[0m \u001b[0mv\u001b[0m\u001b[1;33m.\u001b[0m\u001b[0mtype_qualifiers\u001b[0m\u001b[1;33m.\u001b[0m\u001b[0mhas_extern\u001b[0m\u001b[1;33m)\u001b[0m\u001b[1;33m\u001b[0m\u001b[0m\n\u001b[0m\u001b[0;32m      2\u001b[0m \u001b[1;32mfor\u001b[0m \u001b[0mextern\u001b[0m \u001b[1;32min\u001b[0m \u001b[0mexterns\u001b[0m\u001b[1;33m:\u001b[0m\u001b[1;33m\u001b[0m\u001b[0m\n\u001b[0;32m      3\u001b[0m \u001b[1;31m#    extern_type = extern.decl_type.declaration.name\u001b[0m\u001b[1;33m\u001b[0m\u001b[1;33m\u001b[0m\u001b[0m\n\u001b[0;32m      4\u001b[0m     \u001b[0mprint\u001b[0m\u001b[1;33m(\u001b[0m\u001b[1;34m\"{} = {}.in_dll(dll, '{}')\"\u001b[0m\u001b[1;33m.\u001b[0m\u001b[0mformat\u001b[0m\u001b[1;33m(\u001b[0m\u001b[0mextern\u001b[0m\u001b[1;33m.\u001b[0m\u001b[0mname\u001b[0m\u001b[1;33m,\u001b[0m \u001b[0mvar_type\u001b[0m\u001b[1;33m(\u001b[0m\u001b[0mextern\u001b[0m\u001b[1;33m.\u001b[0m\u001b[0mdecl_type\u001b[0m\u001b[1;33m)\u001b[0m\u001b[1;33m,\u001b[0m \u001b[0mextern\u001b[0m\u001b[1;33m.\u001b[0m\u001b[0mname\u001b[0m\u001b[1;33m)\u001b[0m\u001b[1;33m)\u001b[0m\u001b[1;33m\u001b[0m\u001b[0m\n",
      "\u001b[1;31mNameError\u001b[0m: name 'ns' is not defined"
     ]
    }
   ],
   "source": [
    "externs = ns.variables(lambda v: v.type_qualifiers.has_extern)\n",
    "for extern in externs:\n",
    "#    extern_type = extern.decl_type.declaration.name\n",
    "    print(\"{} = {}.in_dll(dll, '{}')\".format(extern.name, var_type(extern.decl_type), extern.name))"
   ]
  },
  {
   "cell_type": "code",
   "execution_count": 15,
   "metadata": {
    "collapsed": true
   },
   "outputs": [],
   "source": [
    "class Timing(ctypes.Structure):\n",
    "    _fields_ = [     \n",
    "        (\"clockTick0\", uint32_T),\n",
    "        (\"clockTickH0\", uint32_T),   \n",
    "    ]\n",
    "\n",
    "class tag_RTM_dllModel2_T(ctypes.Structure):\n",
    "    _fields_ = [\n",
    "        (\"errorStatus\", ctypes.POINTER(ctypes.c_char)),\n",
    "        (\"Timing\", Timing),\n",
    "    ]"
   ]
  },
  {
   "cell_type": "code",
   "execution_count": 16,
   "metadata": {
    "collapsed": true
   },
   "outputs": [],
   "source": [
    "def vardump(var):\n",
    "    fields = dir(var)\n",
    "    for field in fields:\n",
    "        if field.startswith(\"_\"):\n",
    "            continue\n",
    "        try:\n",
    "            f = getattr(var, field)\n",
    "        except:\n",
    "            continue\n",
    "        try:\n",
    "            print(\"{}(): {}\".format(field, f()))\n",
    "        except:\n",
    "            try:\n",
    "                print(\"{}: {}<{}>\".format(field, type(f), f))\n",
    "            except:\n",
    "                pass"
   ]
  },
  {
   "cell_type": "code",
   "execution_count": null,
   "metadata": {
    "collapsed": true
   },
   "outputs": [],
   "source": []
  },
  {
   "cell_type": "code",
   "execution_count": null,
   "metadata": {
    "collapsed": true
   },
   "outputs": [],
   "source": []
  },
  {
   "cell_type": "code",
   "execution_count": null,
   "metadata": {
    "collapsed": true
   },
   "outputs": [],
   "source": []
  },
  {
   "cell_type": "code",
   "execution_count": null,
   "metadata": {
    "collapsed": true
   },
   "outputs": [],
   "source": []
  },
  {
   "cell_type": "code",
   "execution_count": null,
   "metadata": {
    "collapsed": true
   },
   "outputs": [],
   "source": []
  },
  {
   "cell_type": "code",
   "execution_count": null,
   "metadata": {
    "collapsed": true
   },
   "outputs": [],
   "source": []
  },
  {
   "cell_type": "code",
   "execution_count": null,
   "metadata": {
    "collapsed": true
   },
   "outputs": [],
   "source": []
  },
  {
   "cell_type": "code",
   "execution_count": null,
   "metadata": {
    "collapsed": true
   },
   "outputs": [],
   "source": []
  }
 ],
 "metadata": {
  "kernelspec": {
   "display_name": "Python 3",
   "language": "python",
   "name": "python3"
  },
  "language_info": {
   "codemirror_mode": {
    "name": "ipython",
    "version": 3
   },
   "file_extension": ".py",
   "mimetype": "text/x-python",
   "name": "python",
   "nbconvert_exporter": "python",
   "pygments_lexer": "ipython3",
   "version": "3.6.1"
  }
 },
 "nbformat": 4,
 "nbformat_minor": 2
}
