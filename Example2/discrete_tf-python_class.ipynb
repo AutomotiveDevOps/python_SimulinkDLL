{
 "cells": [
  {
   "cell_type": "markdown",
   "metadata": {},
   "source": [
    "# discrete_tf - Pythonize\n",
    "\n",
    "Use Python's OOP to 'pythonize' this model more.\n",
    "\n",
    "![](discrete_tf.png)"
   ]
  },
  {
   "cell_type": "markdown",
   "metadata": {},
   "source": [
    "# Python Setup"
   ]
  },
  {
   "cell_type": "code",
   "execution_count": 48,
   "metadata": {},
   "outputs": [],
   "source": [
    "import ctypes\n",
    "import os\n",
    "from rtwtypes import *"
   ]
  },
  {
   "cell_type": "code",
   "execution_count": 54,
   "metadata": {},
   "outputs": [
    {
     "data": {
      "text/plain": [
       "153633165"
      ]
     },
     "execution_count": 54,
     "metadata": {},
     "output_type": "execute_result"
    }
   ],
   "source": [
    "class DiscreteTF(object):\n",
    "    def __init__(self, model= \"discrete_tf\"):\n",
    "        self.model=model\n",
    "        self.dll_path = os.path.abspath(f\"{model}_win64.dll\")\n",
    "        self.dll = ctypes.windll.LoadLibrary(self.dll_path)\n",
    "        \n",
    "        \n",
    "        # Model entry point functions\n",
    "        self.initialize = getattr(self.dll, f\"{model}_initialize\")\n",
    "        self.init = self.initialize\n",
    "        self.step =  getattr(self.dll, f\"{model}_step\")\n",
    "        model_terminate = getattr(self.dll, f\"{model}_terminate\")\n",
    "        \n",
    "        self._output = real_T.in_dll(self.dll, 'OutputSignal')\n",
    "        self._time = real_T.in_dll(self.dll, 'SimTime')\n",
    "        \n",
    "        self._input_signal = real_T.in_dll(self.dll, 'InputSignal')\n",
    "        self._num = (real_T*2).in_dll(self.dll,  \"num\")\n",
    "        self._den = (real_T*2).in_dll(self.dll,  \"den\")\n",
    "\n",
    "    # Signals\n",
    "    @property\n",
    "    def output(self):\n",
    "        return float(self._output.value)\n",
    "        \n",
    "    @property\n",
    "    def time(self):\n",
    "        return float(self._time.value)\n",
    "    \n",
    "    # Parameters\n",
    "    @property\n",
    "    def num(self):\n",
    "        return list(mdl._num)\n",
    "    \n",
    "    @num.setter\n",
    "    def num(self, value):\n",
    "        assert len(value)==2\n",
    "        mdl._num[0]=float(value[0])\n",
    "        mdl._num[1]=float(value[1])\n",
    "\n",
    "    @property\n",
    "    def den(self):\n",
    "        return list(mdl._den)\n",
    "    \n",
    "    @den.setter\n",
    "    def den(self, value):\n",
    "        assert len(value)==2\n",
    "        mdl._den[0]=float(value[0])\n",
    "        mdl._den[1]=float(value[1])\n",
    "        \n",
    "        \n",
    "    @property\n",
    "    def input_signal(self):\n",
    "        return float(self._input_signal.value)\n",
    "\n",
    "    # a setter function \n",
    "    @input_signal.setter \n",
    "    def input_signal(self, value):\n",
    "        self._input_signal.value=value\n",
    "        \n",
    "    def __repr__(self):\n",
    "        return f\"{self.model}<{self.time}, {self.input_signal}, {self.output}>\"\n",
    "        \n",
    "mdl = DiscreteTF()\n",
    "mdl.init()"
   ]
  },
  {
   "cell_type": "code",
   "execution_count": 55,
   "metadata": {},
   "outputs": [
    {
     "data": {
      "text/plain": [
       "discrete_tf<0.0, 0.0, 0.0>"
      ]
     },
     "execution_count": 55,
     "metadata": {},
     "output_type": "execute_result"
    }
   ],
   "source": [
    "mdl"
   ]
  },
  {
   "cell_type": "code",
   "execution_count": 57,
   "metadata": {},
   "outputs": [
    {
     "data": {
      "text/plain": [
       "discrete_tf<0.001, 0.0, 0.0>"
      ]
     },
     "execution_count": 57,
     "metadata": {},
     "output_type": "execute_result"
    }
   ],
   "source": [
    "mdl.step()\n",
    "mdl"
   ]
  },
  {
   "cell_type": "code",
   "execution_count": null,
   "metadata": {},
   "outputs": [],
   "source": []
  }
 ],
 "metadata": {
  "kernelspec": {
   "display_name": "Python 3",
   "language": "python",
   "name": "python3"
  },
  "language_info": {
   "codemirror_mode": {
    "name": "ipython",
    "version": 3
   },
   "file_extension": ".py",
   "mimetype": "text/x-python",
   "name": "python",
   "nbconvert_exporter": "python",
   "pygments_lexer": "ipython3",
   "version": "3.9.1"
  }
 },
 "nbformat": 4,
 "nbformat_minor": 4
}
