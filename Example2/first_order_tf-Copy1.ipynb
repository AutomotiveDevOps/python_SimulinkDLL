{
 "cells": [
  {
   "cell_type": "markdown",
   "metadata": {},
   "source": [
    "# dllModel - Python Runner Notebook\n",
    "\n",
    "![](dllModel.png)"
   ]
  },
  {
   "cell_type": "markdown",
   "metadata": {},
   "source": [
    "# Python Setup"
   ]
  },
  {
   "cell_type": "code",
   "execution_count": null,
   "metadata": {},
   "outputs": [],
   "source": [
    "import ctypes\n",
    "from rtwtypes import *"
   ]
  },
  {
   "cell_type": "code",
   "execution_count": null,
   "metadata": {},
   "outputs": [],
   "source": [
    "import os\n",
    "dll_path = os.path.abspath('first_order_tf_win64.dll')\n",
    "dll = ctypes.windll.LoadLibrary(dll_path)\n",
    "# Model entry point functions\n",
    "model_initialize = dll.first_order_tf_initialize\n",
    "model_step = dll.first_order_tf_step\n",
    "model_terminate = dll.first_order_tf_terminate"
   ]
  },
  {
   "cell_type": "code",
   "execution_count": null,
   "metadata": {},
   "outputs": [],
   "source": [
    "InputSignal = real_T.in_dll(dll, 'InputSignal')\n",
    "num = (real_T*2).in_dll(dll,  \"num\")\n",
    "den = (real_T*2).in_dll(dll,  \"den\")"
   ]
  },
  {
   "cell_type": "code",
   "execution_count": null,
   "metadata": {},
   "outputs": [],
   "source": [
    "OutputSignal = real_T.in_dll(dll, 'OutputSignal')\n",
    "SimTime = real_T.in_dll(dll, 'SimTime')"
   ]
  },
  {
   "cell_type": "markdown",
   "metadata": {},
   "source": [
    "Validate Matlab `c2d` match Python's `control` library's implementation"
   ]
  },
  {
   "cell_type": "code",
   "execution_count": null,
   "metadata": {},
   "outputs": [],
   "source": [
    "import control\n",
    "import numpy as np\n",
    "Ts=1e-3\n",
    "sys = control.TransferFunction([3], [2, 1])\n",
    "sysd = control.c2d(sys, Ts)\n",
    "sysd"
   ]
  },
  {
   "cell_type": "code",
   "execution_count": null,
   "metadata": {},
   "outputs": [],
   "source": [
    "num[1]"
   ]
  },
  {
   "cell_type": "code",
   "execution_count": null,
   "metadata": {},
   "outputs": [],
   "source": [
    "np.isclose(num[1], sysd.num)"
   ]
  },
  {
   "cell_type": "code",
   "execution_count": null,
   "metadata": {},
   "outputs": [],
   "source": [
    "den[0]"
   ]
  },
  {
   "cell_type": "code",
   "execution_count": null,
   "metadata": {},
   "outputs": [],
   "source": [
    "np.isclose(den[:], sysd.den)"
   ]
  },
  {
   "cell_type": "markdown",
   "metadata": {},
   "source": [
    "# Running The Model.\n",
    "\n",
    "Run the model and store the step, input, output and simulation time to a pandas dataframe."
   ]
  },
  {
   "cell_type": "code",
   "execution_count": null,
   "metadata": {},
   "outputs": [],
   "source": [
    "model_initialize();\n",
    "rows = list()\n",
    "for step in range(1000):\n",
    "    row_tmp = {\n",
    "    'step': model_step(),\n",
    "    'time': float(SimTime.value),\n",
    "    'input': float(InputSignal.value),\n",
    "    'output': float(OutputSignal.value),\n",
    "    }\n",
    "    rows.append(row_tmp)"
   ]
  },
  {
   "cell_type": "code",
   "execution_count": null,
   "metadata": {},
   "outputs": [],
   "source": [
    "df = pd.DataFrame(rows)\n",
    "df"
   ]
  },
  {
   "cell_type": "markdown",
   "metadata": {},
   "source": [
    "# Running The Model Varying Inputs\n",
    "\n",
    "Generate a step response to test the transfer function."
   ]
  },
  {
   "cell_type": "code",
   "execution_count": null,
   "metadata": {},
   "outputs": [],
   "source": [
    "model_initialize();\n",
    "InputSignal.value=0.0;\n",
    "rows = list()\n",
    "for step in range(10000):\n",
    "    if step>=1000:\n",
    "        InputSignal.value=1.0\n",
    "    else:\n",
    "        InputSignal.value=0.0\n",
    "    row_tmp = {\n",
    "    'step': model_step(),\n",
    "    'time': float(SimTime.value),\n",
    "    'input': float(InputSignal.value),\n",
    "    'output': float(OutputSignal.value),\n",
    "    }\n",
    "    rows.append(row_tmp)\n",
    "df = pd.DataFrame(rows)\n",
    "df"
   ]
  },
  {
   "cell_type": "code",
   "execution_count": null,
   "metadata": {},
   "outputs": [],
   "source": [
    "df.plot(x='time', y=\"output\")"
   ]
  },
  {
   "cell_type": "code",
   "execution_count": null,
   "metadata": {},
   "outputs": [],
   "source": [
    "import matplotlib.pyplot as plt\n",
    "import numpy as np"
   ]
  },
  {
   "cell_type": "code",
   "execution_count": null,
   "metadata": {},
   "outputs": [],
   "source": [
    "control.bode(sysd);"
   ]
  },
  {
   "cell_type": "markdown",
   "metadata": {},
   "source": [
    "# Sinewave Input\n",
    "\n",
    "Generate a sinewave with ``numpy``. Plot the input and output of the transfer function with ``pandas``."
   ]
  },
  {
   "cell_type": "code",
   "execution_count": null,
   "metadata": {},
   "outputs": [],
   "source": [
    "model_initialize();\n",
    "rows = list()\n",
    "for step in range(int(10*1e3)):\n",
    "    InputSignal.value=np.sin(2*np.pi*step/1e3)\n",
    "    row_tmp = {\n",
    "    'step': model_step(),\n",
    "    'time': float(SimTime.value),\n",
    "    'input': float(InputSignal.value),\n",
    "    'output': float(OutputSignal.value),\n",
    "    }\n",
    "    rows.append(row_tmp)\n",
    "df = pd.DataFrame(rows)\n",
    "df.plot(x='time', y=[\"input\", \"output\"])"
   ]
  },
  {
   "cell_type": "code",
   "execution_count": null,
   "metadata": {},
   "outputs": [],
   "source": []
  }
 ],
 "metadata": {
  "kernelspec": {
   "display_name": "Python 3",
   "language": "python",
   "name": "python3"
  },
  "language_info": {
   "codemirror_mode": {
    "name": "ipython",
    "version": 3
   },
   "file_extension": ".py",
   "mimetype": "text/x-python",
   "name": "python",
   "nbconvert_exporter": "python",
   "pygments_lexer": "ipython3",
   "version": "3.9.1"
  }
 },
 "nbformat": 4,
 "nbformat_minor": 4
}
