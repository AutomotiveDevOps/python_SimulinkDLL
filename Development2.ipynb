{
 "cells": [
  {
   "cell_type": "code",
   "execution_count": 2,
   "metadata": {
    "collapsed": true
   },
   "outputs": [],
   "source": [
    "import os\n",
    "import sys\n",
    "import pygccxml\n",
    "\n",
    "from pygccxml import utils\n",
    "from pygccxml import declarations\n",
    "from pygccxml import parser\n",
    "import ctypes\n",
    "import os\n",
    "\n",
    "\n",
    "file = open('dllModel.py', 'w')"
   ]
  },
  {
   "cell_type": "code",
   "execution_count": 4,
   "metadata": {},
   "outputs": [],
   "source": [
    "build_root = os.path.abspath(os.path.join(os.curdir, \"Example\"))\n",
    "model = \"dllModel\"\n",
    "\n",
    "dll = os.path.join(build_root, model+\"_win64.dll\")\n",
    "header = os.path.join(build_root, model+\"_ert_shrlib_rtw\", model+\".h\")\n",
    "\n",
    "assert os.path.exists(dll)\n",
    "assert os.path.exists(header)"
   ]
  },
  {
   "cell_type": "code",
   "execution_count": 5,
   "metadata": {
    "collapsed": true
   },
   "outputs": [],
   "source": [
    "# Setup castxml.\n",
    "cast_xml_root = os.path.abspath(os.path.join(os.path.curdir, 'castxml'))"
   ]
  },
  {
   "cell_type": "code",
   "execution_count": 6,
   "metadata": {
    "collapsed": true
   },
   "outputs": [],
   "source": [
    "# Configure the xml generator\n",
    "xml_generator_config = parser.xml_generator_configuration_t(\n",
    "    xml_generator_path=r\"castxml\\bin\\castxml.exe\",\n",
    "    xml_generator=\"castxml\",\n",
    "    compiler_path=r\"C:\\MATLAB\\SupportPackages\\R2015b\\MW_MinGW_4_9\\bin\\gcc.exe\")"
   ]
  },
  {
   "cell_type": "code",
   "execution_count": 7,
   "metadata": {},
   "outputs": [
    {
     "name": "stderr",
     "output_type": "stream",
     "text": [
      "INFO Parsing source file \"C:\\Projects\\python_SimulinkDLL\\Example\\dllModel_ert_shrlib_rtw\\dllModel.h\" ... \n"
     ]
    }
   ],
   "source": [
    "decls = parser.parse([header], xml_generator_config)\n",
    "ns = decls[0]"
   ]
  },
  {
   "cell_type": "code",
   "execution_count": 8,
   "metadata": {
    "collapsed": true
   },
   "outputs": [],
   "source": [
    "def ctypes_cppname(CPPNAME):\n",
    "    \"\"\"convert a CPPNAME field to a ctypes type.\"\"\"\n",
    "    \n",
    "    # If the CPPNAME ends with a capital _T then it is a Simulink type (but still defined in the field CPPNAME)\n",
    "    # Return this as is for use when called in other functions.\n",
    "    if CPPNAME.endswith('_T'):\n",
    "        return CPPNAME\n",
    "    # Current specified Simulink types and their corresponding ctype type.\n",
    "    type_map = {'long long int': 'c_longlong',\n",
    "                'long long unsigned int': 'c_ulonglong',\n",
    "                'short unsigned int': 'c_ushort',\n",
    "                'int': 'c_int',\n",
    "                'unsigned int': 'c_uint',\n",
    "                'long int': 'c_long',\n",
    "                'long unsigned int': 'c_ulong',\n",
    "                'char': 'c_char',\n",
    "                'char': 'c_char',\n",
    "                'signed char': 'c_byte',\n",
    "                'unsigned char': 'c_ubyte',\n",
    "                'float': 'c_float',\n",
    "                'double': 'c_double',\n",
    "                'short int': 'c_short'}\n",
    "    # Loop through the simulink definitions and return if found.\n",
    "    for cppname, ctype in type_map.items():\n",
    "        if cppname == CPPNAME:\n",
    "            # Return ctypes.+ for explicitness and to maintain the namespaces.\n",
    "            return \"ctypes.\"+ctype\n",
    "    # If we make it this far raise an exception and investigate the CPPNAME.\n",
    "    # Fix the function or add another type to the type_map.\n",
    "    raise(Exception(\"Unhandled data type: \"+CPPNAME))\n",
    "\n",
    "def var_type(decl_type):\n",
    "    # If the type has a CPPNAME, just return that type.\n",
    "    if hasattr(decl_type, 'CPPNAME'):\n",
    "        return(ctypes_cppname(decl_type.CPPNAME))\n",
    "    # If the type is an array\n",
    "    if pygccxml.declarations.is_array(decl_type):\n",
    "        # And has a CPP Type\n",
    "        if hasattr(decl_type.base, \"CPPNAME\"):\n",
    "            # Get the base type.\n",
    "            ctype = ctypes_cppname(decl_type.base.CPPNAME)\n",
    "            # And return that type by the size:\n",
    "            return \"{}*{}\".format(ctype.base, decl_type.size)\n",
    "        elif isinstance(decl_type.base, pygccxml.declarations.cpptypes.declarated_t):\n",
    "            # If it's a declared type, split the type string off.\n",
    "            ctype = decl_type.base.decl_string.split(\":\")[-1]\n",
    "            return \"{}*{}\".format(ctype, decl_type.size)\n",
    "    # If it's a pointer:\n",
    "    if pygccxml.declarations.is_pointer(decl_type):\n",
    "        # Remove the pointer reference and get the variable type recursively.\n",
    "        return \"ctypes.POINTER({})\".format(var_type(declarations.remove_pointer(decl_type)))\n",
    "    # IF it's a volatile type:\n",
    "    if pygccxml.declarations.is_volatile(decl_type):\n",
    "        # Remove the volatile and get the variable type recursively.\n",
    "        return \"{}\".format(var_type(declarations.remove_volatile(decl_type)))\n",
    "    # If it's a const....\n",
    "    if pygccxml.declarations.is_const(decl_type):\n",
    "        return \"{}\".format(var_type(declarations.remove_const(decl_type)))\n",
    "    # If it's just a declared type.\n",
    "    if isinstance(decl_type, pygccxml.declarations.cpptypes.declarated_t):\n",
    "        # Get the type directly.\n",
    "        return decl_type.decl_string.split(\":\")[-1]\n",
    "    \n",
    "    # Throw an error if we see something we haven't seen before.\n",
    "    raise Exception(decl_type)\n",
    "    \n",
    "# Get the typedef of a structure.\n",
    "def struct_tdef(struct, ns):\n",
    "    for tdef in ns.typedefs():\n",
    "        try:\n",
    "            if tdef.decl_type.declaration == struct:\n",
    "                return tdef.name\n",
    "        except:\n",
    "            continue\n",
    "    return None   \n",
    "\n",
    "# Get the indentation.\n",
    "def istr(indent=0,offset=0):\n",
    "    return \" \"*(4*indent+offset)"
   ]
  },
  {
   "cell_type": "code",
   "execution_count": 9,
   "metadata": {
    "collapsed": true
   },
   "outputs": [],
   "source": [
    "# Print all of the standard type definitions.\n",
    "print(\"# Standard Types\", file=file)\n",
    "for typedef in ns.typedefs():\n",
    "    if hasattr(typedef.decl_type, 'CPPNAME'):\n",
    "        print(\"{} = {}\".format(typedef.name, ctypes_cppname(typedef.decl_type.CPPNAME)), file=file)"
   ]
  },
  {
   "cell_type": "code",
   "execution_count": 10,
   "metadata": {
    "collapsed": true
   },
   "outputs": [],
   "source": [
    "def print_struct(struct, file=sys.stdout, indent=0):\n",
    "    \"\"\" Print a ctypes structure definition.\n",
    "    \"\"\"\n",
    "    # Start defining the class.\n",
    "    print(\"{}class {}(ctypes.Structure):\".format(istr(indent), struct.name), file=file)\n",
    "    # Define the fields.\n",
    "    print(\"{}_fields_ = [\".format(istr(indent+1)), file=file)\n",
    "    # For each of the variables inside the struct.\n",
    "    for var in struct.variables():\n",
    "        # Loop through and define the field name and type.\n",
    "        print(\"{}(\\\"{}\\\", {}),\".format(istr(indent+2),var.name,var_type(var.decl_type)), file=file)\n",
    "    # Close our brackets.s\n",
    "    print(\"{}]\".format(istr(indent+1)), file=file)\n",
    "\n",
    "    # Get the structure typedef\n",
    "    tdef = struct_tdef(struct, ns)\n",
    "    if tdef is not None:\n",
    "        # If it's none and doesn't match the structure name.\n",
    "        # Because of how Simulink generates the code and how CastXML reads it structures have different \n",
    "        # names than their typedef.\n",
    "        # \n",
    "        # Example: \n",
    "        #\n",
    "        # typedef struct Var_tag {\n",
    "        #     ...\n",
    "        # } Var_type;\n",
    "        # \n",
    "        # Would have a structure named Var_tag but a typedef named Var_type.\n",
    "        \n",
    "        # Create the typedef.\n",
    "        if tdef != struct.name:\n",
    "            print(\"{}{} = {}\".format(istr(indent), tdef, struct.name), file=file)"
   ]
  },
  {
   "cell_type": "code",
   "execution_count": 12,
   "metadata": {},
   "outputs": [
    {
     "name": "stdout",
     "output_type": "stream",
     "text": [
      "\n",
      "\n",
      "\n",
      "\n",
      "\n",
      "\n",
      "\n",
      "\n",
      "\n",
      "\n",
      "\n",
      "\n",
      "\n",
      "\n",
      "\n",
      "\n",
      "\n"
     ]
    }
   ],
   "source": [
    "# Get all of the defined structures.\n",
    "structs = ns.classes(lambda x: declarations.is_struct(x))\n",
    "# For each of the structures.\n",
    "for struct in structs:\n",
    "    # If the structure has no name, pass.\n",
    "    if struct.name == \"\":\n",
    "        continue\n",
    "    # If locale is in the structure name, pass (They're not any structures we can access in the DLL)\n",
    "    if 'locale' in struct.name:\n",
    "        continue\n",
    "\n",
    "    print_struct(struct, indent=0, file=file)\n",
    "    print()"
   ]
  },
  {
   "cell_type": "markdown",
   "metadata": {},
   "source": [
    "externs\n",
    "\n",
    "Only the variables defined as externs are accessible through the dll. Everything else is internal (and not accessible.)\n",
    "\n",
    "To grab a reference to the variable we access it with \"TYPE.in_dll(dll, VARIABLE_NAME)\""
   ]
  },
  {
   "cell_type": "code",
   "execution_count": 13,
   "metadata": {
    "collapsed": true,
    "scrolled": true
   },
   "outputs": [],
   "source": [
    "externs = ns.variables(lambda v: v.type_qualifiers.has_extern)\n",
    "for extern in externs:\n",
    "#    extern_type = extern.decl_type.declaration.name\n",
    "    print(\"{} = {}.in_dll(dll, '{}')\".format(extern.name, var_type(extern.decl_type), extern.name), file=file)"
   ]
  },
  {
   "cell_type": "code",
   "execution_count": 14,
   "metadata": {
    "collapsed": true
   },
   "outputs": [],
   "source": [
    "file.close()"
   ]
  },
  {
   "cell_type": "code",
   "execution_count": null,
   "metadata": {
    "collapsed": true
   },
   "outputs": [],
   "source": []
  }
 ],
 "metadata": {
  "kernelspec": {
   "display_name": "Python 3",
   "language": "python",
   "name": "python3"
  },
  "language_info": {
   "codemirror_mode": {
    "name": "ipython",
    "version": 3
   },
   "file_extension": ".py",
   "mimetype": "text/x-python",
   "name": "python",
   "nbconvert_exporter": "python",
   "pygments_lexer": "ipython3",
   "version": "3.6.1"
  }
 },
 "nbformat": 4,
 "nbformat_minor": 2
}
